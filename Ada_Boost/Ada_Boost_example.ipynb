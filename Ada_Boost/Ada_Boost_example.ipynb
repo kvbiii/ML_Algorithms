{
 "cells": [
  {
   "cell_type": "markdown",
   "metadata": {},
   "source": [
    "<h1>Import libraries<h1>"
   ]
  },
  {
   "cell_type": "code",
   "execution_count": 1,
   "metadata": {},
   "outputs": [],
   "source": [
    "from Model.Ada_Boost_Classifier_from_scratch import *\n",
    "from Model.Ada_Boost_Regressor_from_scratch import *\n",
    "from Model.Ada_Boost_optimization import *\n",
    "from Metrics.Classification_metrics import *\n",
    "from Metrics.Regression_metrics import *\n",
    "from Plots.Prediction_plots import *\n",
    "Plots_predictions = Prediction_plots()"
   ]
  },
  {
   "cell_type": "markdown",
   "metadata": {},
   "source": [
    "<h1>Explanation of AdaBoost<h1>"
   ]
  },
  {
   "cell_type": "markdown",
   "metadata": {},
   "source": [
    "$\\text{AdaBoost (Adaptive Boosting) is an algorithm that can be used for both regression and classification problems.}$<p>\n",
    "$\\text{In this case, boosting involves weighting the training dataset, placing more emphasis on observations for which previous estimators made an error.}$<p>"
   ]
  },
  {
   "cell_type": "markdown",
   "metadata": {},
   "source": [
    "<h2>Construction of AdaBoost<h2>"
   ]
  },
  {
   "cell_type": "markdown",
   "metadata": {},
   "source": [
    "$1. \\text{ Determining T - the number of estimators.}$<p><br>\n",
    "$2. \\text{ Determining the initial weights for each observation: }$\n",
    "$$w_i=\\frac{1}{N}$$\n",
    "$\\text{ Where: } N \\text{ - the number of observations in the training set.}$<p><br>\n",
    "$3. \\ for \\ t=1 \\ to \\ T:$<p>\n",
    "$\\text{a) Training the estimator: } Estimator_t \\text{ using the current weights.}$<p>\n",
    "$\\text{b) Determining the error for a given estimator:}$\n",
    "$$Error_t=\\frac{\\sum_{i=1}^{N}{w_i\\times L o s s(y_i,prediction_i)}}{\\sum_{i=1}^{N}w_i}$$\n",
    "$\\text{Where: } N \\text{ - number of observations in the training set,}$<p>\n",
    "$w_i \\text{ - weight for observation }i,$<p>\n",
    "$y_i \\text{ - the value of the explanatory variable for observation }i,$<p>\n",
    "$prediction_i \\text{ - } Estimator_t \\text{ prediction for observation }i,$<p>\n",
    "$Loss(y_i,prediction_i) \\text{ - loss function. In the case of a classification problem, it is: 1 } y_i\\neq prediction_i \\text{ and 0 for } y_i=prediction_i.$<p>\n",
    "$\\text{For regression, it can be:}$<p>\n",
    "$− `linear`: \\left|y_i-prediction_i\\right|,$<p>\n",
    "$− `square`: {(y_i-prediction_i)}^2,$<p>\n",
    "$− `exponential`: 1-e^{-y_i\\times prediction_i}$<p>\n",
    "$\\text{c) Calculation of weights for } Estimator_t:$<p>\n",
    "$$\\alpha_t=learning\\_rate\\times\\frac{1}{2}\\times\\log{\\left(\\frac{1-Error_t}{Error_t}\\right)}$$\n",
    "$\\text{Where: } learning\\_rate \\text{ - constant.}$<p>\n",
    "$\\text{d) Determination of new sample weights:}$<p>\n",
    "$$w_i=w_{i,\\ old}\\times e^{\\alpha_t\\times Loss\\left(y_i,prediction_i\\right)}$$\n",
    "$\\text{e) Normalize the weights so that their sum equals to 1:}$<p>\n",
    "$$w_i=\\frac{w_i-\\min{\\left(w\\right)}}{\\max{\\left(w\\right)}-\\min{\\left(w\\right)}}$$\n",
    "$4. \\text{Determination of predictions:}$<p>\n",
    "$$Predictions=\\begin{cases}\n",
    "                \\operatorname*{arg\\,max}_k \\ \\sum_{t=1}^{T}{\\alpha_t\\times\\mathbb{I}\\left({Estimator}_t\\left(X\\right)=k\\right)}\\rightarrow Classification \\\\ \n",
    "                Median\\ Estimator\\left(X\\right) \\rightarrow Regression\n",
    "               \\end{cases}$$"
   ]
  },
  {
   "cell_type": "markdown",
   "metadata": {},
   "source": [
    "<h3>Median estimator in regression<h3>"
   ]
  },
  {
   "cell_type": "markdown",
   "metadata": {},
   "source": [
    "$\\text{- We sort the prediction values by creating a list with the indexes of these values } (sorted\\_idx).$<p><br>\n",
    "$\\text{- Each prediction was determined by any of the estimators, so we check which estimators were responsible for the selected predictions.}$<p>\n",
    "$\\text{To do this, we use the indexes of these prediction values and create a list } (sorted\\_weights) \\text{ with the corresponding weights of the estimators.}$<p><br>\n",
    "$\\text{- We create a list } (cumulate\\_weights) \\text{ with the cumulative weights of the estimators.}$<p><br>\n",
    "$\\text{- We determine an index } (median\\_estimator\\_idx) \\text{ equal to the first value in the list of } cumulate\\_weights \\text{ satisfying the condition: }$\n",
    "$$cumulate\\_weights\\geq\\frac{\\max{\\left(cumulate\\_weights\\right)}}{2}$$\n",
    "$\\text{The above procedure ensures that even if the estimators with higher weights appeared at the beginning (they returned predictions with the lowest values), any of them could still potentially be finally selected.}$<p><br>\n",
    "$\\text{- We determine the median estimator using the sorted list and } median\\_estimator\\_idx.$<p><br>\n",
    "$\\text{- The prediction of this estimator is the prediction returned by AdaBoost Regressor.}$"
   ]
  },
  {
   "cell_type": "markdown",
   "metadata": {},
   "source": [
    "<h1>Preprocessing<h1>"
   ]
  },
  {
   "cell_type": "markdown",
   "metadata": {},
   "source": [
    "<h2>Download data<h2>"
   ]
  },
  {
   "cell_type": "code",
   "execution_count": 28,
   "metadata": {},
   "outputs": [],
   "source": [
    "data = pd.read_csv(\"Data/bank-balanced.csv\")\n",
    "X = data.drop(\"deposit\", axis=1)\n",
    "y = data[\"deposit\"]"
   ]
  },
  {
   "cell_type": "code",
   "execution_count": 29,
   "metadata": {},
   "outputs": [
    {
     "name": "stdout",
     "output_type": "stream",
     "text": [
      "Number of observations in data: 11162\n"
     ]
    },
    {
     "data": {
      "text/html": [
       "<div>\n",
       "<style scoped>\n",
       "    .dataframe tbody tr th:only-of-type {\n",
       "        vertical-align: middle;\n",
       "    }\n",
       "\n",
       "    .dataframe tbody tr th {\n",
       "        vertical-align: top;\n",
       "    }\n",
       "\n",
       "    .dataframe thead th {\n",
       "        text-align: right;\n",
       "    }\n",
       "</style>\n",
       "<table border=\"1\" class=\"dataframe\">\n",
       "  <thead>\n",
       "    <tr style=\"text-align: right;\">\n",
       "      <th></th>\n",
       "      <th>age</th>\n",
       "      <th>job</th>\n",
       "      <th>marital</th>\n",
       "      <th>education</th>\n",
       "      <th>default</th>\n",
       "      <th>balance</th>\n",
       "      <th>housing</th>\n",
       "      <th>loan</th>\n",
       "      <th>contact</th>\n",
       "      <th>day</th>\n",
       "      <th>month</th>\n",
       "      <th>duration</th>\n",
       "      <th>campaign</th>\n",
       "      <th>pdays</th>\n",
       "      <th>previous</th>\n",
       "      <th>poutcome</th>\n",
       "      <th>deposit</th>\n",
       "    </tr>\n",
       "  </thead>\n",
       "  <tbody>\n",
       "    <tr>\n",
       "      <th>0</th>\n",
       "      <td>59</td>\n",
       "      <td>admin.</td>\n",
       "      <td>married</td>\n",
       "      <td>secondary</td>\n",
       "      <td>no</td>\n",
       "      <td>2343</td>\n",
       "      <td>yes</td>\n",
       "      <td>no</td>\n",
       "      <td>unknown</td>\n",
       "      <td>5</td>\n",
       "      <td>may</td>\n",
       "      <td>1042</td>\n",
       "      <td>1</td>\n",
       "      <td>-1</td>\n",
       "      <td>0</td>\n",
       "      <td>unknown</td>\n",
       "      <td>yes</td>\n",
       "    </tr>\n",
       "    <tr>\n",
       "      <th>1</th>\n",
       "      <td>56</td>\n",
       "      <td>admin.</td>\n",
       "      <td>married</td>\n",
       "      <td>secondary</td>\n",
       "      <td>no</td>\n",
       "      <td>45</td>\n",
       "      <td>no</td>\n",
       "      <td>no</td>\n",
       "      <td>unknown</td>\n",
       "      <td>5</td>\n",
       "      <td>may</td>\n",
       "      <td>1467</td>\n",
       "      <td>1</td>\n",
       "      <td>-1</td>\n",
       "      <td>0</td>\n",
       "      <td>unknown</td>\n",
       "      <td>yes</td>\n",
       "    </tr>\n",
       "    <tr>\n",
       "      <th>2</th>\n",
       "      <td>41</td>\n",
       "      <td>technician</td>\n",
       "      <td>married</td>\n",
       "      <td>secondary</td>\n",
       "      <td>no</td>\n",
       "      <td>1270</td>\n",
       "      <td>yes</td>\n",
       "      <td>no</td>\n",
       "      <td>unknown</td>\n",
       "      <td>5</td>\n",
       "      <td>may</td>\n",
       "      <td>1389</td>\n",
       "      <td>1</td>\n",
       "      <td>-1</td>\n",
       "      <td>0</td>\n",
       "      <td>unknown</td>\n",
       "      <td>yes</td>\n",
       "    </tr>\n",
       "    <tr>\n",
       "      <th>3</th>\n",
       "      <td>55</td>\n",
       "      <td>services</td>\n",
       "      <td>married</td>\n",
       "      <td>secondary</td>\n",
       "      <td>no</td>\n",
       "      <td>2476</td>\n",
       "      <td>yes</td>\n",
       "      <td>no</td>\n",
       "      <td>unknown</td>\n",
       "      <td>5</td>\n",
       "      <td>may</td>\n",
       "      <td>579</td>\n",
       "      <td>1</td>\n",
       "      <td>-1</td>\n",
       "      <td>0</td>\n",
       "      <td>unknown</td>\n",
       "      <td>yes</td>\n",
       "    </tr>\n",
       "    <tr>\n",
       "      <th>4</th>\n",
       "      <td>54</td>\n",
       "      <td>admin.</td>\n",
       "      <td>married</td>\n",
       "      <td>tertiary</td>\n",
       "      <td>no</td>\n",
       "      <td>184</td>\n",
       "      <td>no</td>\n",
       "      <td>no</td>\n",
       "      <td>unknown</td>\n",
       "      <td>5</td>\n",
       "      <td>may</td>\n",
       "      <td>673</td>\n",
       "      <td>2</td>\n",
       "      <td>-1</td>\n",
       "      <td>0</td>\n",
       "      <td>unknown</td>\n",
       "      <td>yes</td>\n",
       "    </tr>\n",
       "  </tbody>\n",
       "</table>\n",
       "</div>"
      ],
      "text/plain": [
       "   age         job  marital  education default  balance housing loan  contact  \\\n",
       "0   59      admin.  married  secondary      no     2343     yes   no  unknown   \n",
       "1   56      admin.  married  secondary      no       45      no   no  unknown   \n",
       "2   41  technician  married  secondary      no     1270     yes   no  unknown   \n",
       "3   55    services  married  secondary      no     2476     yes   no  unknown   \n",
       "4   54      admin.  married   tertiary      no      184      no   no  unknown   \n",
       "\n",
       "   day month  duration  campaign  pdays  previous poutcome deposit  \n",
       "0    5   may      1042         1     -1         0  unknown     yes  \n",
       "1    5   may      1467         1     -1         0  unknown     yes  \n",
       "2    5   may      1389         1     -1         0  unknown     yes  \n",
       "3    5   may       579         1     -1         0  unknown     yes  \n",
       "4    5   may       673         2     -1         0  unknown     yes  "
      ]
     },
     "execution_count": 29,
     "metadata": {},
     "output_type": "execute_result"
    }
   ],
   "source": [
    "print(\"Number of observations in data: {}\".format(len(data)))\n",
    "data.head()"
   ]
  },
  {
   "cell_type": "markdown",
   "metadata": {},
   "source": [
    "<h2>Check for null data<h2>"
   ]
  },
  {
   "cell_type": "code",
   "execution_count": 30,
   "metadata": {},
   "outputs": [
    {
     "data": {
      "text/plain": [
       "age          0.0\n",
       "job          0.0\n",
       "marital      0.0\n",
       "education    0.0\n",
       "default      0.0\n",
       "balance      0.0\n",
       "housing      0.0\n",
       "loan         0.0\n",
       "contact      0.0\n",
       "day          0.0\n",
       "month        0.0\n",
       "duration     0.0\n",
       "campaign     0.0\n",
       "pdays        0.0\n",
       "previous     0.0\n",
       "poutcome     0.0\n",
       "deposit      0.0\n",
       "dtype: float64"
      ]
     },
     "execution_count": 30,
     "metadata": {},
     "output_type": "execute_result"
    }
   ],
   "source": [
    "data.isnull().sum()/len(data)"
   ]
  },
  {
   "cell_type": "markdown",
   "metadata": {},
   "source": [
    "<h2>Convert object to numeric<h2>"
   ]
  },
  {
   "cell_type": "markdown",
   "metadata": {},
   "source": [
    "$\\text{For AdaBoost we have to convert object/string features to numeric.}$<p>\n",
    "$\\text{For AdaBoost, the best option would be to use OridinalEncoding instead of OneHotEncoding because of that algorithm's problem with the curse of dimensionality}$"
   ]
  },
  {
   "cell_type": "code",
   "execution_count": 31,
   "metadata": {},
   "outputs": [],
   "source": [
    "list_of_object_features_classification = data.select_dtypes(include=\"object\").columns.tolist()\n",
    "list_of_numeric_features_classification = data.select_dtypes(exclude=\"object\").columns.tolist()\n",
    "encoder = OrdinalEncoder()\n",
    "data[list_of_object_features_classification] = encoder.fit_transform(data[list_of_object_features_classification])"
   ]
  },
  {
   "cell_type": "markdown",
   "metadata": {},
   "source": [
    "<h2>Divide our data into train and test sets<h2>"
   ]
  },
  {
   "cell_type": "code",
   "execution_count": 32,
   "metadata": {},
   "outputs": [],
   "source": [
    "target_binary = \"deposit\"\n",
    "X = data.drop(target_binary, axis=1)\n",
    "y = data[[target_binary]]\n",
    "X_train, X_test, y_train, y_test = train_test_split(X, y, shuffle=True, random_state=17, test_size=0.2)"
   ]
  },
  {
   "cell_type": "markdown",
   "metadata": {},
   "source": [
    "$\\text{The huge advantage of Ada Boost compared to other popular algorithms is that there is no need to scale the data.}$"
   ]
  },
  {
   "cell_type": "markdown",
   "metadata": {},
   "source": [
    "<h1>Evaluation and Visualization<h1>"
   ]
  },
  {
   "cell_type": "markdown",
   "metadata": {},
   "source": [
    "$\\text{To verify how well our algorithms are able to perform, a cross-validation will be used on the training set (in order to average the results obtained).}$<p>\n",
    "$\\text{Then we will check whether the algorithms will perform equally well (or even better) on the test data.}$"
   ]
  },
  {
   "cell_type": "code",
   "execution_count": 33,
   "metadata": {},
   "outputs": [],
   "source": [
    "class Cross_Validation():\n",
    "    def __init__(self, metric, algorithm_instance, cross_validation_instance):\n",
    "        metrics = {\"accuracy\": [lambda y, y_pred: accuracy_score(y, y_pred), \"preds\"],\n",
    "                    \"roc_auc\": [lambda y, y_pred: roc_auc_score(y, y_pred), \"probs\"],\n",
    "                    \"mse\": [lambda y, y_pred: mean_squared_error(y, y_pred), \"preds\"],\n",
    "                    \"rmse\": [lambda y, y_pred: mean_squared_error(y, y_pred)**0.5, \"preds\"],\n",
    "                    \"mae\": [lambda y, y_pred: mean_absolute_error(y, y_pred), \"preds\"]}\n",
    "        if metric not in metrics:\n",
    "            raise ValueError('Unsupported metric: {}'.format(metric))\n",
    "        self.eval_metric = metrics[metric][0]\n",
    "        self.metric_type = metrics[metric][1]\n",
    "        self.algorithm = algorithm_instance\n",
    "        self.cv = cross_validation_instance\n",
    "    \n",
    "    def fit(self, X, y, verbose=False):\n",
    "        X = self.check_X(X=X)\n",
    "        y = self.check_y(y=y)\n",
    "        self.train_scores, self.valid_scores = [], []\n",
    "        for iter, (train_idx, valid_idx) in enumerate(self.cv.split(X, y)):\n",
    "            X_train, X_valid = X[train_idx, :], X[valid_idx, :]\n",
    "            y_train, y_valid = y[train_idx], y[valid_idx]\n",
    "            self.algorithm.fit(X_train, y_train)\n",
    "            if(self.metric_type == \"preds\"):\n",
    "                y_train_pred = self.algorithm.predict(X_train)\n",
    "                y_valid_pred = self.algorithm.predict(X_valid)\n",
    "            else:\n",
    "                y_train_pred = self.algorithm.predict_proba(X_train)[:, 1]\n",
    "                y_valid_pred = self.algorithm.predict_proba(X_valid)[:, 1]\n",
    "            self.train_scores.append(self.eval_metric(y_train, y_train_pred))\n",
    "            self.valid_scores.append(self.eval_metric(y_valid, y_valid_pred))\n",
    "            if(verbose == True):\n",
    "                print(\"Iter {}: train scores: {}; valid scores: {}\".format(iter, np.round(self.eval_metric(y_train, y_train_pred), 5), np.round(self.eval_metric(y_valid, y_valid_pred), 5)))\n",
    "        return np.mean(self.train_scores), np.mean(self.valid_scores)\n",
    "    \n",
    "    def check_X(self, X):\n",
    "        if not isinstance(X, pd.DataFrame) and not isinstance(X, np.ndarray) and not torch.is_tensor(X):\n",
    "            raise TypeError('Wrong type of X. It should be dataframe, numpy array or torch tensor.')\n",
    "        X = np.array(X)\n",
    "        if(X.ndim == 1):\n",
    "            X = X[None, :]\n",
    "        return X\n",
    "    \n",
    "    def check_y(self, y):\n",
    "        if not isinstance(y, pd.DataFrame) and not isinstance(y, pd.Series) and not isinstance(y, np.ndarray) and not torch.is_tensor(y):\n",
    "            raise TypeError('Wrong type of y. It should be pandas DataFrame, pandas Series, numpy array or torch tensor.')\n",
    "        y = np.array(y)\n",
    "        if(y.ndim == 2):\n",
    "            y = y.squeeze()\n",
    "        return y"
   ]
  },
  {
   "cell_type": "code",
   "execution_count": 34,
   "metadata": {},
   "outputs": [
    {
     "name": "stdout",
     "output_type": "stream",
     "text": [
      "Iter 0: train scores: 0.90201; valid scores: 0.89116\n",
      "Iter 1: train scores: 0.90225; valid scores: 0.8969\n",
      "Iter 2: train scores: 0.90196; valid scores: 0.90306\n",
      "Iter 3: train scores: 0.90063; valid scores: 0.88491\n",
      "Iter 4: train scores: 0.90347; valid scores: 0.89624\n",
      "Mean of train scores: 0.90206; Mean of valid scores: 0.89445\n"
     ]
    }
   ],
   "source": [
    "model = Ada_Boost_Classifier(n_estimators=50, learning_rate=1.0, random_state=17)\n",
    "CV = Cross_Validation(metric=\"roc_auc\", algorithm_instance=model, cross_validation_instance=KFold(n_splits=5, shuffle=True, random_state=17))\n",
    "mean_of_train_scores, mean_of_valid_scores = CV.fit(X=X_train, y=y_train, verbose=True)\n",
    "print(\"Mean of train scores: {}; Mean of valid scores: {}\".format(np.round(mean_of_train_scores, 5), np.round(mean_of_valid_scores, 5)))"
   ]
  },
  {
   "cell_type": "markdown",
   "metadata": {},
   "source": [
    "$\\text{As we can see our algorithm performs really well on training and validation dataset.}$"
   ]
  },
  {
   "cell_type": "markdown",
   "metadata": {},
   "source": [
    "$\\text{Check the results for original test dataset.}$"
   ]
  },
  {
   "cell_type": "code",
   "execution_count": 35,
   "metadata": {},
   "outputs": [
    {
     "name": "stdout",
     "output_type": "stream",
     "text": [
      "AdaBoost Classifier: Train: 0.9045; Test: 0.899\n"
     ]
    }
   ],
   "source": [
    "model = Ada_Boost_Classifier(n_estimators=50, learning_rate=1.0, random_state=17)\n",
    "model.fit(X_train, y_train)\n",
    "y_prob_train = model.predict_proba(X_train)[:,1]\n",
    "y_prob_test = model.predict_proba(X_test)[:,1]\n",
    "print(\"AdaBoost Classifier: Train: {}; Test: {}\".format(np.round(roc_auc_score(y_train, y_prob_train), 4), np.round(roc_auc_score(y_test, y_prob_test), 4)))"
   ]
  },
  {
   "cell_type": "markdown",
   "metadata": {},
   "source": [
    "$\\text{Write down predictions for the future}$"
   ]
  },
  {
   "cell_type": "code",
   "execution_count": 36,
   "metadata": {},
   "outputs": [],
   "source": [
    "base_predictions = model.predict(X_test)\n",
    "base_probabilities = model.predict_proba(X_test)[:, 1]"
   ]
  },
  {
   "cell_type": "markdown",
   "metadata": {},
   "source": [
    "$\\text{We will try to tune hyperparameters to see whether we can improve accuracy.}$"
   ]
  },
  {
   "cell_type": "markdown",
   "metadata": {},
   "source": [
    "<h1>Optimization<h1>"
   ]
  },
  {
   "cell_type": "markdown",
   "metadata": {},
   "source": [
    "$\\text{There are not many parameters in AdaBoost that we can tune, but let's start with } estimator.$<p>\n",
    "$\\text{In AdaBoost we are able to use various weak learners.}$<p>\n",
    "$\\text{We will check which one is the best from: [Decision Tree, Logistic Regression, GaussianNB].}$"
   ]
  },
  {
   "cell_type": "code",
   "execution_count": 37,
   "metadata": {},
   "outputs": [
    {
     "name": "stdout",
     "output_type": "stream",
     "text": [
      "estimator: DecisionTreeClassifier(max_depth=1, random_state=17); Mean of train scores: 0.90492; Mean of valid scores: 0.89479\n",
      "estimator: LogisticRegression(max_iter=1000, random_state=17); Mean of train scores: 0.86165; Mean of valid scores: 0.86034\n",
      "estimator: GaussianNB(); Mean of train scores: 0.71424; Mean of valid scores: 0.71077\n"
     ]
    }
   ],
   "source": [
    "from sklearn.linear_model import LogisticRegression\n",
    "from sklearn.naive_bayes import GaussianNB\n",
    "model = AdaBoostClassifier(random_state=17)\n",
    "CV = Cross_Validation_Ada_Boost_optimization(metric=\"roc_auc\", algorithm_instance=model, cross_validation_instance=KFold(n_splits=5, shuffle=True, random_state=17))\n",
    "for estimator in [DecisionTreeClassifier(max_depth=1, random_state=17), LogisticRegression(random_state=17, max_iter=1000), GaussianNB()]:\n",
    "    mean_of_train_scores, mean_of_valid_scores = CV.fit(X=X_train, y=y_train, verbose=False, estimator=estimator)\n",
    "    print(\"estimator: {}; Mean of train scores: {}; Mean of valid scores: {}\".format(estimator, np.round(mean_of_train_scores, 5), np.round(mean_of_valid_scores, 5)))"
   ]
  },
  {
   "cell_type": "markdown",
   "metadata": {},
   "source": [
    "$\\text{Best base estimator is DecisionTree.}$"
   ]
  },
  {
   "cell_type": "markdown",
   "metadata": {},
   "source": [
    "$n\\_estimators \\ [int] \\text{: specifying the number of estimators used in building the AdaBoost.}$<p>\n",
    "$\\text{A larger number of estimators reduces the likelihood of overfitting (better averaging/more models considered for voting)}$<p>\n",
    "$\\text{On the other hand, larger number of estimators leads to more models to train, i.e. longer compilation time.}$<p>\n",
    "$\\text{As a rule, a value of 50 should be sufficient, but an optimal value can be found through cross-validation.}$"
   ]
  },
  {
   "cell_type": "code",
   "execution_count": 38,
   "metadata": {},
   "outputs": [
    {
     "name": "stdout",
     "output_type": "stream",
     "text": [
      "n_estimators: 10; Mean of train scores: 0.86869; Mean of valid scores: 0.86113\n",
      "n_estimators: 60; Mean of train scores: 0.90723; Mean of valid scores: 0.89666\n",
      "n_estimators: 110; Mean of train scores: 0.91289; Mean of valid scores: 0.9\n",
      "n_estimators: 160; Mean of train scores: 0.91573; Mean of valid scores: 0.90138\n",
      "n_estimators: 210; Mean of train scores: 0.91783; Mean of valid scores: 0.90228\n",
      "n_estimators: 260; Mean of train scores: 0.91948; Mean of valid scores: 0.90225\n",
      "n_estimators: 310; Mean of train scores: 0.92086; Mean of valid scores: 0.90256\n",
      "n_estimators: 360; Mean of train scores: 0.92184; Mean of valid scores: 0.90311\n",
      "n_estimators: 410; Mean of train scores: 0.92283; Mean of valid scores: 0.90295\n",
      "n_estimators: 460; Mean of train scores: 0.92356; Mean of valid scores: 0.90305\n",
      "n_estimators: 510; Mean of train scores: 0.92434; Mean of valid scores: 0.9025\n",
      "n_estimators: 560; Mean of train scores: 0.92496; Mean of valid scores: 0.90213\n",
      "n_estimators: 610; Mean of train scores: 0.92556; Mean of valid scores: 0.90221\n",
      "n_estimators: 660; Mean of train scores: 0.92613; Mean of valid scores: 0.9021\n",
      "n_estimators: 710; Mean of train scores: 0.92674; Mean of valid scores: 0.9019\n",
      "n_estimators: 760; Mean of train scores: 0.92719; Mean of valid scores: 0.90182\n"
     ]
    }
   ],
   "source": [
    "model = AdaBoostClassifier(random_state=17, estimator=DecisionTreeClassifier(max_depth=1, random_state=17))\n",
    "CV = Cross_Validation_Ada_Boost_optimization(metric=\"roc_auc\", algorithm_instance=model, cross_validation_instance=KFold(n_splits=5, shuffle=True, random_state=17))\n",
    "for n_estimators in range(10, 800, 50):\n",
    "    mean_of_train_scores, mean_of_valid_scores = CV.fit(X=X_train, y=y_train, verbose=False, n_estimators=n_estimators)\n",
    "    print(\"n_estimators: {}; Mean of train scores: {}; Mean of valid scores: {}\".format(n_estimators, np.round(mean_of_train_scores, 5), np.round(mean_of_valid_scores, 5)))"
   ]
  },
  {
   "cell_type": "markdown",
   "metadata": {},
   "source": [
    "$\\text{We see that as we increase the number of estimators in the AdaBoost, our algorithm gets better results.}$<p>\n",
    "$\\text{However, from the level of } n\\_estimators=350 \\text{ we can see a exacerbation, for this reason value of 350 will be used in further optimization.}$"
   ]
  },
  {
   "cell_type": "markdown",
   "metadata": {},
   "source": [
    "$learning\\_rate \\ [float]: \\text{ controls the loss function used for calculating the weight of the estimators.}$"
   ]
  },
  {
   "cell_type": "code",
   "execution_count": 39,
   "metadata": {},
   "outputs": [
    {
     "name": "stdout",
     "output_type": "stream",
     "text": [
      "learning_rate: 0.01; Mean of train scores: 0.86256; Mean of valid scores: 0.85897\n",
      "learning_rate: 0.17555555555555558; Mean of train scores: 0.9096; Mean of valid scores: 0.90184\n",
      "learning_rate: 0.34111111111111114; Mean of train scores: 0.91396; Mean of valid scores: 0.9034\n",
      "learning_rate: 0.5066666666666667; Mean of train scores: 0.91606; Mean of valid scores: 0.90255\n",
      "learning_rate: 0.6722222222222223; Mean of train scores: 0.91808; Mean of valid scores: 0.90287\n",
      "learning_rate: 0.8377777777777778; Mean of train scores: 0.91991; Mean of valid scores: 0.90318\n",
      "learning_rate: 1.0033333333333334; Mean of train scores: 0.92196; Mean of valid scores: 0.90346\n",
      "learning_rate: 1.1688888888888889; Mean of train scores: 0.9233; Mean of valid scores: 0.90274\n",
      "learning_rate: 1.3344444444444445; Mean of train scores: 0.92555; Mean of valid scores: 0.90301\n",
      "learning_rate: 1.5; Mean of train scores: 0.92715; Mean of valid scores: 0.90125\n"
     ]
    }
   ],
   "source": [
    "model = AdaBoostClassifier(random_state=17, estimator=DecisionTreeClassifier(max_depth=1, random_state=17), n_estimators=350)\n",
    "CV = Cross_Validation_Ada_Boost_optimization(metric=\"roc_auc\", algorithm_instance=model, cross_validation_instance=KFold(n_splits=5, shuffle=True, random_state=17))\n",
    "for learning_rate in np.linspace(0.01, 1.5, 10):\n",
    "    mean_of_train_scores, mean_of_valid_scores = CV.fit(X=X_train, y=y_train, verbose=False, learning_rate=learning_rate)\n",
    "    print(\"learning_rate: {}; Mean of train scores: {}; Mean of valid scores: {}\".format(learning_rate, np.round(mean_of_train_scores, 5), np.round(mean_of_valid_scores, 5)))"
   ]
  },
  {
   "cell_type": "markdown",
   "metadata": {},
   "source": [
    "$\\text{Best results are obtained for } learning\\_rate=1.0$"
   ]
  },
  {
   "cell_type": "markdown",
   "metadata": {},
   "source": [
    "<h1>Evaluation<h1>"
   ]
  },
  {
   "cell_type": "code",
   "execution_count": 40,
   "metadata": {},
   "outputs": [
    {
     "name": "stdout",
     "output_type": "stream",
     "text": [
      "Balance accuracy score: 0.82186\n",
      "Roc AUC score: 0.89898\n",
      "+--------------+-------------+----------+------------+-------------+\n",
      "|              |   precision |   recall |   f1-score |     support |\n",
      "|--------------+-------------+----------+------------+-------------|\n",
      "| 0.0          |    0.82646  | 0.831461 |   0.828953 | 1157        |\n",
      "| 1.0          |    0.817587 | 0.812268 |   0.814918 | 1076        |\n",
      "| accuracy     |    0.822212 | 0.822212 |   0.822212 |    0.822212 |\n",
      "| macro avg    |    0.822024 | 0.821864 |   0.821936 | 2233        |\n",
      "| weighted avg |    0.822184 | 0.822212 |   0.82219  | 2233        |\n",
      "+--------------+-------------+----------+------------+-------------+\n"
     ]
    }
   ],
   "source": [
    "print(\"Balance accuracy score: {}\".format(np.round(balanced_accuracy_score(y_true=y_test, y_pred=base_predictions), 5)))\n",
    "print(\"Roc AUC score: {}\".format(np.round(roc_auc_score(y_true=y_test, y_score=base_probabilities), 5)))\n",
    "report = classification_report(y_test, base_predictions, output_dict=True)\n",
    "df = pd.DataFrame(report).transpose()\n",
    "print(tabulate(df, headers=\"keys\", tablefmt = 'psql'))"
   ]
  },
  {
   "cell_type": "code",
   "execution_count": 41,
   "metadata": {},
   "outputs": [
    {
     "data": {
      "image/png": "[encoded data removed]"
     },
     "metadata": {},
     "output_type": "display_data"
    }
   ],
   "source": [
    "Plots_predictions.roc_auc_plot(y_true=y_test, y_prob=base_probabilities)"
   ]
  },
  {
   "cell_type": "markdown",
   "metadata": {},
   "source": [
    "$\\text{Final estimator: } estimator=DecisionTreeClassifier(max\\_depth=1), \\ n\\_estimators=350, \\ learning\\_rate=1.0$"
   ]
  },
  {
   "cell_type": "code",
   "execution_count": 42,
   "metadata": {},
   "outputs": [
    {
     "name": "stdout",
     "output_type": "stream",
     "text": [
      "Balance accuracy score: 0.81952\n",
      "Roc AUC score: 0.90179\n",
      "+--------------+-------------+----------+------------+-------------+\n",
      "|              |   precision |   recall |   f1-score |     support |\n",
      "|--------------+-------------+----------+------------+-------------|\n",
      "| 0.0          |    0.815526 | 0.844425 |   0.829724 | 1157        |\n",
      "| 1.0          |    0.826087 | 0.79461  |   0.810043 | 1076        |\n",
      "| accuracy     |    0.820421 | 0.820421 |   0.820421 |    0.820421 |\n",
      "| macro avg    |    0.820806 | 0.819517 |   0.819883 | 2233        |\n",
      "| weighted avg |    0.820615 | 0.820421 |   0.82024  | 2233        |\n",
      "+--------------+-------------+----------+------------+-------------+\n"
     ]
    }
   ],
   "source": [
    "final_algorithm_optimized = AdaBoostClassifier(random_state=17, estimator=DecisionTreeClassifier(max_depth=1, random_state=17), n_estimators=350, learning_rate=1.0)\n",
    "final_algorithm_optimized.fit(X_train, np.array(y_train).squeeze())\n",
    "y_pred_final_optimized = final_algorithm_optimized.predict(X_test)\n",
    "y_prob_final_optimized = final_algorithm_optimized.predict_proba(X_test)[:, 1]\n",
    "print(\"Balance accuracy score: {}\".format(np.round(balanced_accuracy_score(y_true=y_test, y_pred=y_pred_final_optimized), 5)))\n",
    "print(\"Roc AUC score: {}\".format(np.round(roc_auc_score(y_true=y_test, y_score=y_prob_final_optimized), 5)))\n",
    "report = classification_report(y_test, y_pred_final_optimized, output_dict=True)\n",
    "df = pd.DataFrame(report).transpose()\n",
    "print(tabulate(df, headers=\"keys\", tablefmt = 'psql'))"
   ]
  },
  {
   "cell_type": "code",
   "execution_count": 43,
   "metadata": {},
   "outputs": [
    {
     "data": {
      "image/png": "[encoded data removed]"
     },
     "metadata": {},
     "output_type": "display_data"
    }
   ],
   "source": [
    "Plots_predictions.roc_auc_plot(y_true=y_test, y_prob=y_prob_final_optimized)"
   ]
  },
  {
   "cell_type": "markdown",
   "metadata": {},
   "source": [
    "$\\text{As we can see hyperparameter tuning have improved the effectiveness of the AdaBoost!}$"
   ]
  },
  {
   "cell_type": "markdown",
   "metadata": {},
   "source": [
    "<h2>AdaBoost Regressor<h2>"
   ]
  },
  {
   "cell_type": "markdown",
   "metadata": {},
   "source": [
    "<h1>Preprocessing<h1>"
   ]
  },
  {
   "cell_type": "markdown",
   "metadata": {},
   "source": [
    "<h2>Download data<h2>"
   ]
  },
  {
   "cell_type": "code",
   "execution_count": 44,
   "metadata": {},
   "outputs": [],
   "source": [
    "data = pd.read_csv(\"Data/Sales.csv\")\n",
    "X = data.drop(\"Sales\", axis=1)\n",
    "y = data[\"Sales\"]"
   ]
  },
  {
   "cell_type": "code",
   "execution_count": 45,
   "metadata": {},
   "outputs": [
    {
     "name": "stdout",
     "output_type": "stream",
     "text": [
      "Number of observations in data: 4572\n"
     ]
    },
    {
     "data": {
      "text/html": [
       "<div>\n",
       "<style scoped>\n",
       "    .dataframe tbody tr th:only-of-type {\n",
       "        vertical-align: middle;\n",
       "    }\n",
       "\n",
       "    .dataframe tbody tr th {\n",
       "        vertical-align: top;\n",
       "    }\n",
       "\n",
       "    .dataframe thead th {\n",
       "        text-align: right;\n",
       "    }\n",
       "</style>\n",
       "<table border=\"1\" class=\"dataframe\">\n",
       "  <thead>\n",
       "    <tr style=\"text-align: right;\">\n",
       "      <th></th>\n",
       "      <th>TV</th>\n",
       "      <th>Radio</th>\n",
       "      <th>Social Media</th>\n",
       "      <th>Influencer</th>\n",
       "      <th>Sales</th>\n",
       "    </tr>\n",
       "  </thead>\n",
       "  <tbody>\n",
       "    <tr>\n",
       "      <th>0</th>\n",
       "      <td>16.0</td>\n",
       "      <td>6.566231</td>\n",
       "      <td>2.907983</td>\n",
       "      <td>Mega</td>\n",
       "      <td>54.732757</td>\n",
       "    </tr>\n",
       "    <tr>\n",
       "      <th>1</th>\n",
       "      <td>13.0</td>\n",
       "      <td>9.237765</td>\n",
       "      <td>2.409567</td>\n",
       "      <td>Mega</td>\n",
       "      <td>46.677897</td>\n",
       "    </tr>\n",
       "    <tr>\n",
       "      <th>2</th>\n",
       "      <td>41.0</td>\n",
       "      <td>15.886446</td>\n",
       "      <td>2.913410</td>\n",
       "      <td>Mega</td>\n",
       "      <td>150.177829</td>\n",
       "    </tr>\n",
       "    <tr>\n",
       "      <th>3</th>\n",
       "      <td>83.0</td>\n",
       "      <td>30.020028</td>\n",
       "      <td>6.922304</td>\n",
       "      <td>Mega</td>\n",
       "      <td>298.246340</td>\n",
       "    </tr>\n",
       "    <tr>\n",
       "      <th>4</th>\n",
       "      <td>15.0</td>\n",
       "      <td>8.437408</td>\n",
       "      <td>1.405998</td>\n",
       "      <td>Micro</td>\n",
       "      <td>56.594181</td>\n",
       "    </tr>\n",
       "  </tbody>\n",
       "</table>\n",
       "</div>"
      ],
      "text/plain": [
       "     TV      Radio  Social Media Influencer       Sales\n",
       "0  16.0   6.566231      2.907983       Mega   54.732757\n",
       "1  13.0   9.237765      2.409567       Mega   46.677897\n",
       "2  41.0  15.886446      2.913410       Mega  150.177829\n",
       "3  83.0  30.020028      6.922304       Mega  298.246340\n",
       "4  15.0   8.437408      1.405998      Micro   56.594181"
      ]
     },
     "execution_count": 45,
     "metadata": {},
     "output_type": "execute_result"
    }
   ],
   "source": [
    "print(\"Number of observations in data: {}\".format(len(data)))\n",
    "data.head()"
   ]
  },
  {
   "cell_type": "markdown",
   "metadata": {},
   "source": [
    "<h2>Check for null data<h2>"
   ]
  },
  {
   "cell_type": "code",
   "execution_count": 46,
   "metadata": {},
   "outputs": [
    {
     "data": {
      "text/plain": [
       "TV              0.002187\n",
       "Radio           0.000875\n",
       "Social Media    0.001312\n",
       "Influencer      0.000000\n",
       "Sales           0.001312\n",
       "dtype: float64"
      ]
     },
     "execution_count": 46,
     "metadata": {},
     "output_type": "execute_result"
    }
   ],
   "source": [
    "data.isnull().sum()/len(data)"
   ]
  },
  {
   "cell_type": "code",
   "execution_count": 47,
   "metadata": {},
   "outputs": [],
   "source": [
    "data.dropna(inplace=True)"
   ]
  },
  {
   "cell_type": "markdown",
   "metadata": {},
   "source": [
    "<h2>Convert object to numeric<h2>"
   ]
  },
  {
   "cell_type": "code",
   "execution_count": 48,
   "metadata": {},
   "outputs": [],
   "source": [
    "list_of_object_features = data.select_dtypes(include=\"object\").columns.tolist()\n",
    "list_of_numeric_features = data.select_dtypes(exclude=\"object\").columns.tolist()\n",
    "encoder = OrdinalEncoder()\n",
    "data[list_of_object_features] = encoder.fit_transform(data[list_of_object_features])"
   ]
  },
  {
   "cell_type": "markdown",
   "metadata": {},
   "source": [
    "<h2>Divide our data into train and test sets<h2>"
   ]
  },
  {
   "cell_type": "code",
   "execution_count": 49,
   "metadata": {},
   "outputs": [],
   "source": [
    "target_binary = \"Sales\"\n",
    "X = data.drop(target_binary, axis=1)\n",
    "y = data[[target_binary]]\n",
    "X_train, X_test, y_train, y_test = train_test_split(X, y, shuffle=True, random_state=17, test_size=0.2)"
   ]
  },
  {
   "cell_type": "markdown",
   "metadata": {},
   "source": [
    "<h1>Evaluation and Visualization<h1>"
   ]
  },
  {
   "cell_type": "code",
   "execution_count": 50,
   "metadata": {},
   "outputs": [
    {
     "data": {
      "image/png": "[encoded data removed]"
     },
     "metadata": {},
     "output_type": "display_data"
    }
   ],
   "source": [
    "model = Ada_Boost_Regressor(n_estimators=50, learning_rate=1.0, loss=\"square\", random_state=17)\n",
    "model.fit(X_train, y_train)\n",
    "y_pred = model.predict(X_test)\n",
    "Plots_predictions.compare_predictions_with_real_values(y_true=y_test, y_pred=y_pred, metric=\"MSE\")"
   ]
  },
  {
   "cell_type": "markdown",
   "metadata": {},
   "source": [
    "<h2>Features importance<h2>"
   ]
  },
  {
   "cell_type": "markdown",
   "metadata": {},
   "source": [
    "$\\text{As with the random forest, the significance of the variables will be based on the estimators from which Ensemble was built.}$<p>\n",
    "$\\text{In the case of AdaBoost, the weights assigned to each estimator must also be considered, so:}$\n",
    "$$feature\\_importnace_m=\\frac{\\sum_{t\\in T}{\\alpha_t\\times f e a t u r e\\_importnace}_{m,t}}{T}$$\n",
    "$\\text{Where: } T \\text{ - the number of all estimators,}$<p>\n",
    "$alpha_t \\text{ - weight of estimator } t,$<p>\n",
    "${feature_importnace}_{m,t} \\text{ - significance of variable m for estimator }t.$"
   ]
  },
  {
   "cell_type": "code",
   "execution_count": 51,
   "metadata": {},
   "outputs": [
    {
     "data": {
      "image/png": "[encoded data removed]"
     },
     "metadata": {},
     "output_type": "display_data"
    }
   ],
   "source": [
    "Plots_predictions.plot_feature_importances(feature_importances=list(model.normalized_feature_importances.values()), column_names=X.columns.tolist())"
   ]
  },
  {
   "cell_type": "markdown",
   "metadata": {},
   "source": [
    "<h1>Comparision of AdaBoost to other boosting algorithms<h1>"
   ]
  },
  {
   "cell_type": "markdown",
   "metadata": {},
   "source": [
    "$\\text{The main difference between AdaBoost and the other popular boosting algorithms is that this algorithm uses residuals to determine the weights for each observation.}$<p>\n",
    "$\\text{In contrast, the other algorithms generally use residuals as the primary target.}$<p>\n",
    "$\\text{It is also slower than XGBoost.}$"
   ]
  }
 ],
 "metadata": {
  "kernelspec": {
   "display_name": "Python 3",
   "language": "python",
   "name": "python3"
  },
  "language_info": {
   "codemirror_mode": {
    "name": "ipython",
    "version": 3
   },
   "file_extension": ".py",
   "mimetype": "text/x-python",
   "name": "python",
   "nbconvert_exporter": "python",
   "pygments_lexer": "ipython3",
   "version": "3.11.3"
  },
  "orig_nbformat": 4
 },
 "nbformat": 4,
 "nbformat_minor": 2
}
