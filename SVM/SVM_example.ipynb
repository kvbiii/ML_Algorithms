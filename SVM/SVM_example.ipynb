{
 "cells": [
  {
   "attachments": {},
   "cell_type": "markdown",
   "metadata": {},
   "source": [
    "Import libraries"
   ]
  },
  {
   "cell_type": "code",
   "execution_count": 1,
   "metadata": {},
   "outputs": [],
   "source": [
    "from Model.svm_smo import *\n",
    "from Model.svm_plot_2D import *\n",
    "from sklearn.datasets import make_blobs\n",
    "from sklearn.model_selection import train_test_split\n",
    "from Plots.Confussion_matrix import *\n",
    "import plotly.io as pio\n",
    "pio.renderers.default = \"plotly_mimetype+notebook\""
   ]
  },
  {
   "attachments": {},
   "cell_type": "markdown",
   "metadata": {},
   "source": [
    "Create train and test sets"
   ]
  },
  {
   "cell_type": "code",
   "execution_count": 2,
   "metadata": {},
   "outputs": [],
   "source": [
    "X, y = make_blobs(n_samples=300, centers=2, random_state=17, cluster_std=2)\n",
    "X_train, X_test, y_train, y_test = train_test_split(X, y, shuffle=True, random_state=17, test_size=0.2)"
   ]
  },
  {
   "attachments": {},
   "cell_type": "markdown",
   "metadata": {},
   "source": [
    "Call created SVM_SMO model"
   ]
  },
  {
   "cell_type": "code",
   "execution_count": 3,
   "metadata": {},
   "outputs": [
    {
     "name": "stdout",
     "output_type": "stream",
     "text": [
      "Kernel: linear\n",
      "Intercept: -8.08682084071235\n",
      "Coefficient: [-1.40644744 -1.41862128]\n",
      "Number of support vectors: 34\n",
      "Iterations exceeded max_iter\n",
      "Kernel: rbf\n",
      "Intercept: 0.14533008576950138\n",
      "Number of support vectors: 193\n",
      "Kernel: poly\n",
      "Intercept: 13.959306217115667\n",
      "Number of support vectors: 123\n"
     ]
    }
   ],
   "source": [
    "kernels = [\"linear\", \"rbf\", \"poly\"]\n",
    "for i in kernels:\n",
    "    model = Support_Vector_Machines_SMO(kernel=i, C=1, degree=3, gamma=1, max_iter=500)\n",
    "    model.fit(X_train, y_train)\n",
    "    y_pred = model.predict(X_test)\n",
    "    print(\"Kernel: {}\".format(i))\n",
    "    print(\"Intercept: {}\".format(model.b))\n",
    "    try:\n",
    "        print(\"Coefficient: {}\".format(model.w))\n",
    "    except:\n",
    "        pass\n",
    "    print(\"Number of support vectors: {}\".format(len(model.support_vectors_)))"
   ]
  },
  {
   "attachments": {},
   "cell_type": "markdown",
   "metadata": {},
   "source": [
    "Confussion matrix"
   ]
  },
  {
   "cell_type": "code",
   "execution_count": 4,
   "metadata": {},
   "outputs": [],
   "source": [
    "model = Support_Vector_Machines_SMO(kernel=\"rbf\", C=1, gamma=1, max_iter=500)\n",
    "model.fit(X_train, y_train)\n",
    "y_pred_train = model.predict(X_train)\n",
    "y_pred_test = model.predict(X_test)\n",
    "print(\"TRAIN:\")\n",
    "conf_matrix(y_true=y_train, predictions=y_pred_train, normalize=True)\n",
    "print(\"TEST:\")\n",
    "conf_matrix(y_true=y_test, predictions=y_pred_test, normalize=True)"
   ]
  },
  {
   "attachments": {},
   "cell_type": "markdown",
   "metadata": {},
   "source": [
    "Because of high memory usage by plotly I decided to not run below cells but You can simply paste code in Your notebook and see charts in browser."
   ]
  },
  {
   "attachments": {},
   "cell_type": "markdown",
   "metadata": {},
   "source": [
    "Plot hyperplane of SVM for different values of C"
   ]
  },
  {
   "attachments": {},
   "cell_type": "markdown",
   "metadata": {},
   "source": [
    "Linear kernel"
   ]
  },
  {
   "cell_type": "code",
   "execution_count": null,
   "metadata": {},
   "outputs": [],
   "source": [
    "svm_plots_with_test(X_train=X_train, y_train=y_train, X_test=X_test, y_test=y_test, values=[0.01, 1, 100], param_name=\"C\", kernel=\"linear\").create_subplot()"
   ]
  },
  {
   "attachments": {},
   "cell_type": "markdown",
   "metadata": {},
   "source": [
    "Plot hyperplane of SVM for different values of gamma"
   ]
  },
  {
   "attachments": {},
   "cell_type": "markdown",
   "metadata": {},
   "source": [
    "RBF kernel"
   ]
  },
  {
   "cell_type": "code",
   "execution_count": null,
   "metadata": {},
   "outputs": [],
   "source": [
    "svm_plots_with_test(X_train=X_train, y_train=y_train, X_test=X_test, y_test=y_test, values=[0.01, 1, 100], param_name=\"gamma\", kernel=\"rbf\").create_subplot()"
   ]
  }
 ],
 "metadata": {
  "kernelspec": {
   "display_name": "Python 3",
   "language": "python",
   "name": "python3"
  },
  "language_info": {
   "codemirror_mode": {
    "name": "ipython",
    "version": 3
   },
   "file_extension": ".py",
   "mimetype": "text/x-python",
   "name": "python",
   "nbconvert_exporter": "python",
   "pygments_lexer": "ipython3",
   "version": "3.10.2"
  },
  "orig_nbformat": 4
 },
 "nbformat": 4,
 "nbformat_minor": 2
}
