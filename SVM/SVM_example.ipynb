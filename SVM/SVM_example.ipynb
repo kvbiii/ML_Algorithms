{
 "cells": [
  {
   "attachments": {},
   "cell_type": "markdown",
   "metadata": {},
   "source": [
    "Import libraries"
   ]
  },
  {
   "cell_type": "code",
   "execution_count": 1,
   "metadata": {},
   "outputs": [],
   "source": [
    "from Model.svm_smo import *\n",
    "from Model.svm_plot_2D import *\n",
    "from sklearn.datasets import make_blobs\n",
    "from sklearn.model_selection import train_test_split\n",
    "from Plots.Confussion_matrix import *\n",
    "import plotly.io as pio\n",
    "pio.renderers.default = \"plotly_mimetype+notebook\""
   ]
  },
  {
   "attachments": {},
   "cell_type": "markdown",
   "metadata": {},
   "source": [
    "Create train and test sets"
   ]
  },
  {
   "cell_type": "code",
   "execution_count": 2,
   "metadata": {},
   "outputs": [],
   "source": [
    "X, y = make_blobs(n_samples=300, centers=2, random_state=17, cluster_std=2)\n",
    "X_train, X_test, y_train, y_test = train_test_split(X, y, shuffle=True, random_state=17, test_size=0.2)"
   ]
  },
  {
   "attachments": {},
   "cell_type": "markdown",
   "metadata": {},
   "source": [
    "Call created SVM_SMO model"
   ]
  },
  {
   "cell_type": "code",
   "execution_count": 3,
   "metadata": {},
   "outputs": [
    {
     "name": "stdout",
     "output_type": "stream",
     "text": [
      "Kernel: linear\n",
      "Intercept: -8.08682084071235\n",
      "Coefficient: [-1.40644744 -1.41862128]\n",
      "Number of support vectors: 34\n",
      "Iterations exceeded max_iter\n",
      "Kernel: rbf\n",
      "Intercept: 0.14533008576950138\n",
      "Number of support vectors: 193\n",
      "Kernel: poly\n",
      "Intercept: 13.959306217115667\n",
      "Number of support vectors: 123\n"
     ]
    }
   ],
   "source": [
    "#A\n",
    "kernels = [\"linear\", \"rbf\", \"poly\"]\n",
    "for i in kernels:\n",
    "    model = Support_Vector_Machines_SMO(kernel=i, C=1, degree=3, gamma=1, max_iter=500)\n",
    "    model.fit(X_train, y_train)\n",
    "    y_pred = model.predict(X_test)\n",
    "    print(\"Kernel: {}\".format(i))\n",
    "    print(\"Intercept: {}\".format(model.b))\n",
    "    try:\n",
    "        print(\"Coefficient: {}\".format(model.w))\n",
    "    except:\n",
    "        pass\n",
    "    print(\"Number of support vectors: {}\".format(len(model.support_vectors_)))"
   ]
  },
  {
   "attachments": {},
   "cell_type": "markdown",
   "metadata": {},
   "source": [
    "Confussion matrix"
   ]
  },
  {
   "cell_type": "code",
   "execution_count": 4,
   "metadata": {},
   "outputs": [
    {
     "name": "stdout",
     "output_type": "stream",
     "text": [
      "Iterations exceeded max_iter\n",
      "TRAIN:\n"
     ]
    },
    {
     "data": {
      "image/svg+xml": [
       "<svg class=\"main-svg\" xmlns=\"http://www.w3.org/2000/svg\" xmlns:xlink=\"http://www.w3.org/1999/xlink\" width=\"600\" height=\"600\" style=\"\" viewBox=\"0 0 600 600\"><rect x=\"0\" y=\"0\" width=\"600\" height=\"600\" style=\"fill: rgb(255, 255, 255); fill-opacity: 1;\"/><defs id=\"defs-6069fe\"><g class=\"clips\"><clipPath id=\"clip6069fexyplot\" class=\"plotclip\"><rect width=\"420\" height=\"420\"/></clipPath><clipPath class=\"axesclip\" id=\"clip6069fex\"><rect x=\"80\" y=\"0\" width=\"420\" height=\"600\"/></clipPath><clipPath class=\"axesclip\" id=\"clip6069fey\"><rect x=\"0\" y=\"100\" width=\"600\" height=\"420\"/></clipPath><clipPath class=\"axesclip\" id=\"clip6069fexy\"><rect x=\"80\" y=\"100\" width=\"420\" height=\"420\"/></clipPath></g><g class=\"gradients\"><linearGradient x1=\"0\" x2=\"0\" y1=\"1\" y2=\"0\" id=\"g6069fe-cbcf7b39\"><stop offset=\"0%\" stop-color=\"rgb(247, 251, 255)\" stop-opacity=\"1\"/><stop offset=\"12.5%\" stop-color=\"rgb(222, 235, 247)\" stop-opacity=\"1\"/><stop offset=\"25%\" stop-color=\"rgb(198, 219, 239)\" stop-opacity=\"1\"/><stop offset=\"37.5%\" stop-color=\"rgb(158, 202, 225)\" stop-opacity=\"1\"/><stop offset=\"50%\" stop-color=\"rgb(107, 174, 214)\" stop-opacity=\"1\"/><stop offset=\"62.5%\" stop-color=\"rgb(66, 146, 198)\" stop-opacity=\"1\"/><stop offset=\"75%\" stop-color=\"rgb(33, 113, 181)\" stop-opacity=\"1\"/><stop offset=\"87.5%\" stop-color=\"rgb(8, 81, 156)\" stop-opacity=\"1\"/><stop offset=\"100%\" stop-color=\"rgb(8, 48, 107)\" stop-opacity=\"1\"/></linearGradient></g><g class=\"patterns\"/></defs><g class=\"bglayer\"/><g class=\"layer-below\"><g class=\"imagelayer\"/><g class=\"shapelayer\"/></g><g class=\"cartesianlayer\"><g class=\"subplot xy\"><g class=\"layer-subplot\"><g class=\"shapelayer\"/><g class=\"imagelayer\"/></g><g class=\"minor-gridlayer\"><g class=\"x\"/><g class=\"y\"/></g><g class=\"gridlayer\"><g class=\"x\"/><g class=\"y\"/></g><g class=\"zerolinelayer\"/><path class=\"xlines-below\"/><path class=\"ylines-below\"/><g class=\"overlines-below\"/><g class=\"xaxislayer-below\"/><g class=\"yaxislayer-below\"/><g class=\"overaxes-below\"/><g class=\"plot\" transform=\"translate(80,100)\" clip-path=\"url(#clip6069fexyplot)\"><g class=\"heatmaplayer mlayer\"><g class=\"hm\"><image xmlns=\"http://www.w3.org/2000/svg\" preserveAspectRatio=\"none\" height=\"420\" width=\"420\" x=\"0\" y=\"0\" xlink:href=\"data:image/png;base64,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\" style=\"opacity: 1;\"/></g></g></g><g class=\"overplot\"/><path class=\"xlines-above crisp\" d=\"M79,99.5H500\" style=\"fill: none; stroke-width: 1px; stroke: rgb(36, 36, 36); stroke-opacity: 1;\"/><path class=\"ylines-above crisp\" d=\"M79.5,100V520\" style=\"fill: none; stroke-width: 1px; stroke: rgb(36, 36, 36); stroke-opacity: 1;\"/><g class=\"overlines-above\"/><g class=\"xaxislayer-above\"><g class=\"xtick\"><text text-anchor=\"middle\" x=\"0\" y=\"92.6\" transform=\"translate(185,0)\" style=\"font-family: 'Times New Roman'; font-size: 16px; fill: rgb(0, 0, 0); fill-opacity: 1; white-space: pre; opacity: 1;\">0</text></g><g class=\"xtick\"><text text-anchor=\"middle\" x=\"0\" y=\"92.6\" transform=\"translate(395,0)\" style=\"font-family: 'Times New Roman'; font-size: 16px; fill: rgb(0, 0, 0); fill-opacity: 1; white-space: pre; opacity: 1;\">1</text></g></g><g class=\"yaxislayer-above\"><g class=\"ytick\"><text text-anchor=\"end\" x=\"75.8\" y=\"5.6\" transform=\"translate(0,415)\" style=\"font-family: 'Times New Roman'; font-size: 16px; fill: rgb(0, 0, 0); fill-opacity: 1; white-space: pre; opacity: 1;\">0  </text></g><g class=\"ytick\"><text text-anchor=\"end\" x=\"75.8\" y=\"5.6\" transform=\"translate(0,205)\" style=\"font-family: 'Times New Roman'; font-size: 16px; fill: rgb(0, 0, 0); fill-opacity: 1; white-space: pre; opacity: 1;\">1  </text></g></g><g class=\"overaxes-above\"/></g></g><g class=\"polarlayer\"/><g class=\"smithlayer\"/><g class=\"ternarylayer\"/><g class=\"geolayer\"/><g class=\"funnelarealayer\"/><g class=\"pielayer\"/><g class=\"iciclelayer\"/><g class=\"treemaplayer\"/><g class=\"sunburstlayer\"/><g class=\"glimages\"/><defs id=\"topdefs-6069fe\"><g class=\"clips\"/></defs><g class=\"layer-above\"><g class=\"imagelayer\"/><g class=\"shapelayer\"/></g><g class=\"infolayer\"><g class=\"cbcf7b39 colorbar\" transform=\"translate(80,100)\"><rect class=\"cbbg\" x=\"427.5\" y=\"0\" width=\"79.203125\" height=\"421\" style=\"fill: rgb(0, 0, 0); fill-opacity: 0; stroke: rgb(68, 68, 68); stroke-opacity: 1; stroke-width: 0;\"/><g class=\"cbfills\" transform=\"translate(0,10)\"><rect class=\"cbfill gradient_filled\" x=\"438\" y=\"0\" width=\"30\" height=\"400\" style=\"fill: url('#g6069fe-cbcf7b39');\"/></g><g class=\"cblines\" transform=\"translate(0,10)\"/><g class=\"cbaxis crisp\" transform=\"translate(0,-100)\"><path class=\"ycbcf7b39tick ticks crisp\" d=\"M468,0h5\" transform=\"translate(0,510)\" style=\"stroke: rgb(36, 36, 36); stroke-opacity: 1; stroke-width: 1px;\"/><path class=\"ycbcf7b39tick ticks crisp\" d=\"M468,0h5\" transform=\"translate(0,430)\" style=\"stroke: rgb(36, 36, 36); stroke-opacity: 1; stroke-width: 1px;\"/><path class=\"ycbcf7b39tick ticks crisp\" d=\"M468,0h5\" transform=\"translate(0,350)\" style=\"stroke: rgb(36, 36, 36); stroke-opacity: 1; stroke-width: 1px;\"/><path class=\"ycbcf7b39tick ticks crisp\" d=\"M468,0h5\" transform=\"translate(0,270)\" style=\"stroke: rgb(36, 36, 36); stroke-opacity: 1; stroke-width: 1px;\"/><path class=\"ycbcf7b39tick ticks crisp\" d=\"M468,0h5\" transform=\"translate(0,190)\" style=\"stroke: rgb(36, 36, 36); stroke-opacity: 1; stroke-width: 1px;\"/><path class=\"ycbcf7b39tick ticks crisp\" d=\"M468,0h5\" transform=\"translate(0,110.00000000000001)\" style=\"stroke: rgb(36, 36, 36); stroke-opacity: 1; stroke-width: 1px;\"/><g class=\"ycbcf7b39tick\"><text text-anchor=\"start\" x=\"476.2\" y=\"5.6\" transform=\"translate(0,510)\" style=\"font-family: 'Times New Roman'; font-size: 16px; fill: rgb(0, 0, 0); fill-opacity: 1; white-space: pre; opacity: 1;\">0</text></g><g class=\"ycbcf7b39tick\"><text text-anchor=\"start\" x=\"476.2\" y=\"5.6\" style=\"font-family: 'Times New Roman'; font-size: 16px; fill: rgb(0, 0, 0); fill-opacity: 1; white-space: pre; opacity: 1;\" transform=\"translate(0,430)\">0.2</text></g><g class=\"ycbcf7b39tick\"><text text-anchor=\"start\" x=\"476.2\" y=\"5.6\" style=\"font-family: 'Times New Roman'; font-size: 16px; fill: rgb(0, 0, 0); fill-opacity: 1; white-space: pre; opacity: 1;\" transform=\"translate(0,350)\">0.4</text></g><g class=\"ycbcf7b39tick\"><text text-anchor=\"start\" x=\"476.2\" y=\"5.6\" style=\"font-family: 'Times New Roman'; font-size: 16px; fill: rgb(0, 0, 0); fill-opacity: 1; white-space: pre; opacity: 1;\" transform=\"translate(0,270)\">0.6</text></g><g class=\"ycbcf7b39tick\"><text text-anchor=\"start\" x=\"476.2\" y=\"5.6\" style=\"font-family: 'Times New Roman'; font-size: 16px; fill: rgb(0, 0, 0); fill-opacity: 1; white-space: pre; opacity: 1;\" transform=\"translate(0,190)\">0.8</text></g><g class=\"ycbcf7b39tick\"><text text-anchor=\"start\" x=\"476.2\" y=\"5.6\" style=\"font-family: 'Times New Roman'; font-size: 16px; fill: rgb(0, 0, 0); fill-opacity: 1; white-space: pre; opacity: 1;\" transform=\"translate(0,110.00000000000001)\">1</text></g></g><g class=\"cbtitleunshift\" transform=\"translate(-80,-100)\"><g class=\"cbtitle\"/></g><rect class=\"cboutline\" x=\"438\" y=\"10\" width=\"30\" height=\"400\" style=\"stroke: rgb(68, 68, 68); stroke-opacity: 1; fill: none; stroke-width: 1;\"/></g><g class=\"g-gtitle\"><text class=\"gtitle\" x=\"300\" y=\"18\" text-anchor=\"middle\" dy=\"0.7em\" style=\"font-family: 'Times New Roman'; font-size: 22px; fill: rgb(0, 0, 0); opacity: 1; font-weight: normal; white-space: pre;\"><tspan class=\"line\" dy=\"0em\" x=\"300\" y=\"18\"><tspan style=\"font-weight:bold\">Normalized confusion matrix</tspan></tspan><tspan class=\"line\" dy=\"1.3em\" x=\"300\" y=\"18\"><tspan style=\"font-weight:bold\">Balanced accuracy score: 0.9959<tspan style=\"font-weight:bold\"></tspan></tspan></tspan></text></g><g class=\"g-xtitle\"/><g class=\"g-ytitle\"/><g class=\"annotation\" data-index=\"0\" style=\"opacity: 1;\"><g class=\"annotation-text-g\" transform=\"rotate(0,185,415)\"><g class=\"cursor-pointer\" transform=\"translate(165,405)\"><rect class=\"bg\" x=\"0.5\" y=\"0.5\" width=\"39\" height=\"20\" style=\"stroke-width: 1px; stroke: rgb(0, 0, 0); stroke-opacity: 0; fill: rgb(0, 0, 0); fill-opacity: 0;\"/><text class=\"annotation-text\" text-anchor=\"middle\" x=\"20\" y=\"16\" style=\"font-family: 'Times New Roman'; font-size: 16px; fill: rgb(255, 255, 255); fill-opacity: 1; white-space: pre;\">0.992</text></g></g></g><g class=\"annotation\" data-index=\"1\" style=\"opacity: 1;\"><g class=\"annotation-text-g\" transform=\"rotate(0,395,415)\"><g class=\"cursor-pointer\" transform=\"translate(375,405)\"><rect class=\"bg\" x=\"0.5\" y=\"0.5\" width=\"39\" height=\"20\" style=\"stroke-width: 1px; stroke: rgb(0, 0, 0); stroke-opacity: 0; fill: rgb(0, 0, 0); fill-opacity: 0;\"/><text class=\"annotation-text\" text-anchor=\"middle\" x=\"20\" y=\"16\" style=\"font-family: 'Times New Roman'; font-size: 16px; fill: rgb(0, 0, 0); fill-opacity: 1; white-space: pre;\">0.008</text></g></g></g><g class=\"annotation\" data-index=\"2\" style=\"opacity: 1;\"><g class=\"annotation-text-g\" transform=\"rotate(0,185,205)\"><g class=\"cursor-pointer\" transform=\"translate(173,195)\"><rect class=\"bg\" x=\"0.5\" y=\"0.5\" width=\"23\" height=\"20\" style=\"stroke-width: 1px; stroke: rgb(0, 0, 0); stroke-opacity: 0; fill: rgb(0, 0, 0); fill-opacity: 0;\"/><text class=\"annotation-text\" text-anchor=\"middle\" x=\"12\" y=\"16\" style=\"font-family: 'Times New Roman'; font-size: 16px; fill: rgb(0, 0, 0); fill-opacity: 1; white-space: pre;\">0.0</text></g></g></g><g class=\"annotation\" data-index=\"3\" style=\"opacity: 1;\"><g class=\"annotation-text-g\" transform=\"rotate(0,395,205)\"><g class=\"cursor-pointer\" transform=\"translate(383,195)\"><rect class=\"bg\" x=\"0.5\" y=\"0.5\" width=\"23\" height=\"20\" style=\"stroke-width: 1px; stroke: rgb(0, 0, 0); stroke-opacity: 0; fill: rgb(0, 0, 0); fill-opacity: 0;\"/><text class=\"annotation-text\" text-anchor=\"middle\" x=\"12\" y=\"16\" style=\"font-family: 'Times New Roman'; font-size: 16px; fill: rgb(255, 255, 255); fill-opacity: 1; white-space: pre;\">1.0</text></g></g></g><g class=\"annotation\" data-index=\"4\" style=\"opacity: 1;\"><g class=\"annotation-text-g\" transform=\"rotate(-90,30,310)\"><g class=\"cursor-pointer\" transform=\"translate(1,297)\"><rect class=\"bg\" x=\"0.5\" y=\"0.5\" width=\"58\" height=\"25\" style=\"stroke-width: 1px; stroke: rgb(0, 0, 0); stroke-opacity: 0; fill: rgb(0, 0, 0); fill-opacity: 0;\"/><text class=\"annotation-text\" text-anchor=\"middle\" x=\"29.65625\" y=\"20\" style=\"font-family: 'Times New Roman'; font-size: 20px; fill: rgb(0, 0, 0); fill-opacity: 1; white-space: pre;\">Actual</text></g></g></g><g class=\"annotation\" data-index=\"5\" style=\"opacity: 1;\"><g class=\"annotation-text-g\" transform=\"rotate(0,290,70.99999999999997)\"><g class=\"cursor-pointer\" transform=\"translate(243,58)\"><rect class=\"bg\" x=\"0.5\" y=\"0.5\" width=\"93\" height=\"25\" style=\"stroke-width: 1px; stroke: rgb(0, 0, 0); stroke-opacity: 0; fill: rgb(0, 0, 0); fill-opacity: 0;\"/><text class=\"annotation-text\" text-anchor=\"middle\" x=\"47\" y=\"20\" style=\"font-family: 'Times New Roman'; font-size: 20px; fill: rgb(0, 0, 0); fill-opacity: 1; white-space: pre;\">Predictions</text></g></g></g></g></svg>"
      ]
     },
     "metadata": {},
     "output_type": "display_data"
    },
    {
     "name": "stdout",
     "output_type": "stream",
     "text": [
      "TEST:\n"
     ]
    },
    {
     "data": {
      "image/svg+xml": [
       "<svg class=\"main-svg\" xmlns=\"http://www.w3.org/2000/svg\" xmlns:xlink=\"http://www.w3.org/1999/xlink\" width=\"600\" height=\"600\" style=\"\" viewBox=\"0 0 600 600\"><rect x=\"0\" y=\"0\" width=\"600\" height=\"600\" style=\"fill: rgb(255, 255, 255); fill-opacity: 1;\"/><defs id=\"defs-b09544\"><g class=\"clips\"><clipPath id=\"clipb09544xyplot\" class=\"plotclip\"><rect width=\"420\" height=\"420\"/></clipPath><clipPath class=\"axesclip\" id=\"clipb09544x\"><rect x=\"80\" y=\"0\" width=\"420\" height=\"600\"/></clipPath><clipPath class=\"axesclip\" id=\"clipb09544y\"><rect x=\"0\" y=\"100\" width=\"600\" height=\"420\"/></clipPath><clipPath class=\"axesclip\" id=\"clipb09544xy\"><rect x=\"80\" y=\"100\" width=\"420\" height=\"420\"/></clipPath></g><g class=\"gradients\"><linearGradient x1=\"0\" x2=\"0\" y1=\"1\" y2=\"0\" id=\"gb09544-cb2cd846\"><stop offset=\"0%\" stop-color=\"rgb(247, 251, 255)\" stop-opacity=\"1\"/><stop offset=\"12.5%\" stop-color=\"rgb(222, 235, 247)\" stop-opacity=\"1\"/><stop offset=\"25%\" stop-color=\"rgb(198, 219, 239)\" stop-opacity=\"1\"/><stop offset=\"37.5%\" stop-color=\"rgb(158, 202, 225)\" stop-opacity=\"1\"/><stop offset=\"50%\" stop-color=\"rgb(107, 174, 214)\" stop-opacity=\"1\"/><stop offset=\"62.5%\" stop-color=\"rgb(66, 146, 198)\" stop-opacity=\"1\"/><stop offset=\"75%\" stop-color=\"rgb(33, 113, 181)\" stop-opacity=\"1\"/><stop offset=\"87.5%\" stop-color=\"rgb(8, 81, 156)\" stop-opacity=\"1\"/><stop offset=\"100%\" stop-color=\"rgb(8, 48, 107)\" stop-opacity=\"1\"/></linearGradient></g><g class=\"patterns\"/></defs><g class=\"bglayer\"/><g class=\"layer-below\"><g class=\"imagelayer\"/><g class=\"shapelayer\"/></g><g class=\"cartesianlayer\"><g class=\"subplot xy\"><g class=\"layer-subplot\"><g class=\"shapelayer\"/><g class=\"imagelayer\"/></g><g class=\"minor-gridlayer\"><g class=\"x\"/><g class=\"y\"/></g><g class=\"gridlayer\"><g class=\"x\"/><g class=\"y\"/></g><g class=\"zerolinelayer\"/><path class=\"xlines-below\"/><path class=\"ylines-below\"/><g class=\"overlines-below\"/><g class=\"xaxislayer-below\"/><g class=\"yaxislayer-below\"/><g class=\"overaxes-below\"/><g class=\"plot\" transform=\"translate(80,100)\" clip-path=\"url(#clipb09544xyplot)\"><g class=\"heatmaplayer mlayer\"><g class=\"hm\"><image xmlns=\"http://www.w3.org/2000/svg\" preserveAspectRatio=\"none\" height=\"420\" width=\"420\" x=\"0\" y=\"0\" xlink:href=\"data:image/png;base64,iVBORw0KGgoAAAANSUhEUgAAAaQAAAGkCAYAAAB+TFE1AAAWqUlEQVR4Xu3XQbEsyQ0F0PcBzMJgDMUxJEzGEAzIeGYxi28QulmplE7vW5U6UsQN/frr79+/f/wIECgJ/OOf/y79358JEPj5+SWQrAGBuoBAqhuqQEAg2QECAQGBFEBUYr2AQFq/AgASAgIpoajGdgGBtH0D9B8REEgRRkWWCwik5Qug/YyAQMo4qrJbQCDtnr/uQwICKQSpzGoBgbR6/JpPCQiklKQ6mwUE0ubp6z0mIJBilAotFhBIi4ev9ZyAQMpZqrRXQCDtnb3OgwICKYip1FoBgbR29BpPCgikpKZaWwUE0tbJ6zsqIJCinIotFRBISwev7ayAQMp6qrZTQCDtnLuuwwICKQyq3EoBgbRy7JpOCwiktKh6GwUE0sap6zkuIJDipAouFBBIC4eu5byAQMqbqrhPQCDtm7mODwgIpAOoSq4TEEjrRq7hEwIC6YSqmtsEBNK2iev3iIBAOsKq6DIBgbRs4No9IyCQzriquktAIO2at24PCQikQ7DKrhIQSKvGrdlTAgLplKy6mwQE0qZp6/WYgEA6RqvwIgGBtGjYWj0nIJDO2aq8R0Ag7Zm1Tg8KCKSDuEqvERBIa0at0ZMCAumkrtpbBATSlknr86iAQDrKq/gSAYG0ZNDaPCsgkM76qr5DQCDtmLMuDwsIpMPAyq8QEEgrxqzJ0wIC6bSw+hsEBNKGKevxuIBAOk7sAwsEBNKCIWvxvIBAOm/sC/MFBNL8GevwAwGB9AGyT4wXEEjjR6zBLwQE0hfKvjFdQCBNn7D+PhEQSJ8w+8hwAYE0fMDa+0ZAIH3j7CuzBQTS7Pnq7iMBgfQRtM+MFhBIo8erua8EBNJX0r4zWUAgTZ6u3j4TEEifUfvQYAGBNHi4WvtOQCB9Z+1LcwUE0tzZ6uxDAYH0IbZPjRUQSGNHq7EvBQTSl9q+NVVAIE2drL4+FRBIn3L72FABgTR0sNr6VkAgfevtazMFBNLMuerqYwGB9DG4z40UEEgjx6qprwUE0tfivjdRQCBNnKqePhcQSJ+T++BAAYE0cKha+l5AIH1v7ovzBATSvJnq6IKAQLqA7pPjBATSuJFq6IaAQLqh7pvTBATStInq54qAQLrC7qPDBATSsIFq546AQLrj7quzBATSrHnq5pKAQLoE77OjBATSqHFq5paAQLol77uTBATSpGnq5ZqAQLpG78ODBATSoGFq5Z6AQLpn78tzBATSnFnq5KKAQLqI79NjBATSmFFq5KaAQLqp79tTBATSlEnq46qAQLrK7+NDBATSkEFq466AQLrr7+szBATSjDnq4rKAQLo8AJ8fISCQRoxRE7cFBNLtCfj+BAGBNGGKerguIJCuj8ADBggIpAFD1MJ9AYF0fwZe8L6AQHp/hjpoICCQGgzBE54XEEjPj1ADHQQEUocpeMPrAgLp9Ql6fwsBgdRiDB7xuIBAenyAnt9DQCD1mINXvC0gkN6en9c3ERBITQbhGU8LCKSnx+fxXQQEUpdJeMfLAgLp5el5exsBgdRmFB7ysIBAenh4nt5HQCD1mYWXvCsgkN6dnZc3EhBIjYbhKc8KCKRnR+fhnQQEUqdpeMurAgLp1cl5dysBgdRqHB7zqIBAenRwnt1LQCD1mofXvCkgkN6cm1c3ExBIzQbiOU8KCKQnx+bR3QQEUreJeM+LAgLpxal5czsBgdRuJB70oIBAenBontxPQCD1m4kXvScgkN6bmRc3FBBIDYfiSc8JCKTnRubBHQUEUsepeNNrAgLptYl5b0sBgdRyLB71mIBAemxgnttTQCD1nItXvSUgkN6al9c2FRBITQfjWU8JCKSnxuWxXQUEUtfJeNdLAgLppWl5a1sBgdR2NB72kIBAemhYntpXQCD1nY2XvSMgkN6ZlZc2FhBIjYfjac8ICKRnRuWhnQUEUufpeNsrAgLplUl5Z2sBgdR6PB73iIBAemRQntlbQCD1no/XvSEgkN6Yk1c2FxBIzQfkeU8ICKQnxuSR3QUEUvcJed8LAgLphSl5Y3sBgdR+RB74gIBAemBInthfQCD1n5EX9hcQSP1n5IUPCAikB4bkie0FBFL7EXngCwIC6YUpeWN3AYHUfULe94SAQHpiTB7ZXEAgNR+Q570hIJDemJNX9hYQSL3n43WPCAikRwblma0FBFLr8XjcKwIC6ZVJeWdnAYHUeTre9oyAQHpmVB7aWEAgNR6Op70jIJDemZWX9hUQSH1n42UPCQikh4blqW0FBFLb0XjYSwIC6aVpeWtXAYHUdTLe9ZSAQHpqXB7bVEAgNR2MZ70lIJDempfX9hQQSD3n4lWPCQikxwbmuS0FBFLLsXjUawIC6bWJeW9HAYHUcSre9JyAQHpuZB7cUEAgNRyKJ70nIJDem5kX9xMQSP1m4kUPCgikB4fmye0EBFK7kXjQiwIC6cWpeXM3AYHUbSLe86SAQHpybB7dTEAgNRuI57wpIJDenJtX9xIQSL3m4TWPCgikRwfn2a0EBFKrcXjMqwIC6dXJeXcnAYHUaRre8qyAQHp2dB7eSEAgNRqGp7wrIJDenZ2X9xEQSH1m4SUPCwikh4fn6W0EBFKbUXjIywIC6eXpeXsXAYHUZRLe8bSAQHp6fB7fREAgNRmEZ7wtIJDenp/X9xAQSD3m4BWPCwikxwfo+S0EBFKLMXjE6wIC6fUJen8HAYHUYQre8LyAQHp+hBpoICCQGgzBE94XEEjvz1AH9wUE0v0ZeMEAAYE0YIhauC4gkK6PwAMmCAikCVPUw20BgXR7Ar4/QkAgjRijJi4LCKTLA/D5GQICacYcdXFXQCDd9ff1IQICacggtXFVQCBd5ffxKQICacok9XFTQCDd1PftMQICacwoNXJRQCBdxPfpOQICac4sdXJPQCDds/flQQICadAwtXJNQCBdo/fhSQICadI09XJLQCDdkvfdUQICadQ4NXNJQCBdgvfZWQICadY8dXNHQCDdcffVYQICadhAtXNFQCBdYffRaQICadpE9XNDQCDdUPfNcQICadxINXRBQCBdQPfJeQICad5MdfS9gED63twXBwoIpIFD1dLnAgLpc3IfnCggkCZOVU9fCwikr8V9b6SAQBo5Vk19LCCQPgb3uZkCAmnmXHX1rYBA+tbb14YKCKShg9XWpwIC6VNuH5sqIJCmTlZfXwoIpC+1fWusgEAaO1qNfSggkD7E9qm5AgJp7mx19p2AQPrO2pcGCwikwcPV2mcCAukzah+aLCCQJk9Xb18JCKSvpH1ntIBAGj1ezX0kIJA+gvaZ2QICafZ8dfeNgED6xtlXhgsIpOED1t4nAgLpE2YfmS4gkKZPWH9fCAikL5R9Y7yAQBo/Yg1+ICCQPkD2ifkCAmn+jHV4XkAgnTf2hQUCAmnBkLV4XEAgHSf2gQ0CAmnDlPV4WkAgnRZWf4WAQFoxZk0eFhBIh4GV3yEgkHbMWZdnBQTSWV/VlwgIpCWD1uZRAYF0lFfxLQICacuk9XlSQCCd1FV7jYBAWjNqjR4UEEgHcZXeIyCQ9sxap+cEBNI5W5UXCQikRcPW6jEBgXSMVuFNAgJp07T1ekpAIJ2SVXeVgEBaNW7NHhIQSIdgld0lIJB2zVu3ZwQE0hlXVZcJCKRlA9fuEQGBdIRV0W0CAmnbxPV7QkAgnVBVc52AQFo3cg0fEBBIB1CV3CcgkPbNXMd5AYGUN1VxoYBAWjh0LccFBFKcVMGNAgJp49T1nBYQSGlR9VYKCKSVY9d0WEAghUGV2ykgkHbOXddZAYGU9VRtqYBAWjp4bUcFBFKUU7GtAgJp6+T1nRQQSElNtdYKCKS1o9d4UEAgBTGV2isgkPbOXuc5AYGUs1RpsYBAWjx8rccEBFKMUqHNAgJp8/T1nhIQSClJdVYLCKTV49d8SEAghSCV2S0gkHbPX/cZAYGUcVRluYBAWr4A2o8ICKQIoyLbBQTS9g3Qf0JAICUU1VgvIJDWrwCAgIBACiAqQUAg2QECdQGBVDdUgcCPQLIEBOoCAqluqAIBgWQHCAQEBFIAUQkCLiQ7QKAuIJDqhioQcCHZAQIBAYEUQFSCgAvJDhCoCwikuqEKBFxIdoBAQEAgBRCVIOBCsgME6gICqW6oAgEXkh0gEBAQSAFEJQi4kOwAgbqAQKobqkDAhWQHCAQEBFIAUQkCLiQ7QKAuIJDqhioQcCHZAQIBAYEUQFSCgAvJDhCoCwikuqEKBFxIdoBAQEAgBRCVIOBCsgME6gICqW6oAgEXkh0gEBD49cef//0dqKMEgdUC//vPv1b3r3kCCQGBlFBUY72AQFq/AgACAgIpgKgEAYFkBwjUBQRS3VAFAj8CyRIQqAsIpLqhCgQEkh0gEBAQSAFEJQi4kOwAgbqAQKobqkDAhWQHCAQEBFIAUQkCLiQ7QKAuIJDqhioQcCHZAQIBAYEUQFSCgAvJDhCoCwikuqEKBFxIdoBAQEAgBRCVIOBCsgME6gICqW6oAgEXkh0gEBAQSAFEJQi4kOwAgbqAQKobqkDAhWQHCAQEBFIAUQkCLiQ7QKAuIJDqhioQcCHZAQIBAYEUQFSCgAvJDhCoCwikuqEKBFxIdoBAQEAgBRCVIOBCsgME6gICqW6oAgEXkh0gEBAQSAFEJQi4kOwAgbqAQKobqkDAhWQHCAQEBFIAUQkCLiQ7QKAuIJDqhioQcCHZAQIBAYEUQFSCgAvJDhCoCwikuqEKBFxIdoBAQEAgBRCVIOBCsgME6gICqW6oAgEXkh0gEBAQSAFEJQi4kOwAgbqAQKobqkDAhWQHCAQEBFIAUQkCLiQ7QKAuIJDqhioQcCHZAQIBAYEUQFSCgAvJDhCoCwikuqEKBFxIdoBAQEAgBRCVIOBCsgME6gICqW6oAgEXkh0gEBAQSAFEJQi4kOwAgbqAQKobqkDAhWQHCAQEBFIAUQkCLiQ7QKAuIJDqhioQcCHZAQIBAYEUQFSCgAvJDhCoCwikuqEKBFxIdoBAQEAgBRCVIOBCsgME6gICqW6oAgEXkh0gEBAQSAFEJQi4kOwAgbqAQKobqkDAhWQHCAQEBFIAUQkCLiQ7QKAuIJDqhioQcCHZAQIBAYEUQFSCgAvJDhCoCwikuqEKBFxIdoBAQEAgBRCVIOBCsgME6gICqW6oAgEXkh0gEBAQSAFEJQi4kOwAgbqAQKobqkDAhWQHCAQEBFIAUQkCLiQ7QKAuIJDqhioQcCHZAQIBAYEUQFSCgAvJDhCoCwikuqEKBFxIdoBAQEAgBRCVIOBCsgME6gICqW6oAgEXkh0gEBAQSAFEJQi4kOwAgbqAQKobqkDAhWQHCAQEBFIAUQkCLiQ7QKAuIJDqhioQcCHZAQIBAYEUQFSCgAvJDhCoCwikuqEKBFxIdoBAQEAgBRCVIOBCsgME6gICqW6oAgEXkh0gEBAQSAFEJQi4kOwAgbqAQKobqkDAhWQHCAQEBFIAUQkCLiQ7QKAuIJDqhioQcCHZAQIBAYEUQFSCgAvJDhCoCwikuqEKBFxIdoBAQEAgBRCVIOBCsgME6gICqW6oAgEXkh0gEBAQSAFEJQi4kOwAgbqAQKobqkDAhWQHCAQEBFIAUQkCLiQ7QKAuIJDqhioQcCHZAQIBAYEUQFSCgAvJDhCoCwikuqEKBFxIdoBAQEAgBRCVIOBCsgME6gICqW6oAgEXkh0gEBAQSAFEJQi4kOwAgbqAQKobqkDAhWQHCAQEBFIAUQkCLiQ7QKAuIJDqhioQcCHZAQIBAYEUQFSCgAvJDhCoCwikuqEKBFxIdoBAQEAgBRCVIOBCsgME6gICqW6oAgEXkh0gEBAQSAFEJQi4kOwAgbqAQKobqkDAhWQHCAQEBFIAUQkCLiQ7QKAuIJDqhioQcCHZAQIBAYEUQFSCgAvJDhCoCwikuqEKBFxIdoBAQEAgBRCVIOBCsgME6gICqW6oAgEXkh0gEBAQSAFEJQi4kOwAgbqAQKobqkDAhWQHCAQEBFIAUQkCLiQ7QKAuIJDqhioQcCHZAQIBAYEUQFSCgAvJDhCoCwikuqEKBFxIdoBAQEAgBRCVIOBCsgME6gICqW6oAgEXkh0gEBAQSAFEJQi4kOwAgbqAQKobqkDAhWQHCAQEBFIAUQkCLiQ7QKAuIJDqhioQcCHZAQIBAYEUQFSCgAvJDhCoCwikuqEKBFxIdoBAQEAgBRCVIOBCsgME6gICqW6oAgEXkh0gEBAQSAFEJQi4kOwAgbqAQKobqkDAhWQHCAQEBFIAUQkCLiQ7QKAuIJDqhioQcCHZAQIBAYEUQFSCgAvJDhCoCwikuqEKBFxIdoBAQEAgBRCVIOBCsgME6gICqW6oAgEXkh0gEBAQSAFEJQi4kOwAgbqAQKobqkDAhWQHCAQEBFIAUQkCLiQ7QKAuIJDqhioQcCHZAQIBAYEUQFSCgAvJDhCoCwikuqEKBFxIdoBAQEAgBRCVIOBCsgME6gICqW6oAgEXkh0gEBAQSAFEJQi4kOwAgbqAQKobqkDAhWQHCAQEBFIAUQkCLiQ7QKAuIJDqhioQcCHZAQIBAYEUQFSCgAvJDhCoCwikuqEKBFxIdoBAQEAgBRCVIOBCsgME6gICqW6oAgEXkh0gEBAQSAFEJQi4kOwAgbqAQKobqkDAhWQHCAQEBFIAUQkCLiQ7QKAuIJDqhioQcCHZAQIBAYEUQFSCgAvJDhCoCwikuqEKBFxIdoBAQEAgBRCVIOBCsgME6gICqW6oAgEXkh0gEBAQSAFEJQi4kOwAgbqAQKobqkDAhWQHCAQEBFIAUQkCLiQ7QKAuIJDqhioQcCHZAQIBAYEUQFSCgAvJDhCoCwikuqEKBFxIdoBAQEAgBRCVIOBCsgME6gICqW6oAgEXkh0gEBAQSAFEJQi4kOwAgbqAQKobqkDAhWQHCAQEBFIAUQkCLiQ7QKAuIJDqhioQcCHZAQIBAYEUQFSCgAvJDhCoCwikuqEKBFxIdoBAQEAgBRCVIOBCsgME6gICqW6oAgEXkh0gEBAQSAFEJQi4kOwAgbqAQKobqkDAhWQHCAQEBFIAUQkCLiQ7QKAuIJDqhioQcCHZAQIBAYEUQFSCgAvJDhCoCwikuqEKBFxIdoBAQEAgBRCVIOBCsgME6gICqW6oAgEXkh0gEBAQSAFEJQi4kOwAgbqAQKobqkDAhWQHCAQEBFIAUQkCLiQ7QKAuIJDqhioQcCHZAQIBAYEUQFSCgAvJDhCoCwikuqEKBFxIdoBAQEAgBRCVIOBCsgME6gICqW6oAgEXkh0gEBAQSAFEJQi4kOwAgbqAQKobqkDAhWQHCAQEBFIAUQkCLiQ7QKAuIJDqhioQcCHZAQIBAYEUQFSCgAvJDhCoCwikuqEKBFxIdoBAQEAgBRCVIOBCsgME6gICqW6oAgEXkh0gEBAQSAFEJQi4kOwAgbqAQKobqkDAhWQHCAQEBFIAUQkCLiQ7QKAuIJDqhioQcCHZAQIBAYEUQFSCgAvJDhCoCwikuqEKBFxIdoBAQEAgBRCVIOBCsgME6gICqW6oAgEXkh0gEBAQSAFEJQi4kOwAgbqAQKobqkDAhWQHCAQEBFIAUQkCLiQ7QKAuIJDqhioQcCHZAQIBAYEUQFSCgAvJDhCoCwikuqEKBFxIdoBAQEAgBRCVIOBCsgME6gICqW6oAgEXkh0gEBAQSAFEJQi4kOwAgbqAQKobqkDAhWQHCAQEBFIAUQkCLiQ7QKAuIJDqhioQcCHZAQIBAYEUQFSCgAvJDhCoC/wf1BLbAaU/jicAAAAASUVORK5CYII=\" style=\"opacity: 1;\"/></g></g></g><g class=\"overplot\"/><path class=\"xlines-above crisp\" d=\"M79,99.5H500\" style=\"fill: none; stroke-width: 1px; stroke: rgb(36, 36, 36); stroke-opacity: 1;\"/><path class=\"ylines-above crisp\" d=\"M79.5,100V520\" style=\"fill: none; stroke-width: 1px; stroke: rgb(36, 36, 36); stroke-opacity: 1;\"/><g class=\"overlines-above\"/><g class=\"xaxislayer-above\"><g class=\"xtick\"><text text-anchor=\"middle\" x=\"0\" y=\"92.6\" transform=\"translate(185,0)\" style=\"font-family: 'Times New Roman'; font-size: 16px; fill: rgb(0, 0, 0); fill-opacity: 1; white-space: pre; opacity: 1;\">0</text></g><g class=\"xtick\"><text text-anchor=\"middle\" x=\"0\" y=\"92.6\" transform=\"translate(395,0)\" style=\"font-family: 'Times New Roman'; font-size: 16px; fill: rgb(0, 0, 0); fill-opacity: 1; white-space: pre; opacity: 1;\">1</text></g></g><g class=\"yaxislayer-above\"><g class=\"ytick\"><text text-anchor=\"end\" x=\"75.8\" y=\"5.6\" transform=\"translate(0,415)\" style=\"font-family: 'Times New Roman'; font-size: 16px; fill: rgb(0, 0, 0); fill-opacity: 1; white-space: pre; opacity: 1;\">0  </text></g><g class=\"ytick\"><text text-anchor=\"end\" x=\"75.8\" y=\"5.6\" transform=\"translate(0,205)\" style=\"font-family: 'Times New Roman'; font-size: 16px; fill: rgb(0, 0, 0); fill-opacity: 1; white-space: pre; opacity: 1;\">1  </text></g></g><g class=\"overaxes-above\"/></g></g><g class=\"polarlayer\"/><g class=\"smithlayer\"/><g class=\"ternarylayer\"/><g class=\"geolayer\"/><g class=\"funnelarealayer\"/><g class=\"pielayer\"/><g class=\"iciclelayer\"/><g class=\"treemaplayer\"/><g class=\"sunburstlayer\"/><g class=\"glimages\"/><defs id=\"topdefs-b09544\"><g class=\"clips\"/></defs><g class=\"layer-above\"><g class=\"imagelayer\"/><g class=\"shapelayer\"/></g><g class=\"infolayer\"><g class=\"cb2cd846 colorbar\" transform=\"translate(80,100)\"><rect class=\"cbbg\" x=\"427.5\" y=\"0\" width=\"79.203125\" height=\"421\" style=\"fill: rgb(0, 0, 0); fill-opacity: 0; stroke: rgb(68, 68, 68); stroke-opacity: 1; stroke-width: 0;\"/><g class=\"cbfills\" transform=\"translate(0,10)\"><rect class=\"cbfill gradient_filled\" x=\"438\" y=\"0\" width=\"30\" height=\"400\" style=\"fill: url('#gb09544-cb2cd846');\"/></g><g class=\"cblines\" transform=\"translate(0,10)\"/><g class=\"cbaxis crisp\" transform=\"translate(0,-100)\"><path class=\"ycb2cd846tick ticks crisp\" d=\"M468,0h5\" transform=\"translate(0,510)\" style=\"stroke: rgb(36, 36, 36); stroke-opacity: 1; stroke-width: 1px;\"/><path class=\"ycb2cd846tick ticks crisp\" d=\"M468,0h5\" transform=\"translate(0,430)\" style=\"stroke: rgb(36, 36, 36); stroke-opacity: 1; stroke-width: 1px;\"/><path class=\"ycb2cd846tick ticks crisp\" d=\"M468,0h5\" transform=\"translate(0,350)\" style=\"stroke: rgb(36, 36, 36); stroke-opacity: 1; stroke-width: 1px;\"/><path class=\"ycb2cd846tick ticks crisp\" d=\"M468,0h5\" transform=\"translate(0,270)\" style=\"stroke: rgb(36, 36, 36); stroke-opacity: 1; stroke-width: 1px;\"/><path class=\"ycb2cd846tick ticks crisp\" d=\"M468,0h5\" transform=\"translate(0,190)\" style=\"stroke: rgb(36, 36, 36); stroke-opacity: 1; stroke-width: 1px;\"/><path class=\"ycb2cd846tick ticks crisp\" d=\"M468,0h5\" transform=\"translate(0,110.00000000000001)\" style=\"stroke: rgb(36, 36, 36); stroke-opacity: 1; stroke-width: 1px;\"/><g class=\"ycb2cd846tick\"><text text-anchor=\"start\" x=\"476.2\" y=\"5.6\" transform=\"translate(0,510)\" style=\"font-family: 'Times New Roman'; font-size: 16px; fill: rgb(0, 0, 0); fill-opacity: 1; white-space: pre; opacity: 1;\">0</text></g><g class=\"ycb2cd846tick\"><text text-anchor=\"start\" x=\"476.2\" y=\"5.6\" style=\"font-family: 'Times New Roman'; font-size: 16px; fill: rgb(0, 0, 0); fill-opacity: 1; white-space: pre; opacity: 1;\" transform=\"translate(0,430)\">0.2</text></g><g class=\"ycb2cd846tick\"><text text-anchor=\"start\" x=\"476.2\" y=\"5.6\" style=\"font-family: 'Times New Roman'; font-size: 16px; fill: rgb(0, 0, 0); fill-opacity: 1; white-space: pre; opacity: 1;\" transform=\"translate(0,350)\">0.4</text></g><g class=\"ycb2cd846tick\"><text text-anchor=\"start\" x=\"476.2\" y=\"5.6\" style=\"font-family: 'Times New Roman'; font-size: 16px; fill: rgb(0, 0, 0); fill-opacity: 1; white-space: pre; opacity: 1;\" transform=\"translate(0,270)\">0.6</text></g><g class=\"ycb2cd846tick\"><text text-anchor=\"start\" x=\"476.2\" y=\"5.6\" style=\"font-family: 'Times New Roman'; font-size: 16px; fill: rgb(0, 0, 0); fill-opacity: 1; white-space: pre; opacity: 1;\" transform=\"translate(0,190)\">0.8</text></g><g class=\"ycb2cd846tick\"><text text-anchor=\"start\" x=\"476.2\" y=\"5.6\" style=\"font-family: 'Times New Roman'; font-size: 16px; fill: rgb(0, 0, 0); fill-opacity: 1; white-space: pre; opacity: 1;\" transform=\"translate(0,110.00000000000001)\">1</text></g></g><g class=\"cbtitleunshift\" transform=\"translate(-80,-100)\"><g class=\"cbtitle\"/></g><rect class=\"cboutline\" x=\"438\" y=\"10\" width=\"30\" height=\"400\" style=\"stroke: rgb(68, 68, 68); stroke-opacity: 1; fill: none; stroke-width: 1;\"/></g><g class=\"g-gtitle\"><text class=\"gtitle\" x=\"300\" y=\"18\" text-anchor=\"middle\" dy=\"0.7em\" style=\"font-family: 'Times New Roman'; font-size: 22px; fill: rgb(0, 0, 0); opacity: 1; font-weight: normal; white-space: pre;\"><tspan class=\"line\" dy=\"0em\" x=\"300\" y=\"18\"><tspan style=\"font-weight:bold\">Normalized confusion matrix</tspan></tspan><tspan class=\"line\" dy=\"1.3em\" x=\"300\" y=\"18\"><tspan style=\"font-weight:bold\">Balanced accuracy score: 0.9259<tspan style=\"font-weight:bold\"></tspan></tspan></tspan></text></g><g class=\"g-xtitle\"/><g class=\"g-ytitle\"/><g class=\"annotation\" data-index=\"0\" style=\"opacity: 1;\"><g class=\"annotation-text-g\" transform=\"rotate(0,185,415)\"><g class=\"cursor-pointer\" transform=\"translate(165,405)\"><rect class=\"bg\" x=\"0.5\" y=\"0.5\" width=\"39\" height=\"20\" style=\"stroke-width: 1px; stroke: rgb(0, 0, 0); stroke-opacity: 0; fill: rgb(0, 0, 0); fill-opacity: 0;\"/><text class=\"annotation-text\" text-anchor=\"middle\" x=\"20\" y=\"16\" style=\"font-family: 'Times New Roman'; font-size: 16px; fill: rgb(255, 255, 255); fill-opacity: 1; white-space: pre;\">0.852</text></g></g></g><g class=\"annotation\" data-index=\"1\" style=\"opacity: 1;\"><g class=\"annotation-text-g\" transform=\"rotate(0,395,415)\"><g class=\"cursor-pointer\" transform=\"translate(375,405)\"><rect class=\"bg\" x=\"0.5\" y=\"0.5\" width=\"39\" height=\"20\" style=\"stroke-width: 1px; stroke: rgb(0, 0, 0); stroke-opacity: 0; fill: rgb(0, 0, 0); fill-opacity: 0;\"/><text class=\"annotation-text\" text-anchor=\"middle\" x=\"20\" y=\"16\" style=\"font-family: 'Times New Roman'; font-size: 16px; fill: rgb(0, 0, 0); fill-opacity: 1; white-space: pre;\">0.148</text></g></g></g><g class=\"annotation\" data-index=\"2\" style=\"opacity: 1;\"><g class=\"annotation-text-g\" transform=\"rotate(0,185,205)\"><g class=\"cursor-pointer\" transform=\"translate(173,195)\"><rect class=\"bg\" x=\"0.5\" y=\"0.5\" width=\"23\" height=\"20\" style=\"stroke-width: 1px; stroke: rgb(0, 0, 0); stroke-opacity: 0; fill: rgb(0, 0, 0); fill-opacity: 0;\"/><text class=\"annotation-text\" text-anchor=\"middle\" x=\"12\" y=\"16\" style=\"font-family: 'Times New Roman'; font-size: 16px; fill: rgb(0, 0, 0); fill-opacity: 1; white-space: pre;\">0.0</text></g></g></g><g class=\"annotation\" data-index=\"3\" style=\"opacity: 1;\"><g class=\"annotation-text-g\" transform=\"rotate(0,395,205)\"><g class=\"cursor-pointer\" transform=\"translate(383,195)\"><rect class=\"bg\" x=\"0.5\" y=\"0.5\" width=\"23\" height=\"20\" style=\"stroke-width: 1px; stroke: rgb(0, 0, 0); stroke-opacity: 0; fill: rgb(0, 0, 0); fill-opacity: 0;\"/><text class=\"annotation-text\" text-anchor=\"middle\" x=\"12\" y=\"16\" style=\"font-family: 'Times New Roman'; font-size: 16px; fill: rgb(255, 255, 255); fill-opacity: 1; white-space: pre;\">1.0</text></g></g></g><g class=\"annotation\" data-index=\"4\" style=\"opacity: 1;\"><g class=\"annotation-text-g\" transform=\"rotate(-90,30,310)\"><g class=\"cursor-pointer\" transform=\"translate(1,297)\"><rect class=\"bg\" x=\"0.5\" y=\"0.5\" width=\"58\" height=\"25\" style=\"stroke-width: 1px; stroke: rgb(0, 0, 0); stroke-opacity: 0; fill: rgb(0, 0, 0); fill-opacity: 0;\"/><text class=\"annotation-text\" text-anchor=\"middle\" x=\"29.65625\" y=\"20\" style=\"font-family: 'Times New Roman'; font-size: 20px; fill: rgb(0, 0, 0); fill-opacity: 1; white-space: pre;\">Actual</text></g></g></g><g class=\"annotation\" data-index=\"5\" style=\"opacity: 1;\"><g class=\"annotation-text-g\" transform=\"rotate(0,290,70.99999999999997)\"><g class=\"cursor-pointer\" transform=\"translate(243,58)\"><rect class=\"bg\" x=\"0.5\" y=\"0.5\" width=\"93\" height=\"25\" style=\"stroke-width: 1px; stroke: rgb(0, 0, 0); stroke-opacity: 0; fill: rgb(0, 0, 0); fill-opacity: 0;\"/><text class=\"annotation-text\" text-anchor=\"middle\" x=\"47\" y=\"20\" style=\"font-family: 'Times New Roman'; font-size: 20px; fill: rgb(0, 0, 0); fill-opacity: 1; white-space: pre;\">Predictions</text></g></g></g></g></svg>"
      ]
     },
     "metadata": {},
     "output_type": "display_data"
    }
   ],
   "source": [
    "model = Support_Vector_Machines_SMO(kernel=\"rbf\", C=1, gamma=1, max_iter=500)\n",
    "model.fit(X_train, y_train)\n",
    "y_pred_train = model.predict(X_train)\n",
    "y_pred_test = model.predict(X_test)\n",
    "print(\"TRAIN:\")\n",
    "conf_matrix(y_true=y_train, predictions=y_pred_train, normalize=True)\n",
    "print(\"TEST:\")\n",
    "conf_matrix(y_true=y_test, predictions=y_pred_test, normalize=True)"
   ]
  },
  {
   "attachments": {},
   "cell_type": "markdown",
   "metadata": {},
   "source": [
    "Because of high memory usage by plotly I decided to not run below cells but You can simply paste code in Your notebook and see charts in browser."
   ]
  },
  {
   "attachments": {},
   "cell_type": "markdown",
   "metadata": {},
   "source": [
    "Plot hyperplane of SVM for different values of C"
   ]
  },
  {
   "attachments": {},
   "cell_type": "markdown",
   "metadata": {},
   "source": [
    "Linear kernel"
   ]
  },
  {
   "cell_type": "code",
   "execution_count": null,
   "metadata": {},
   "outputs": [],
   "source": [
    "svm_plots_with_test(X_train=X_train, y_train=y_train, X_test=X_test, y_test=y_test, values=[0.01, 1, 100], param_name=\"C\", kernel=\"linear\").create_subplot()"
   ]
  },
  {
   "attachments": {},
   "cell_type": "markdown",
   "metadata": {},
   "source": [
    "Plot hyperplane of SVM for different values of gamma"
   ]
  },
  {
   "attachments": {},
   "cell_type": "markdown",
   "metadata": {},
   "source": [
    "RBF kernel"
   ]
  },
  {
   "cell_type": "code",
   "execution_count": null,
   "metadata": {},
   "outputs": [],
   "source": [
    "svm_plots_with_test(X_train=X_train, y_train=y_train, X_test=X_test, y_test=y_test, values=[0.01, 1, 100], param_name=\"gamma\", kernel=\"rbf\").create_subplot()"
   ]
  }
 ],
 "metadata": {
  "kernelspec": {
   "display_name": "Python 3",
   "language": "python",
   "name": "python3"
  },
  "language_info": {
   "codemirror_mode": {
    "name": "ipython",
    "version": 3
   },
   "file_extension": ".py",
   "mimetype": "text/x-python",
   "name": "python",
   "nbconvert_exporter": "python",
   "pygments_lexer": "ipython3",
   "version": "3.10.2"
  },
  "orig_nbformat": 4
 },
 "nbformat": 4,
 "nbformat_minor": 2
}
