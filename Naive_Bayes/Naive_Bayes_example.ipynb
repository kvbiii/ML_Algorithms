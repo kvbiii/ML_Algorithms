{
 "cells": [
  {
   "cell_type": "markdown",
   "metadata": {},
   "source": [
    "<h1>Import libraries<h1>"
   ]
  },
  {
   "cell_type": "code",
   "execution_count": 1,
   "metadata": {},
   "outputs": [],
   "source": [
    "from Model.Naive_Bayes_from_scratch import *\n",
    "from Metrics.Classification_metrics import *\n",
    "from Plots.Prediction_plots import *\n",
    "Plots_predictions = Prediction_plots()"
   ]
  },
  {
   "cell_type": "markdown",
   "metadata": {},
   "source": [
    "<h1>Explanation of Naive Bayes<h1>"
   ]
  },
  {
   "cell_type": "markdown",
   "metadata": {},
   "source": [
    "Naive Bayes is an algorithm for classification problems. The formula for determining the probability is as follows:\n",
    "$$P\\left(Y=y_i\\middle| X=\\left(x_{1,i},x_{2,i},\\ldots,\\ x_{M,i}\\right)\\right)=\\frac{P\\left(Y=y_i\\right)\\times P\\left(X=\\left(x_1,x_2,\\ldots,\\ x_M\\right)|Y=y_i\\right)}{P\\left(X=\\left(x_1,x_2,\\ldots,\\ x_M\\right)\\right)}$$\n",
    "$\\text{Where: } y_i \\text{ - the value of the explanatory variable for observation } i$<p>\n",
    "$x_{m,i} \\text{ - the value of the explanatory variable m for observation } i.$\n",
    "\n",
    "$\\text{So we just use Bayesian theory to estimate the probability.}$\n",
    "\n",
    "$\\text{Using the independence of the explanatory variables, it can be written that:}$\n",
    "$$P\\left(Y=y_i\\middle| X=\\left(x_{1,i},x_{2,i},\\ldots,\\ x_{M,i}\\right)\\right)=\\frac{P\\left(Y=y_i\\right)\\times\\prod_{m=1}^{M}{P(X=x_m|Y=y_i)}}{\\prod_{m=1}^{M}P\\left(X=x_m\\right)}$$\n",
    "$\\text{Where: } P\\left(Y=y_i\\right)\\text{ - the probability of the same class as } y_i \\text{ in our training set,}$<p>\n",
    "$P\\left(X=x_m|Y=y_i\\right) \\text{ - the probability of the selected value of the variable } x_m \\text{ for the given class } (c=y_i).$<p>\n",
    "$P\\left(Y=x_m\\right) \\text{ - the probability of such a value for the explanatory variable } x_m.$"
   ]
  },
  {
   "cell_type": "markdown",
   "metadata": {},
   "source": [
    "<h2>Estimating probabilities in Naive Bayes<h2>"
   ]
  },
  {
   "cell_type": "markdown",
   "metadata": {},
   "source": [
    "$\\text{For binary/categorical variables the solution is very simple, because:}$\n",
    "\n",
    "$$Prior\\ probabilities=P\\left(Y=y_i\\right)=\\frac{occurrences\\ of\\ class\\ c\\ \\left(y_i=c\\right)}{number\\ of\\ samples}$$\n",
    "\n",
    "$$Likelihood=P\\left(X=x_m\\middle| Y=y_i\\right)=\\frac{P\\left(X=x_m,Y=y_i\\right)}{P\\left(Y=y_i\\right)}=\\frac{\\frac{occurrences\\ of\\ given\\ category\\ for\\ variable\\ m\\ within\\ given\\ class\\ \\left(y_i=c\\right)}{number\\ of\\ samples}}{\\frac{occurrences\\ of\\ class\\ c\\ \\left(y_i=c\\right)}{number\\ of\\ samples}}=\\frac{occurrences\\ of\\ given\\ category\\ for\\ variable\\ m\\ within\\ given\\ class\\ \\left(y_i=c\\right)}{occurrences\\ of\\ class\\ c\\ \\left(y_i=c\\right)}$$\n",
    "\n",
    "$\\text{Due to the fact that sometimes a category is not present in our training set at all, we use the Laplace estimator, which adds a smoothing parameter } \\alpha \\text{:}$\n",
    "\n",
    "$$P\\left(X=x_m\\middle| Y=y_i\\right)=\\frac{occurrences\\ of\\ given\\ category\\ for\\ variable\\ m\\ within\\ given\\ class\\ \\left(y_i=c\\right)+\\alpha}{occurrences\\ of\\ class\\ c\\ \\left(y_i=c\\right)+\\alpha\\times M}$$\n",
    "\n",
    "$\\text{Where } M \\text{ - number of features in the dataset.}$\n",
    "\n",
    "$$Evidence=P\\left(X=x_m\\right)=\\frac{occurrences\\ of\\ given\\ category\\ for\\ variable\\ m}{number\\ of\\ samples}$$\n",
    "\n",
    "$\\text{Actually for each class, the denominator (Evidence) is always the same, so it can be ignored when comparing probabilities.}$\n",
    "\n",
    "$\\text{For continuous variables, the problem is a bit more complicated.}$<p>\n",
    "$\\text{We are not able to determine it numerically (especially for small data sets), so we assume that the probability of observing the value of the variable } x_m \\text{ for the given class } (c=y_i) \\text{ is:}$\n",
    "\n",
    "$$P\\left(X=x_m\\middle| Y=y_i\\right)=f\\left(X=x_m\\middle| Y=y_i\\right)=\\frac{1}{\\sqrt{2\\times\\pi\\times\\sigma_{m,c}^2}}\\times e^{-\\frac{1}{2}\\times\\left(\\frac{x_m-\\mu_{m,c}}{\\sigma_{m,c}}\\right)^2}$$\n",
    "\n",
    "$\\text{Where: } \\mu_{m,c} \\text{ - average of variable } x_m \\text{inside class } c \\text{ } (y_i=c),$<p>\n",
    "$\\sigma_{m,c} \\text{ - standard deviation of the } x_m \\text{ variable inside class } c \\text{ } (y_i=c) \\text{.}$<p>\n",
    "\n",
    "$\\text{On the other hand the Evidence will be calculated as follows: }$\n",
    "\n",
    "$$P\\left(X=x_m\\right)=f\\left(X=x_m\\right)=\\frac{1}{\\sqrt{2\\times\\pi\\times\\sigma_m^2}}\\times e^{-\\frac{1}{2}\\times\\left(\\frac{x_m-\\mu_m}{\\sigma_m}\\right)^2}$$\n",
    "\n",
    "$\\text{Where: }\\mu_m \\text{ - mean of the variable } x_m,$<p>\n",
    "$\\sigma_m \\text{- standard deviation of the variable }x_m.$"
   ]
  },
  {
   "cell_type": "markdown",
   "metadata": {},
   "source": [
    "<h1>Preprocessing<h1>"
   ]
  },
  {
   "cell_type": "markdown",
   "metadata": {},
   "source": [
    "<h2>Download data<h2>"
   ]
  },
  {
   "cell_type": "code",
   "execution_count": 2,
   "metadata": {},
   "outputs": [],
   "source": [
    "data = pd.read_csv(\"Data/bank-balanced.csv\")\n",
    "X = data.drop(\"deposit\", axis=1)\n",
    "y = data[\"deposit\"]"
   ]
  },
  {
   "cell_type": "code",
   "execution_count": 5,
   "metadata": {},
   "outputs": [
    {
     "name": "stdout",
     "output_type": "stream",
     "text": [
      "Number of observations in data: 11162\n"
     ]
    },
    {
     "data": {
      "text/html": [
       "<div>\n",
       "<style scoped>\n",
       "    .dataframe tbody tr th:only-of-type {\n",
       "        vertical-align: middle;\n",
       "    }\n",
       "\n",
       "    .dataframe tbody tr th {\n",
       "        vertical-align: top;\n",
       "    }\n",
       "\n",
       "    .dataframe thead th {\n",
       "        text-align: right;\n",
       "    }\n",
       "</style>\n",
       "<table border=\"1\" class=\"dataframe\">\n",
       "  <thead>\n",
       "    <tr style=\"text-align: right;\">\n",
       "      <th></th>\n",
       "      <th>age</th>\n",
       "      <th>job</th>\n",
       "      <th>marital</th>\n",
       "      <th>education</th>\n",
       "      <th>default</th>\n",
       "      <th>balance</th>\n",
       "      <th>housing</th>\n",
       "      <th>loan</th>\n",
       "      <th>contact</th>\n",
       "      <th>day</th>\n",
       "      <th>month</th>\n",
       "      <th>duration</th>\n",
       "      <th>campaign</th>\n",
       "      <th>pdays</th>\n",
       "      <th>previous</th>\n",
       "      <th>poutcome</th>\n",
       "      <th>deposit</th>\n",
       "    </tr>\n",
       "  </thead>\n",
       "  <tbody>\n",
       "    <tr>\n",
       "      <th>0</th>\n",
       "      <td>59</td>\n",
       "      <td>admin.</td>\n",
       "      <td>married</td>\n",
       "      <td>secondary</td>\n",
       "      <td>no</td>\n",
       "      <td>2343</td>\n",
       "      <td>yes</td>\n",
       "      <td>no</td>\n",
       "      <td>unknown</td>\n",
       "      <td>5</td>\n",
       "      <td>may</td>\n",
       "      <td>1042</td>\n",
       "      <td>1</td>\n",
       "      <td>-1</td>\n",
       "      <td>0</td>\n",
       "      <td>unknown</td>\n",
       "      <td>yes</td>\n",
       "    </tr>\n",
       "    <tr>\n",
       "      <th>1</th>\n",
       "      <td>56</td>\n",
       "      <td>admin.</td>\n",
       "      <td>married</td>\n",
       "      <td>secondary</td>\n",
       "      <td>no</td>\n",
       "      <td>45</td>\n",
       "      <td>no</td>\n",
       "      <td>no</td>\n",
       "      <td>unknown</td>\n",
       "      <td>5</td>\n",
       "      <td>may</td>\n",
       "      <td>1467</td>\n",
       "      <td>1</td>\n",
       "      <td>-1</td>\n",
       "      <td>0</td>\n",
       "      <td>unknown</td>\n",
       "      <td>yes</td>\n",
       "    </tr>\n",
       "    <tr>\n",
       "      <th>2</th>\n",
       "      <td>41</td>\n",
       "      <td>technician</td>\n",
       "      <td>married</td>\n",
       "      <td>secondary</td>\n",
       "      <td>no</td>\n",
       "      <td>1270</td>\n",
       "      <td>yes</td>\n",
       "      <td>no</td>\n",
       "      <td>unknown</td>\n",
       "      <td>5</td>\n",
       "      <td>may</td>\n",
       "      <td>1389</td>\n",
       "      <td>1</td>\n",
       "      <td>-1</td>\n",
       "      <td>0</td>\n",
       "      <td>unknown</td>\n",
       "      <td>yes</td>\n",
       "    </tr>\n",
       "    <tr>\n",
       "      <th>3</th>\n",
       "      <td>55</td>\n",
       "      <td>services</td>\n",
       "      <td>married</td>\n",
       "      <td>secondary</td>\n",
       "      <td>no</td>\n",
       "      <td>2476</td>\n",
       "      <td>yes</td>\n",
       "      <td>no</td>\n",
       "      <td>unknown</td>\n",
       "      <td>5</td>\n",
       "      <td>may</td>\n",
       "      <td>579</td>\n",
       "      <td>1</td>\n",
       "      <td>-1</td>\n",
       "      <td>0</td>\n",
       "      <td>unknown</td>\n",
       "      <td>yes</td>\n",
       "    </tr>\n",
       "    <tr>\n",
       "      <th>4</th>\n",
       "      <td>54</td>\n",
       "      <td>admin.</td>\n",
       "      <td>married</td>\n",
       "      <td>tertiary</td>\n",
       "      <td>no</td>\n",
       "      <td>184</td>\n",
       "      <td>no</td>\n",
       "      <td>no</td>\n",
       "      <td>unknown</td>\n",
       "      <td>5</td>\n",
       "      <td>may</td>\n",
       "      <td>673</td>\n",
       "      <td>2</td>\n",
       "      <td>-1</td>\n",
       "      <td>0</td>\n",
       "      <td>unknown</td>\n",
       "      <td>yes</td>\n",
       "    </tr>\n",
       "  </tbody>\n",
       "</table>\n",
       "</div>"
      ],
      "text/plain": [
       "   age         job  marital  education default  balance housing loan  contact  \\\n",
       "0   59      admin.  married  secondary      no     2343     yes   no  unknown   \n",
       "1   56      admin.  married  secondary      no       45      no   no  unknown   \n",
       "2   41  technician  married  secondary      no     1270     yes   no  unknown   \n",
       "3   55    services  married  secondary      no     2476     yes   no  unknown   \n",
       "4   54      admin.  married   tertiary      no      184      no   no  unknown   \n",
       "\n",
       "   day month  duration  campaign  pdays  previous poutcome deposit  \n",
       "0    5   may      1042         1     -1         0  unknown     yes  \n",
       "1    5   may      1467         1     -1         0  unknown     yes  \n",
       "2    5   may      1389         1     -1         0  unknown     yes  \n",
       "3    5   may       579         1     -1         0  unknown     yes  \n",
       "4    5   may       673         2     -1         0  unknown     yes  "
      ]
     },
     "execution_count": 5,
     "metadata": {},
     "output_type": "execute_result"
    }
   ],
   "source": [
    "print(\"Number of observations in data: {}\".format(len(data)))\n",
    "data.head()"
   ]
  },
  {
   "cell_type": "markdown",
   "metadata": {},
   "source": [
    "<h2>Check for null data<h2>"
   ]
  },
  {
   "cell_type": "code",
   "execution_count": 6,
   "metadata": {},
   "outputs": [
    {
     "data": {
      "text/plain": [
       "age          0.0\n",
       "job          0.0\n",
       "marital      0.0\n",
       "education    0.0\n",
       "default      0.0\n",
       "balance      0.0\n",
       "housing      0.0\n",
       "loan         0.0\n",
       "contact      0.0\n",
       "day          0.0\n",
       "month        0.0\n",
       "duration     0.0\n",
       "campaign     0.0\n",
       "pdays        0.0\n",
       "previous     0.0\n",
       "poutcome     0.0\n",
       "deposit      0.0\n",
       "dtype: float64"
      ]
     },
     "execution_count": 6,
     "metadata": {},
     "output_type": "execute_result"
    }
   ],
   "source": [
    "data.isnull().sum()/len(data)"
   ]
  },
  {
   "cell_type": "markdown",
   "metadata": {},
   "source": [
    "<h3>Check dtypes of dataset<h3>"
   ]
  },
  {
   "cell_type": "code",
   "execution_count": 7,
   "metadata": {},
   "outputs": [
    {
     "data": {
      "text/plain": [
       "age           int64\n",
       "job          object\n",
       "marital      object\n",
       "education    object\n",
       "default      object\n",
       "balance       int64\n",
       "housing      object\n",
       "loan         object\n",
       "contact      object\n",
       "day           int64\n",
       "month        object\n",
       "duration      int64\n",
       "campaign      int64\n",
       "pdays         int64\n",
       "previous      int64\n",
       "poutcome     object\n",
       "deposit      object\n",
       "dtype: object"
      ]
     },
     "execution_count": 7,
     "metadata": {},
     "output_type": "execute_result"
    }
   ],
   "source": [
    "data.dtypes"
   ]
  },
  {
   "cell_type": "markdown",
   "metadata": {},
   "source": [
    "<h2>Divide our data into train and test sets<h2>"
   ]
  },
  {
   "cell_type": "code",
   "execution_count": 8,
   "metadata": {},
   "outputs": [],
   "source": [
    "X = data.drop('deposit', axis=1)\n",
    "y = data[['deposit']]\n",
    "X_train, X_test, y_train, y_test = train_test_split(X, y, shuffle=True, random_state=17, test_size=0.2)"
   ]
  },
  {
   "cell_type": "markdown",
   "metadata": {},
   "source": [
    "$\\text{Because of the assumption of a normal distribution of our continuous variables, it is worth modifying their distribution before modeling.}$<p>\n",
    "$\\text{For this purpose, the Z-score will be used, which is described by the following formula:}$\n",
    "\n",
    "$${\\hat{X}}_{m, i}=\\frac{X_{m, i}-{\\bar{X}}_m}{\\sigma_m}$$\n",
    "\n",
    "$\\text{Where: } {\\hat{X}}_{m, i} \\text{ - standardized observation } i \\text{ of variable } m,$<p>\n",
    "$X_{m, i} \\text{ - observation } i \\text{ of variable } m,$<p>\n",
    "${\\bar{X}}_m \\text{ - mean of variable } m,$<p>\n",
    "$\\sigma_m \\text{ - standard deviation of variable } m.$"
   ]
  },
  {
   "cell_type": "markdown",
   "metadata": {},
   "source": [
    "$\\text{To properly approach the modeling process, the test set should remain unknown until the prediction is made.}$<p>\n",
    "$\\text{For this reason, we will only learn the mean and standard deviation for the training set and transform}$<p>\n",
    "$\\text{the two data sets based on just these values.}$ "
   ]
  },
  {
   "cell_type": "code",
   "execution_count": 9,
   "metadata": {},
   "outputs": [],
   "source": [
    "categorical_data_train = X_train.select_dtypes(include=\"object\")\n",
    "continous_data_train = X_train.select_dtypes(exclude=\"object\")\n",
    "categorical_data_test = X_test.select_dtypes(include=\"object\")\n",
    "continous_data_test = X_test.select_dtypes(exclude=\"object\")\n",
    "mean_train = np.mean(continous_data_train, axis=0)\n",
    "std_train = np.std(continous_data_train, axis=0)\n",
    "continous_data_train = (continous_data_train-mean_train)/std_train\n",
    "continous_data_test = (continous_data_test-mean_train)/std_train"
   ]
  },
  {
   "cell_type": "code",
   "execution_count": 10,
   "metadata": {},
   "outputs": [],
   "source": [
    "X_train_final = pd.concat([categorical_data_train, continous_data_train], axis=1)\n",
    "X_test_final = pd.concat([categorical_data_test, continous_data_test], axis=1)"
   ]
  },
  {
   "cell_type": "markdown",
   "metadata": {},
   "source": [
    "<h1>Evaluation and Visualization<h1>"
   ]
  },
  {
   "cell_type": "markdown",
   "metadata": {},
   "source": [
    "$\\text{To verify how well our algorithm is able to perform, a cross-validation will be used on the training set (in order to average the results obtained).}$<p>\n",
    "$\\text{Then we will check whether the Naive Bayes algorithm will perform equally well (or even better) on the test data.}$"
   ]
  },
  {
   "cell_type": "markdown",
   "metadata": {},
   "source": [
    "$\\text{Simple Cross-Validation class}$"
   ]
  },
  {
   "cell_type": "code",
   "execution_count": 11,
   "metadata": {},
   "outputs": [],
   "source": [
    "class Cross_Validation():\n",
    "    def __init__(self, metric, algorithm_instance, cross_validation_instance):\n",
    "        metrics = {\"accuracy\": [lambda y, y_pred: accuracy_score(y, y_pred), \"preds\"],\n",
    "                    \"roc_auc\": [lambda y, y_pred: roc_auc_score(y, y_pred), \"probs\"],\n",
    "                    \"mse\": [lambda y, y_pred: -mean_squared_error(y, y_pred), \"preds\"],\n",
    "                    \"rmse\": [lambda y, y_pred: -mean_squared_error(y, y_pred)**0.5, \"preds\"],\n",
    "                    \"mae\": [lambda y, y_pred: -mean_absolute_error(y, y_pred), \"preds\"]}\n",
    "        if metric not in metrics:\n",
    "            raise ValueError('Unsupported metric: {}'.format(metric))\n",
    "        self.eval_metric = metrics[metric][0]\n",
    "        self.metric_type = metrics[metric][1]\n",
    "        self.algorithm = algorithm_instance\n",
    "        self.cv = cross_validation_instance\n",
    "    \n",
    "    def fit(self, X, y, verbose=False):\n",
    "        X = self.check_X(X=X)\n",
    "        y = self.check_y(y=y)\n",
    "        self.train_scores, self.valid_scores = [], []\n",
    "        for iter, (train_idx, valid_idx) in enumerate(self.cv.split(X, y)):\n",
    "            X_train, X_valid = X[train_idx, :], X[valid_idx, :]\n",
    "            y_train, y_valid = y[train_idx], y[valid_idx]\n",
    "            self.algorithm.fit(X_train, y_train)\n",
    "            if(self.metric_type == \"preds\"):\n",
    "                y_train_pred = self.algorithm.predict(X_train)\n",
    "                y_valid_pred = self.algorithm.predict(X_valid)\n",
    "            else:\n",
    "                y_train_pred = self.algorithm.predict_proba(X_train)[:, 1]\n",
    "                y_valid_pred = self.algorithm.predict_proba(X_valid)[:, 1]\n",
    "            self.train_scores.append(self.eval_metric(y_train, y_train_pred))\n",
    "            self.valid_scores.append(self.eval_metric(y_valid, y_valid_pred))\n",
    "            if(verbose == True):\n",
    "                print(\"Iter {}: train scores: {}; valid scores: {}\".format(iter, np.round(self.eval_metric(y_train, y_train_pred), 5), np.round(self.eval_metric(y_valid, y_valid_pred), 5)))\n",
    "        return np.mean(self.train_scores), np.mean(self.valid_scores)\n",
    "    \n",
    "    def check_X(self, X):\n",
    "        if not isinstance(X, pd.DataFrame) and not isinstance(X, np.ndarray) and not torch.is_tensor(X):\n",
    "            raise TypeError('Wrong type of X. It should be dataframe, numpy array or torch tensor.')\n",
    "        X = np.array(X)\n",
    "        if(X.ndim == 1):\n",
    "            X = X[None, :]\n",
    "        return X\n",
    "    \n",
    "    def check_y(self, y):\n",
    "        if not isinstance(y, pd.DataFrame) and not isinstance(y, pd.Series) and not isinstance(y, np.ndarray) and not torch.is_tensor(y):\n",
    "            raise TypeError('Wrong type of y. It should be pandas DataFrame, pandas Series, numpy array or torch tensor.')\n",
    "        y = np.array(y)\n",
    "        if(y.ndim == 2):\n",
    "            y = y.squeeze()\n",
    "        return y"
   ]
  },
  {
   "cell_type": "code",
   "execution_count": 12,
   "metadata": {},
   "outputs": [
    {
     "name": "stdout",
     "output_type": "stream",
     "text": [
      "Iter 0: train scores: 0.84936; valid scores: 0.83244\n",
      "Iter 1: train scores: 0.85053; valid scores: 0.84596\n",
      "Iter 2: train scores: 0.85246; valid scores: 0.87133\n",
      "Iter 3: train scores: 0.84733; valid scores: 0.84398\n",
      "Iter 4: train scores: 0.85254; valid scores: 0.84743\n",
      "Mean of train scores: 0.85; Mean of valid scores: 0.848\n"
     ]
    }
   ],
   "source": [
    "CV = Cross_Validation(metric=\"roc_auc\", algorithm_instance=Naive_Bayes(alpha=1), cross_validation_instance=KFold(n_splits=5, shuffle=True, random_state=17))\n",
    "mean_of_train_scores, mean_of_valid_scores = CV.fit(X=X_train_final, y=y_train, verbose=True)\n",
    "print(\"Mean of train scores: {}; Mean of valid scores: {}\".format(np.round(mean_of_train_scores, 5), np.round(mean_of_valid_scores, 5)))"
   ]
  },
  {
   "cell_type": "markdown",
   "metadata": {},
   "source": [
    "$\\text{Scores are pretty simmilar on train and valid sets in cross vvalidation which is a good sign.}$\n",
    "\n",
    "$\\text{Now let's check how Naive Bayes will perform on the test data set.}$"
   ]
  },
  {
   "cell_type": "code",
   "execution_count": 13,
   "metadata": {},
   "outputs": [],
   "source": [
    "model = Naive_Bayes(alpha=1)\n",
    "model.fit(X=X_train_final, y=y_train)\n",
    "y_pred = model.predict(X=X_test_final)\n",
    "y_prob = model.predict_proba(X=X_test_final)[:, 1]"
   ]
  },
  {
   "cell_type": "markdown",
   "metadata": {},
   "source": [
    "<h3>Confussion matrix<h3>"
   ]
  },
  {
   "cell_type": "code",
   "execution_count": 14,
   "metadata": {},
   "outputs": [
    {
     "data": {
      "image/png": "[encoded data removed]"
     },
     "metadata": {},
     "output_type": "display_data"
    }
   ],
   "source": [
    "Plots_predictions.multilabel_conf_matrix(y_test, y_pred, labels=[i for i in np.unique(y_test)])"
   ]
  },
  {
   "cell_type": "code",
   "execution_count": 15,
   "metadata": {},
   "outputs": [
    {
     "name": "stdout",
     "output_type": "stream",
     "text": [
      "Roc AUC score: 0.84234\n",
      "+--------------+-------------+----------+------------+-------------+\n",
      "|              |   precision |   recall |   f1-score |     support |\n",
      "|--------------+-------------+----------+------------+-------------|\n",
      "| no           |    0.759709 | 0.811582 |   0.784789 | 1157        |\n",
      "| yes          |    0.781344 | 0.723978 |   0.751568 | 1076        |\n",
      "| accuracy     |    0.769369 | 0.769369 |   0.769369 |    0.769369 |\n",
      "| macro avg    |    0.770526 | 0.76778  |   0.768178 | 2233        |\n",
      "| weighted avg |    0.770134 | 0.769369 |   0.768781 | 2233        |\n",
      "+--------------+-------------+----------+------------+-------------+\n"
     ]
    }
   ],
   "source": [
    "print(\"Roc AUC score: {}\".format(np.round(roc_auc_score(y_true=y_test, y_score=y_prob), 5)))\n",
    "report = classification_report(y_test, y_pred, output_dict=True)\n",
    "df = pd.DataFrame(report).transpose()\n",
    "print(tabulate(df, headers=\"keys\", tablefmt = 'psql'))"
   ]
  },
  {
   "cell_type": "markdown",
   "metadata": {},
   "source": [
    "<h3>ROC Curve<h3>"
   ]
  },
  {
   "cell_type": "markdown",
   "metadata": {},
   "source": [
    "$\\text{First we have to transform our y\\_test data to contain only values {0, 1} (currently: {\"no\", \"yes\"})}$"
   ]
  },
  {
   "cell_type": "code",
   "execution_count": 21,
   "metadata": {},
   "outputs": [],
   "source": [
    "encoder = OrdinalEncoder()\n",
    "y_test_transformed = encoder.fit_transform(y_test)"
   ]
  },
  {
   "cell_type": "code",
   "execution_count": 22,
   "metadata": {},
   "outputs": [
    {
     "data": {
      "image/png": "[encoded data removed]"
     },
     "metadata": {},
     "output_type": "display_data"
    }
   ],
   "source": [
    "Plots_predictions.roc_auc_plot(y_true=y_test_transformed, y_prob=y_prob)"
   ]
  },
  {
   "cell_type": "markdown",
   "metadata": {},
   "source": [
    "$\\text{It seems that our Naive Bayes works really effectively on the test set as well.}$<p>\n",
    "$\\text{However, it's worth noting that Naive Bayes is just a simple algorithm, and Decision Trees or}$<p>\n",
    "$\\text{Support Vector Machines generally do much better (especially on slightly more challenging datasets).}$"
   ]
  },
  {
   "cell_type": "markdown",
   "metadata": {},
   "source": [
    "<h1>Advantages and disadvantages of Naive Bayes<h1>"
   ]
  },
  {
   "cell_type": "markdown",
   "metadata": {},
   "source": [
    "$\\text{Advantages of Naive Bayes:}$<p>\n",
    "$\\text{- Short compilation time,}$<p>\n",
    "$\\text{- Generally performs better than other algorithms on a small number of training data and a large number of variables,}$<p>\n",
    "$\\text{- Performs relatively well on categorical variables relative to the other algorithms.}$<br>\n",
    "\n",
    "$\\text{Disadvantages of Naive Bayes:}$<p>\n",
    "$\\text{- Difficult to satisfy (for most data sets) the assumption of independence of variables,}$<p>\n",
    "$\\text{- Generally lower predictive power relative to other algorithms due to the simplicity of Naive Bayes.}$"
   ]
  }
 ],
 "metadata": {
  "kernelspec": {
   "display_name": "Python 3",
   "language": "python",
   "name": "python3"
  },
  "language_info": {
   "codemirror_mode": {
    "name": "ipython",
    "version": 3
   },
   "file_extension": ".py",
   "mimetype": "text/x-python",
   "name": "python",
   "nbconvert_exporter": "python",
   "pygments_lexer": "ipython3",
   "version": "3.11.3"
  },
  "orig_nbformat": 4
 },
 "nbformat": 4,
 "nbformat_minor": 2
}
