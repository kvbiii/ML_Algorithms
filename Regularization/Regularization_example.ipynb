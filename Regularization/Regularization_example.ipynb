{
 "cells": [
  {
   "cell_type": "markdown",
   "metadata": {},
   "source": [
    "<h1>Import libraries<h1>"
   ]
  },
  {
   "cell_type": "code",
   "execution_count": 1,
   "metadata": {},
   "outputs": [],
   "source": [
    "from Model.Ridge_from_scratch import *\n",
    "from Model.Lasso_from_scratch import *\n",
    "from Model.ElasticNet_from_scratch import *\n",
    "from Metrics.Classification_metrics import *\n",
    "from Metrics.Regression_metrics import *\n",
    "from Plots.Prediction_plots import *\n",
    "Plots_predictions = Prediction_plots()"
   ]
  },
  {
   "cell_type": "markdown",
   "metadata": {},
   "source": [
    "<h1>Explanation of Regularization<h1>"
   ]
  },
  {
   "cell_type": "markdown",
   "metadata": {},
   "source": [
    "$\\text{Regularization is the method used for the overfitting problem of linear and logistic regression.}$<p>\n",
    "$\\text{Overfitting, is when our algorithm returns good predictions on training data, but much weaker ones on unseen-test data.}$<p>\n",
    "$\\text{Generally speaking, when talking about any Machine Learning algorithm, it is important that it maximizes matching scores,}$\n",
    "$\\text{while minimizing error variance (of predictions and true values) between different sets of analyzed data.}$<p>\n",
    "$\\text{Adding a \"regularization term\" makes it likely that the model will increase the error slightly (on the training data), while it will decrease the variances.}$<p>\n",
    "$\\text{Each regularization algorithm reduces the complexity of the model, thus reducing overfitting.}$<p>\n",
    "$\\text{Trade-off between error and variance is a classic problem for any algorithm.}$<p>\n",
    "$\\text{The following section will present regularization algorithms for which the relationships will be true:}$<p>\n",
    "$\\text{- As } \\alpha \\text{ increases, the error }\\textbf{increases,}$<p>\n",
    "$\\text{- As } \\alpha \\text{ increases, the variance }\\textbf{decreases}.$"
   ]
  },
  {
   "cell_type": "markdown",
   "metadata": {},
   "source": [
    "<h1>Advantages and disadvantages of Regularization<h1>"
   ]
  },
  {
   "cell_type": "markdown",
   "metadata": {},
   "source": [
    "$\\text{Advantages of Regularization:}$<p>\n",
    "$\\text{- Reduces over-fitting by reducing the computational complexity of the model,}$<p>\n",
    "$\\text{- If there is correlation between variables it works better than regressions,}$<p>\n",
    "$\\text{- For a large number of variables, shorter compilation time than ordinary regressions.}$<br>\n",
    "\n",
    "$\\text{Disadvantages of Regularization:}$<p>\n",
    "$\\text{- Due to the reduction in the complexity of the model can lead to the phenomenon of mismatch (the model is too simple),}$<p>\n",
    "$\\text{- Regularization can make the model heavier to interpret due to the restrictions placed on the coefficients.}$"
   ]
  },
  {
   "cell_type": "markdown",
   "metadata": {},
   "source": [
    "<h2>Explanation of Ridge Regression<h2>"
   ]
  },
  {
   "cell_type": "markdown",
   "metadata": {},
   "source": [
    "$\\text{The first regularization algorithm that I would like to explain in Ridge Regression.}$<p><br>\n",
    "\n",
    "$\\text{Ridge Regression is an } \\textbf{L2 regularization algorithm.}$<p>\n",
    "$\\text{Our linear regression minimization problem, for Ridge (after taking into account the \"regularization term\"), will look like this:}$<p>\n",
    "$$RSS_{Ridge}=\\sum_{i=1}^{N}\\left(y_i-{\\hat{\\beta}}_{Ridge}\\times X_i\\right)^2+\\alpha\\times\\sum_{m=0}^{M}{{\\hat{\\beta}}_{Ridge.\\ m}\\ }^2$$\n",
    "$\\text{Where: } y_i \\text{ - dependent variable for observation } i,$<p>\n",
    "${\\hat{\\beta}}_{Ridge} \\text{ - vector of estimated coefficients,}$<p>\n",
    "$X_i \\text{ - vector of independent variables for observation } i,$<p>\n",
    "$\\alpha \\text{ - shrinkage parameter,}$<p>\n",
    "$M \\text{ - the number of independent variables used in the model,}$<p>\n",
    "${\\hat{\\beta}}_{Ridge,\\ m} \\text{ - estimated coefficient value for variable m.}$<p>"
   ]
  },
  {
   "cell_type": "markdown",
   "metadata": {},
   "source": [
    "$\\text{Thus, when using gradient optimization:}$<p>\n",
    "$$Loss=\\frac{1}{N}\\times\\left(\\sum_{i=1}^{N}\\left(y_i-{\\hat{\\beta}}_{Ridge}\\times X_i\\right)^2+\\alpha\\times\\sum_{m=0}^{M}{{\\hat{\\beta}}_{Ridge,\\ m}\\ }^2\\right)=$$\n",
    "$$=\\frac{1}{N}\\times\\left(\\sum_{i=1}^{N}\\left({y_i}^2-2\\times y_i\\times{\\hat{\\beta}}_{Ridge}\\times X_i+{{\\hat{\\beta}}_{Ridge}}^2\\times{X_i}^2\\right)+\\alpha\\times\\sum_{m=0}^{M}{{\\hat{\\beta}}_{Ridge,\\ m}\\ }^2\\right)$$\n",
    "\n",
    "$$\\frac{\\partial Loss}{\\partial{\\hat{\\beta}}_{Ridge}}=\\frac{1}{N}\\times\\left(\\sum_{i=1}^{N}\\left(-2\\times y_i\\times X_i+2\\times{\\hat{\\beta}}_{Ridge}\\times{X_i}^2\\right)+2\\times\\alpha\\times\\sum_{m=0}^{M}{\\hat{\\beta}}_{Ridge,\\ m}\\right)=$$\n",
    "$$=-\\frac{2}{N}\\times\\left(\\sum_{i=1}^{N}\\left(X_i\\times\\left(y_i-{\\hat{\\beta}}_{Ridge}\\times X_i\\right)\\right)-\\alpha\\times\\sum_{m=0}^{M}{\\hat{\\beta}}_{Ridge,\\ m}\\right)$$\n",
    "\n",
    "$\\text{Conversion from sum into matrix form:}$\n",
    "$$\\frac{\\partial Loss\\left({\\hat{\\beta}}_{Ridge}\\right)}{\\partial{\\hat{\\beta}}_{Ridge}}=-\\frac{2}{N}\\times\\left(X^T\\times\\left(y-{\\hat{\\beta}}_{Ridge}^T\\times X\\right)-\\alpha\\times{\\hat{\\beta}}_{Ridge}^T\\right)$$\n",
    "$${\\hat{\\beta}}_{New}={\\hat{\\beta}}_{Old}-learning\\ rate\\times\\left(-\\frac{2}{N}\\times\\left(X^T\\times\\left(y-{\\hat{\\beta}}_{Ridge}^T\\times X\\right)-\\alpha\\times{\\hat{\\beta}}_{Ridge}^T\\right)\\right)$$\n",
    "$\\text{If we would like to to determine the optimal value of } {\\hat{\\beta}}_{Ridge}^T \\text{ directly from the derivative, it is also possible:}$\n",
    "$$\\frac{\\partial Loss\\left({\\hat{\\beta}}_{Ridge}\\right)}{\\partial{\\hat{\\beta}}_{Ridge}}=0\\leftrightarrow-\\frac{2}{N}\\times\\left(X^T\\times\\left(y-{\\hat{\\beta}}_{Ridge}^T\\times X\\right)-\\alpha\\times{\\hat{\\beta}}_{Ridge}^T\\right)=0$$\n",
    "$$X^T\\times y-X^T\\times X\\times{\\hat{\\beta}}_{Ridge}^T-\\alpha\\times{\\hat{\\beta}}_{Ridge}^T=0$$\n",
    "$${\\hat{\\beta}}_{Ridge}^T\\times\\left(X^T\\times X+\\alpha\\right)=X^T\\times y$$\n",
    "$${\\hat{\\beta}}_{Ridge}^T=\\frac{X^T\\times y}{X^T\\times X+\\alpha}$$\n",
    "$${\\hat{\\beta}}_{Ridge}=\\left(X^\\prime\\times X+\\alpha\\times I\\right)^{-1}\\times X^\\prime\\times\\gamma$$"
   ]
  },
  {
   "cell_type": "markdown",
   "metadata": {},
   "source": [
    "$\\text{We can also apply the Ridge algorithm to a classification problem.}$<p>\n",
    "$\\text{To do that we have to convert our dependent variables to: } \\{1,-1\\} \\text{ and treat the task as a regression problem.}$<p>\n",
    "$\\text{Thus, the calculations are exactly the same as for regression!}$<p>\n",
    "$\\text{It means that we will perform the determination of the optimal coefficient using the formula:}$\n",
    "\n",
    "$${\\hat{\\beta}}_{Ridge}=\\left(X^\\prime\\times X+\\alpha\\times I\\right)^{-1}\\times X^\\prime\\times\\gamma$$\n",
    "\n",
    "$\\text{In the case of multiclassing, we will have to break each class into separate subclasses by which we will}$<p>\n",
    "$\\text{obtain a coefficient matrix with dimensions (when the intercept is included in model): } [number\\ of\\ features+1;\\ number\\ of\\ classes].$"
   ]
  },
  {
   "cell_type": "markdown",
   "metadata": {},
   "source": [
    "<h2>Explanation of Lasso<h2>"
   ]
  },
  {
   "cell_type": "markdown",
   "metadata": {},
   "source": [
    "$\\text{Lasso (Least Absolute Shrinkage Selector Operator) is an } \\textbf{L1 regularization algorithm.}$<p>\n",
    "$\\text{Our linear regression minimization problem, for Lasso (after taking into account the \"regularization term\"), will look like this:}$<p>\n",
    "\n",
    "$$RSS_{Lasso}=\\sum_{i=1}^{N}\\left(y_i-{\\hat{\\beta}}_{Lasso}\\times X_i\\right)^2+\\alpha\\times\\sum_{m=0}^{M}\\left|{\\hat{\\beta}}_{Lasso,m}\\right|$$\n",
    "\n",
    "$\\text{Where: } y_i \\text{ - dependent variable for observation i,}$<p>\n",
    "${\\hat{\\beta}}_{Lasso} \\text{ - vector of estimated coefficients,}$<p>\n",
    "$X_i \\text{ - vector of independent variables for observation i,}$<p>\n",
    "$\\alpha \\text{ - shrinkage parameter,}$<p>\n",
    "$M \\text{ - the number of independent variables used in the model,}$<p>\n",
    "${\\hat{\\beta}}_{Lasso,m} \\text{ - estimated coefficient value for variable m.}$<p>"
   ]
  },
  {
   "cell_type": "markdown",
   "metadata": {},
   "source": [
    "$\\text{Thus, when using gradient optimization:}$\n",
    "$$Loss=\\frac{1}{N}\\times\\left(\\sum_{i=1}^{N}\\left(y_i-{\\hat{\\beta}}_{Lasso}\\times X_i\\right)^2+\\alpha\\times\\sum_{m=0}^{M}\\left|{\\hat{\\beta}}_{Lasso,m}\\right|\\right)=$$\n",
    "$$=\\frac{1}{N}\\times\\left(\\sum_{i=1}^{N}\\left({y_i}^2-2\\times y_i\\times{\\hat{\\beta}}_{Lasso}\\times X_i+{{\\hat{\\beta}}_{Lasso}}^2\\times{X_i}^2\\right)+\\alpha\\times\\sum_{m=0}^{M}\\left|{\\hat{\\beta}}_{Lasso,m}\\right|\\right)$$\n",
    "$$\\frac{\\partial Loss}{\\partial{\\hat{\\beta}}_{Lasso}}=\\frac{1}{N}\\times\\left(\\sum_{i=1}^{N}\\left(-2\\times y_i\\times X_i+2\\times{\\hat{\\beta}}_{Lasso}\\times{X_i}^2\\right)+\\alpha\\times\\sum_{m=0}^{M}\\frac{{\\hat{\\beta}}_{Lasso,m}}{\\left|{\\hat{\\beta}}_{Lasso,m}\\right|}\\right)=$$\n",
    "$$=-\\frac{2}{N}\\times\\left(\\sum_{i=1}^{N}\\left(X_i\\times\\left(y_i-{\\hat{\\beta}}_{Lasso}\\times X_i\\right)\\right)-\\frac{\\alpha}{2}\\times\\sum_{m=0}^{M}\\frac{{\\hat{\\beta}}_{Lasso,m}}{\\left|{\\hat{\\beta}}_{Lasso,m}\\right|}\\right)$$\n",
    "$\\text{Conversion from sum into matrix form: }$\n",
    "$$\\frac{\\partial Loss\\left({\\hat{\\beta}}_{Lasso}\\right)}{\\partial{\\hat{\\beta}}_{Lasso}}=-\\frac{2}{N}\\times\\left(X^T\\times\\left(y-{\\hat{\\beta}}_{Lasso}\\times X\\right)-\\frac{\\alpha}{2}\\times\\frac{{\\hat{\\beta}}_{Lasso}^T}{\\left|{\\hat{\\beta}}_{Lasso}^T\\right|}\\right)$$\n",
    "$${\\hat{\\beta}}_{New}={\\hat{\\beta}}_{Old}-learning\\ rate\\times\\left(-\\frac{2}{N}\\times\\left(X^T\\times\\left(y-{\\hat{\\beta}}_{Lasso}\\times X\\right)-\\frac{\\alpha}{2}\\times\\frac{{\\hat{\\beta}}_{Lasso}^T}{\\left|{\\hat{\\beta}}_{Lasso}^T\\right|}\\right)\\right)$$"
   ]
  },
  {
   "cell_type": "markdown",
   "metadata": {},
   "source": [
    "$\\text{We can also apply the Lasso algorithm to a classification problem.}$<p>\n",
    "$\\text{To do that we have to convert our dependent variables to: } \\{1,-1\\} \\text{ and treat the task as a regression problem.}$<br>\n",
    "\n",
    "$\\text{In the case of multiclassing, we will have to break each class into separate subclasses by which we will}$<p>\n",
    "$\\text{obtain a coefficient matrix with dimensions (when the intercept is included in model): } [number\\ of\\ features+1;\\ number\\ of\\ classes].$"
   ]
  },
  {
   "cell_type": "markdown",
   "metadata": {},
   "source": [
    "<h2>Explanation of ElasticNet<h2>"
   ]
  },
  {
   "cell_type": "markdown",
   "metadata": {},
   "source": [
    "$\\text{ElasticNet is a combination of } \\textbf{L1 and L2 regularization algorithms.}$<p>\n",
    "$\\text{Our linear regression minimization problem, for ElasticNet (after taking into account both \"regularization terms\"), will look like this:}$<p>\n",
    "\n",
    "$$RSS_{Elastic}=\\sum_{i=1}^{N}\\left(y_i-{\\hat{\\beta}}_{Elastic}\\times X_i\\right)^2+\\alpha_1\\times\\sum_{m=0}^{M}\\left|{\\hat{\\beta}}_{Elastic,\\ m}\\right|+\\alpha_2\\times\\sum_{m=0}^{M}{{\\hat{\\beta}}_{Elastic,\\ m}}^2$$\n",
    "\n",
    "$\\text{Where: } y_i \\text{ - dependent variable for observation i,}$<p>\n",
    "${\\hat{\\beta}}_{Elastic} \\text{ - vector of estimated coefficients,}$<p>\n",
    "$X_i \\text{ - vector of independent variables for observation i,}$<p>\n",
    "$\\alpha \\text{ - shrinkage parameter,}$<p>\n",
    "$M \\text{ - the number of independent variables used in the model,}$<p>\n",
    "${\\hat{\\beta}}_{Elastic,m} \\text{ - estimated coefficient value for variable m.}$<p>"
   ]
  },
  {
   "cell_type": "markdown",
   "metadata": {},
   "source": [
    "$\\text{Thus, when using gradient optimization:}$\n",
    "$$Loss=\\frac{1}{N}\\times\\left(\\sum_{i=1}^{N}\\left(y_i-{\\hat{\\beta}}_{Elastic}\\times X_i\\right)^2+\\alpha_1\\times\\sum_{m=0}^{M}\\left|{\\hat{\\beta}}_{Elastic,\\ m}\\right|+\\alpha_2\\times\\sum_{m=0}^{M}{{\\hat{\\beta}}_{Elastic,\\ m}}^2\\right)=$$\n",
    "$$=\\frac{1}{N}\\times\\left(\\sum_{i=1}^{N}\\left({y_i}^2-2\\times y_i\\times{\\hat{\\beta}}_{Elastic}\\times X_i+{{\\hat{\\beta}}_{Elastic}}^2\\times{X_i}^2\\right)+\\alpha_1\\times\\sum_{m=0}^{M}\\left|{\\hat{\\beta}}_{Elastic,\\ m}\\right|+\\alpha_2\\times\\sum_{m=0}^{M}{{\\hat{\\beta}}_{Elastic,\\ m}}^2\\right)$$\n",
    "$$\\frac{\\partial Loss}{\\partial{\\hat{\\beta}}_{Elastic}}=\\frac{1}{N}\\times\\left(\\sum_{i=1}^{N}\\left(-2\\times y_i\\times X_i+2\\times{\\hat{\\beta}}_{Elastic}\\times{X_i}^2\\right)+\\alpha_1\\times\\sum_{m=0}^{M}\\frac{{\\hat{\\beta}}_{Elastic,\\ m}}{\\left|{\\hat{\\beta}}_{Elastic,\\ m}\\right|}+2\\times\\alpha_2\\times\\sum_{m=0}^{M}{\\hat{\\beta}}_{Elastic,\\ m}\\right)=$$\n",
    "$$=-\\frac{2}{N}\\times\\left(\\sum_{i=1}^{N}\\left(X_i\\times\\left(y_i-{\\hat{\\beta}}_{Elastic}\\times X_i\\right)\\right)-\\frac{\\alpha_1}{2}\\times\\sum_{m=0}^{M}\\frac{{\\hat{\\beta}}_{Elastic,\\ m}}{\\left|{\\hat{\\beta}}_{Elastic,\\ m}\\right|}-\\alpha_2\\times\\sum_{m=0}^{M}{\\hat{\\beta}}_{Elastic,\\ m}\\right)$$\n",
    "$\\text{Conversion from sum into matrix form: }$\n",
    "$$\\frac{\\partial Loss\\left({\\hat{\\beta}}_{Elastic}\\right)}{\\partial{\\hat{\\beta}}_{Elastic}}=-\\frac{2}{N}\\times\\left(X^T\\times\\left(y-{\\hat{\\beta}}_{Elastic}\\times X\\right)-\\frac{\\alpha_1}{2}\\times\\frac{{\\hat{\\beta}}_{Elastic}^T}{\\left|{\\hat{\\beta}}_{Elastic}^T\\right|}-\\alpha_2\\times{\\hat{\\beta}}_{Elastic}^T\\right)$$\n",
    "$${\\hat{\\beta}}_{New}={\\hat{\\beta}}_{Old}-learning\\ rate\\times\\left(-\\frac{2}{N}\\times\\left(X^T\\times\\left(y-{\\hat{\\beta}}_{Elastic}\\times X\\right)-\\frac{\\alpha_1}{2}\\times\\frac{{\\hat{\\beta}}_{Elastic}^T}{\\left|{\\hat{\\beta}}_{Elastic}^T\\right|}-\\alpha_2\\times{\\hat{\\beta}}_{Elastic}^T\\right)\\right)$$"
   ]
  },
  {
   "cell_type": "markdown",
   "metadata": {},
   "source": [
    "$\\text{We can also apply the ElasticNet algorithm to a classification problem.}$<p>\n",
    "$\\text{To do that we have to convert our dependent variables to: } \\{1,-1\\} \\text{ and treat the task as a regression problem.}$<br>\n",
    "\n",
    "$\\text{In the case of multiclassing, we will have to break each class into separate subclasses by which we will}$<p>\n",
    "$\\text{obtain a coefficient matrix with dimensions (when the intercept is included in model): } [number\\ of\\ features+1;\\ number\\ of\\ classes].$"
   ]
  },
  {
   "cell_type": "markdown",
   "metadata": {},
   "source": [
    "<h2>Comparision of Regularizers<h2>"
   ]
  },
  {
   "cell_type": "markdown",
   "metadata": {},
   "source": [
    "$\\text{- Ridge (L2) works better than Lasso (L1) when we have a lot of statistically significant variables in the dataset, because it will keep them in the model,}$<p>\n",
    "$\\text{- Lasso works better than Ridge when we have few statistically significant variables in the dataset,}$<p>\n",
    "$\\text{- Lasso can be used for variable selection unlike Ridge,}$<p>\n",
    "$\\text{- In the case where we have a huge number of variables (for example, 10000) even if there is a correlation between them,}$<p>\n",
    "$\\text{Lasso should be better in terms of memory when possibly needing to store and use the algorithm again.}$<p>\n",
    "$\\text{In addition, for such a large number of variables, even using Ridge, we may have the phenomenon of overfitting, as there will be too many variables and noise,}$<p>\n",
    "$\\text{- Lasso's problem, on the other hand, is the removal of variables in situations where there is correlation between predictors,}$<p>\n",
    "$\\text{causing the algorithm to lose important information,}$<p>\n",
    "$\\text{- In such situations (like the one described two points above) that ElasticNet is useful, which on the one hand will remove some noise,}$<p>\n",
    "$\\text{but we have some chance of keeping the variables correlated (ElasticNet works best for large data sets).}$"
   ]
  },
  {
   "cell_type": "markdown",
   "metadata": {},
   "source": [
    "<h1>Classification<h1>"
   ]
  },
  {
   "cell_type": "markdown",
   "metadata": {},
   "source": [
    "<h1>Preprocessing<h1>"
   ]
  },
  {
   "cell_type": "markdown",
   "metadata": {},
   "source": [
    "<h2>Download data<h2>"
   ]
  },
  {
   "cell_type": "code",
   "execution_count": 2,
   "metadata": {},
   "outputs": [],
   "source": [
    "data = pd.read_csv(\"Data/bank-balanced.csv\")\n",
    "X = data.drop(\"deposit\", axis=1)\n",
    "y = data[\"deposit\"]"
   ]
  },
  {
   "cell_type": "code",
   "execution_count": 3,
   "metadata": {},
   "outputs": [
    {
     "name": "stdout",
     "output_type": "stream",
     "text": [
      "Number of observations in data: 11162\n"
     ]
    },
    {
     "data": {
      "text/html": [
       "<div>\n",
       "<style scoped>\n",
       "    .dataframe tbody tr th:only-of-type {\n",
       "        vertical-align: middle;\n",
       "    }\n",
       "\n",
       "    .dataframe tbody tr th {\n",
       "        vertical-align: top;\n",
       "    }\n",
       "\n",
       "    .dataframe thead th {\n",
       "        text-align: right;\n",
       "    }\n",
       "</style>\n",
       "<table border=\"1\" class=\"dataframe\">\n",
       "  <thead>\n",
       "    <tr style=\"text-align: right;\">\n",
       "      <th></th>\n",
       "      <th>age</th>\n",
       "      <th>job</th>\n",
       "      <th>marital</th>\n",
       "      <th>education</th>\n",
       "      <th>default</th>\n",
       "      <th>balance</th>\n",
       "      <th>housing</th>\n",
       "      <th>loan</th>\n",
       "      <th>contact</th>\n",
       "      <th>day</th>\n",
       "      <th>month</th>\n",
       "      <th>duration</th>\n",
       "      <th>campaign</th>\n",
       "      <th>pdays</th>\n",
       "      <th>previous</th>\n",
       "      <th>poutcome</th>\n",
       "      <th>deposit</th>\n",
       "    </tr>\n",
       "  </thead>\n",
       "  <tbody>\n",
       "    <tr>\n",
       "      <th>0</th>\n",
       "      <td>59</td>\n",
       "      <td>admin.</td>\n",
       "      <td>married</td>\n",
       "      <td>secondary</td>\n",
       "      <td>no</td>\n",
       "      <td>2343</td>\n",
       "      <td>yes</td>\n",
       "      <td>no</td>\n",
       "      <td>unknown</td>\n",
       "      <td>5</td>\n",
       "      <td>may</td>\n",
       "      <td>1042</td>\n",
       "      <td>1</td>\n",
       "      <td>-1</td>\n",
       "      <td>0</td>\n",
       "      <td>unknown</td>\n",
       "      <td>yes</td>\n",
       "    </tr>\n",
       "    <tr>\n",
       "      <th>1</th>\n",
       "      <td>56</td>\n",
       "      <td>admin.</td>\n",
       "      <td>married</td>\n",
       "      <td>secondary</td>\n",
       "      <td>no</td>\n",
       "      <td>45</td>\n",
       "      <td>no</td>\n",
       "      <td>no</td>\n",
       "      <td>unknown</td>\n",
       "      <td>5</td>\n",
       "      <td>may</td>\n",
       "      <td>1467</td>\n",
       "      <td>1</td>\n",
       "      <td>-1</td>\n",
       "      <td>0</td>\n",
       "      <td>unknown</td>\n",
       "      <td>yes</td>\n",
       "    </tr>\n",
       "    <tr>\n",
       "      <th>2</th>\n",
       "      <td>41</td>\n",
       "      <td>technician</td>\n",
       "      <td>married</td>\n",
       "      <td>secondary</td>\n",
       "      <td>no</td>\n",
       "      <td>1270</td>\n",
       "      <td>yes</td>\n",
       "      <td>no</td>\n",
       "      <td>unknown</td>\n",
       "      <td>5</td>\n",
       "      <td>may</td>\n",
       "      <td>1389</td>\n",
       "      <td>1</td>\n",
       "      <td>-1</td>\n",
       "      <td>0</td>\n",
       "      <td>unknown</td>\n",
       "      <td>yes</td>\n",
       "    </tr>\n",
       "    <tr>\n",
       "      <th>3</th>\n",
       "      <td>55</td>\n",
       "      <td>services</td>\n",
       "      <td>married</td>\n",
       "      <td>secondary</td>\n",
       "      <td>no</td>\n",
       "      <td>2476</td>\n",
       "      <td>yes</td>\n",
       "      <td>no</td>\n",
       "      <td>unknown</td>\n",
       "      <td>5</td>\n",
       "      <td>may</td>\n",
       "      <td>579</td>\n",
       "      <td>1</td>\n",
       "      <td>-1</td>\n",
       "      <td>0</td>\n",
       "      <td>unknown</td>\n",
       "      <td>yes</td>\n",
       "    </tr>\n",
       "    <tr>\n",
       "      <th>4</th>\n",
       "      <td>54</td>\n",
       "      <td>admin.</td>\n",
       "      <td>married</td>\n",
       "      <td>tertiary</td>\n",
       "      <td>no</td>\n",
       "      <td>184</td>\n",
       "      <td>no</td>\n",
       "      <td>no</td>\n",
       "      <td>unknown</td>\n",
       "      <td>5</td>\n",
       "      <td>may</td>\n",
       "      <td>673</td>\n",
       "      <td>2</td>\n",
       "      <td>-1</td>\n",
       "      <td>0</td>\n",
       "      <td>unknown</td>\n",
       "      <td>yes</td>\n",
       "    </tr>\n",
       "  </tbody>\n",
       "</table>\n",
       "</div>"
      ],
      "text/plain": [
       "   age         job  marital  education default  balance housing loan  contact  \\\n",
       "0   59      admin.  married  secondary      no     2343     yes   no  unknown   \n",
       "1   56      admin.  married  secondary      no       45      no   no  unknown   \n",
       "2   41  technician  married  secondary      no     1270     yes   no  unknown   \n",
       "3   55    services  married  secondary      no     2476     yes   no  unknown   \n",
       "4   54      admin.  married   tertiary      no      184      no   no  unknown   \n",
       "\n",
       "   day month  duration  campaign  pdays  previous poutcome deposit  \n",
       "0    5   may      1042         1     -1         0  unknown     yes  \n",
       "1    5   may      1467         1     -1         0  unknown     yes  \n",
       "2    5   may      1389         1     -1         0  unknown     yes  \n",
       "3    5   may       579         1     -1         0  unknown     yes  \n",
       "4    5   may       673         2     -1         0  unknown     yes  "
      ]
     },
     "execution_count": 3,
     "metadata": {},
     "output_type": "execute_result"
    }
   ],
   "source": [
    "print(\"Number of observations in data: {}\".format(len(data)))\n",
    "data.head()"
   ]
  },
  {
   "cell_type": "markdown",
   "metadata": {},
   "source": [
    "<h2>Check for null data<h2>"
   ]
  },
  {
   "cell_type": "code",
   "execution_count": 4,
   "metadata": {},
   "outputs": [
    {
     "data": {
      "text/plain": [
       "age          0.0\n",
       "job          0.0\n",
       "marital      0.0\n",
       "education    0.0\n",
       "default      0.0\n",
       "balance      0.0\n",
       "housing      0.0\n",
       "loan         0.0\n",
       "contact      0.0\n",
       "day          0.0\n",
       "month        0.0\n",
       "duration     0.0\n",
       "campaign     0.0\n",
       "pdays        0.0\n",
       "previous     0.0\n",
       "poutcome     0.0\n",
       "deposit      0.0\n",
       "dtype: float64"
      ]
     },
     "execution_count": 4,
     "metadata": {},
     "output_type": "execute_result"
    }
   ],
   "source": [
    "data.isnull().sum()/len(data)"
   ]
  },
  {
   "cell_type": "markdown",
   "metadata": {},
   "source": [
    "<h3>Check dtypes of dataset<h3>"
   ]
  },
  {
   "cell_type": "code",
   "execution_count": 5,
   "metadata": {},
   "outputs": [
    {
     "data": {
      "text/plain": [
       "age           int64\n",
       "job          object\n",
       "marital      object\n",
       "education    object\n",
       "default      object\n",
       "balance       int64\n",
       "housing      object\n",
       "loan         object\n",
       "contact      object\n",
       "day           int64\n",
       "month        object\n",
       "duration      int64\n",
       "campaign      int64\n",
       "pdays         int64\n",
       "previous      int64\n",
       "poutcome     object\n",
       "deposit      object\n",
       "dtype: object"
      ]
     },
     "execution_count": 5,
     "metadata": {},
     "output_type": "execute_result"
    }
   ],
   "source": [
    "data.dtypes"
   ]
  },
  {
   "cell_type": "markdown",
   "metadata": {},
   "source": [
    "<h2>Divide our data into train and test sets<h2>"
   ]
  },
  {
   "cell_type": "code",
   "execution_count": 6,
   "metadata": {},
   "outputs": [],
   "source": [
    "X_train, X_test, y_train, y_test = train_test_split(X, y, shuffle=True, random_state=17, test_size=0.2)"
   ]
  },
  {
   "cell_type": "markdown",
   "metadata": {},
   "source": [
    "$\\text{Because of the assumption of a normal distribution of our continuous variables, it is worth modifying their distribution before modeling.}$<p>\n",
    "$\\text{For this purpose, the MinMaxScaler will be used, which is described by the following formula:}$\n",
    "\n",
    "$${\\hat{X}}_{m,i}=\\frac{X_{m,i}-\\min{\\left(X_m\\right)}}{\\max{\\left(X_m\\right)}-\\min{\\left(X_m\\right)}}$$\n",
    "\n",
    "$\\text{Where: } {\\hat{X}}_{m, i} \\text{ - normalized observation } i \\text{ of variable } m,$<p>\n",
    "$X_{m, i} \\text{ - observation } i \\text{ of variable } m,$<p>\n",
    "$\\min{\\left(X_m\\right)} \\text{ - minimum of variable } m,$<p>\n",
    "$\\max{\\left(X_m\\right)} \\text{ - maximum of variable } m.$"
   ]
  },
  {
   "cell_type": "markdown",
   "metadata": {},
   "source": [
    "$\\text{To properly approach the modeling process, the test set should remain unknown until the prediction is made.}$<p>\n",
    "$\\text{For this reason, we will only learn the mean and standard deviation for the training set and transform}$<p>\n",
    "$\\text{the two data sets based on just these values.}$ "
   ]
  },
  {
   "cell_type": "code",
   "execution_count": 7,
   "metadata": {},
   "outputs": [],
   "source": [
    "categorical_data_train = X_train.select_dtypes(include=\"object\")\n",
    "continous_data_train = X_train.select_dtypes(exclude=\"object\")\n",
    "categorical_data_test = X_test.select_dtypes(include=\"object\")\n",
    "continous_data_test = X_test.select_dtypes(exclude=\"object\")\n",
    "categorical_data_train = pd.get_dummies(categorical_data_train, drop_first=True, dtype=int)\n",
    "categorical_data_test = pd.get_dummies(categorical_data_test, drop_first=True, dtype=int)\n",
    "min_train = np.min(continous_data_train, axis=0)\n",
    "max_train = np.max(continous_data_train, axis=0)\n",
    "continous_data_train = (continous_data_train-min_train)/(max_train-min_train)\n",
    "continous_data_test = (continous_data_test-min_train)/(max_train-min_train)"
   ]
  },
  {
   "cell_type": "code",
   "execution_count": 8,
   "metadata": {},
   "outputs": [],
   "source": [
    "X_train = pd.concat([categorical_data_train, continous_data_train], axis=1)\n",
    "X_test = pd.concat([categorical_data_test, continous_data_test], axis=1)"
   ]
  },
  {
   "cell_type": "markdown",
   "metadata": {},
   "source": [
    "<h1>Modelling<h1>"
   ]
  },
  {
   "cell_type": "markdown",
   "metadata": {},
   "source": [
    "$\\text{To verify how well our algorithms are able to perform, a cross-validation will be used on the training set (in order to average the results obtained).}$<p>\n",
    "$\\text{Then we will check whether the algorithms will perform equally well (or even better) on the test data.}$"
   ]
  },
  {
   "cell_type": "markdown",
   "metadata": {},
   "source": [
    "$\\text{Simple Cross-Validation class}$"
   ]
  },
  {
   "cell_type": "code",
   "execution_count": 9,
   "metadata": {},
   "outputs": [],
   "source": [
    "class Cross_Validation():\n",
    "    def __init__(self, metric, algorithm_instance, cross_validation_instance):\n",
    "        metrics = {\"accuracy\": [lambda y, y_pred: accuracy_score(y, y_pred), \"preds\"],\n",
    "                    \"roc_auc\": [lambda y, y_pred: roc_auc_score(y, y_pred), \"probs\"],\n",
    "                    \"mse\": [lambda y, y_pred: mean_squared_error(y, y_pred), \"preds\"],\n",
    "                    \"rmse\": [lambda y, y_pred: mean_squared_error(y, y_pred)**0.5, \"preds\"],\n",
    "                    \"mae\": [lambda y, y_pred: mean_absolute_error(y, y_pred), \"preds\"]}\n",
    "        if metric not in metrics:\n",
    "            raise ValueError('Unsupported metric: {}'.format(metric))\n",
    "        self.eval_metric = metrics[metric][0]\n",
    "        self.metric_type = metrics[metric][1]\n",
    "        self.algorithm = algorithm_instance\n",
    "        self.cv = cross_validation_instance\n",
    "    \n",
    "    def fit(self, X, y, verbose=False):\n",
    "        X = self.check_X(X=X)\n",
    "        y = self.check_y(y=y)\n",
    "        self.train_scores, self.valid_scores = [], []\n",
    "        for iter, (train_idx, valid_idx) in enumerate(self.cv.split(X, y)):\n",
    "            X_train, X_valid = X[train_idx, :], X[valid_idx, :]\n",
    "            y_train, y_valid = y[train_idx], y[valid_idx]\n",
    "            self.algorithm.fit(X_train, y_train)\n",
    "            if(self.metric_type == \"preds\"):\n",
    "                y_train_pred = self.algorithm.predict(X_train)\n",
    "                y_valid_pred = self.algorithm.predict(X_valid)\n",
    "            else:\n",
    "                y_train_pred = self.algorithm.predict_proba(X_train)[:, 1]\n",
    "                y_valid_pred = self.algorithm.predict_proba(X_valid)[:, 1]\n",
    "            self.train_scores.append(self.eval_metric(y_train, y_train_pred))\n",
    "            self.valid_scores.append(self.eval_metric(y_valid, y_valid_pred))\n",
    "            if(verbose == True):\n",
    "                print(\"Iter {}: train scores: {}; valid scores: {}\".format(iter, np.round(self.eval_metric(y_train, y_train_pred), 5), np.round(self.eval_metric(y_valid, y_valid_pred), 5)))\n",
    "        return np.mean(self.train_scores), np.mean(self.valid_scores)\n",
    "    \n",
    "    def check_X(self, X):\n",
    "        if not isinstance(X, pd.DataFrame) and not isinstance(X, np.ndarray) and not torch.is_tensor(X):\n",
    "            raise TypeError('Wrong type of X. It should be dataframe, numpy array or torch tensor.')\n",
    "        X = np.array(X)\n",
    "        if(X.ndim == 1):\n",
    "            X = X[None, :]\n",
    "        return X\n",
    "    \n",
    "    def check_y(self, y):\n",
    "        if not isinstance(y, pd.DataFrame) and not isinstance(y, pd.Series) and not isinstance(y, np.ndarray) and not torch.is_tensor(y):\n",
    "            raise TypeError('Wrong type of y. It should be pandas DataFrame, pandas Series, numpy array or torch tensor.')\n",
    "        y = np.array(y)\n",
    "        if(y.ndim == 2):\n",
    "            y = y.squeeze()\n",
    "        return y"
   ]
  },
  {
   "cell_type": "markdown",
   "metadata": {},
   "source": [
    "$\\text{Ridge}$"
   ]
  },
  {
   "cell_type": "code",
   "execution_count": 10,
   "metadata": {},
   "outputs": [
    {
     "name": "stdout",
     "output_type": "stream",
     "text": [
      "Iter 0: train scores: 0.90142; valid scores: 0.90177\n",
      "Iter 1: train scores: 0.90218; valid scores: 0.8978\n",
      "Iter 2: train scores: 0.9017; valid scores: 0.90037\n",
      "Iter 3: train scores: 0.90358; valid scores: 0.89238\n",
      "Iter 4: train scores: 0.90161; valid scores: 0.90276\n",
      "Mean of train scores: 0.9021; Mean of valid scores: 0.89901\n"
     ]
    }
   ],
   "source": [
    "CV = Cross_Validation(metric=\"roc_auc\", algorithm_instance=Ridge_Classifier(alpha=1, fit_intercept=True, learning_rate=0.1, max_iter=1500), cross_validation_instance=KFold(n_splits=5, shuffle=True, random_state=17))\n",
    "mean_of_train_scores, mean_of_valid_scores = CV.fit(X=X_train, y=y_train, verbose=True)\n",
    "print(\"Mean of train scores: {}; Mean of valid scores: {}\".format(np.round(mean_of_train_scores, 5), np.round(mean_of_valid_scores, 5)))"
   ]
  },
  {
   "cell_type": "markdown",
   "metadata": {},
   "source": [
    "$\\text{Lasso}$"
   ]
  },
  {
   "cell_type": "code",
   "execution_count": 11,
   "metadata": {},
   "outputs": [
    {
     "name": "stdout",
     "output_type": "stream",
     "text": [
      "Iter 0: train scores: 0.89962; valid scores: 0.90076\n",
      "Iter 1: train scores: 0.90084; valid scores: 0.89618\n",
      "Iter 2: train scores: 0.90022; valid scores: 0.89884\n",
      "Iter 3: train scores: 0.90189; valid scores: 0.88935\n",
      "Iter 4: train scores: 0.89985; valid scores: 0.9021\n",
      "Mean of train scores: 0.90048; Mean of valid scores: 0.89745\n"
     ]
    }
   ],
   "source": [
    "CV = Cross_Validation(metric=\"roc_auc\", algorithm_instance=Lasso_Classifier(alpha=1, fit_intercept=True, learning_rate=0.1, max_iter=1500), cross_validation_instance=KFold(n_splits=5, shuffle=True, random_state=17))\n",
    "mean_of_train_scores, mean_of_valid_scores = CV.fit(X=X_train, y=y_train, verbose=True)\n",
    "print(\"Mean of train scores: {}; Mean of valid scores: {}\".format(np.round(mean_of_train_scores, 5), np.round(mean_of_valid_scores, 5)))"
   ]
  },
  {
   "cell_type": "markdown",
   "metadata": {},
   "source": [
    "$\\text{ElasticNet}$"
   ]
  },
  {
   "cell_type": "code",
   "execution_count": 12,
   "metadata": {},
   "outputs": [
    {
     "name": "stdout",
     "output_type": "stream",
     "text": [
      "Iter 0: train scores: 0.89931; valid scores: 0.90046\n",
      "Iter 1: train scores: 0.90054; valid scores: 0.89582\n",
      "Iter 2: train scores: 0.89993; valid scores: 0.89856\n",
      "Iter 3: train scores: 0.90159; valid scores: 0.88892\n",
      "Iter 4: train scores: 0.89953; valid scores: 0.90193\n",
      "Mean of train scores: 0.90018; Mean of valid scores: 0.89714\n"
     ]
    }
   ],
   "source": [
    "CV = Cross_Validation(metric=\"roc_auc\", algorithm_instance=ElasticNet_Classifier(l1_term=1, l2_term=1, fit_intercept=True, learning_rate=0.1, max_iter=1500), cross_validation_instance=KFold(n_splits=5, shuffle=True, random_state=17))\n",
    "mean_of_train_scores, mean_of_valid_scores = CV.fit(X=X_train, y=y_train, verbose=True)\n",
    "print(\"Mean of train scores: {}; Mean of valid scores: {}\".format(np.round(mean_of_train_scores, 5), np.round(mean_of_valid_scores, 5)))"
   ]
  },
  {
   "cell_type": "markdown",
   "metadata": {},
   "source": [
    "$\\text{Logistic Regression}$"
   ]
  },
  {
   "cell_type": "code",
   "execution_count": 13,
   "metadata": {},
   "outputs": [
    {
     "name": "stdout",
     "output_type": "stream",
     "text": [
      "Iter 0: train scores: 0.90451; valid scores: 0.90404\n",
      "Iter 1: train scores: 0.90536; valid scores: 0.90014\n",
      "Iter 2: train scores: 0.90445; valid scores: 0.90353\n",
      "Iter 3: train scores: 0.90626; valid scores: 0.89699\n",
      "Iter 4: train scores: 0.90436; valid scores: 0.90488\n",
      "Mean of train scores: 0.90499; Mean of valid scores: 0.90192\n"
     ]
    }
   ],
   "source": [
    "from sklearn.linear_model import LogisticRegression\n",
    "CV = Cross_Validation(metric=\"roc_auc\", algorithm_instance=LogisticRegression(penalty=None, fit_intercept=True, max_iter=1500), cross_validation_instance=KFold(n_splits=5, shuffle=True, random_state=17))\n",
    "mean_of_train_scores, mean_of_valid_scores = CV.fit(X=X_train, y=y_train, verbose=True)\n",
    "print(\"Mean of train scores: {}; Mean of valid scores: {}\".format(np.round(mean_of_train_scores, 5), np.round(mean_of_valid_scores, 5)))"
   ]
  },
  {
   "cell_type": "markdown",
   "metadata": {},
   "source": [
    "$\\text{Actually as we can see our Logistic Regression is doing better.}$<p>\n",
    "$\\text{Moreover train scores and valid scores are simmmilar for Logistic Regression therefore we can conclude that there might be no need to use Regularization.}$<p>"
   ]
  },
  {
   "cell_type": "markdown",
   "metadata": {},
   "source": [
    "$\\text{Just to be sure, compare predictions for train and test data sets.}$"
   ]
  },
  {
   "cell_type": "code",
   "execution_count": 14,
   "metadata": {},
   "outputs": [
    {
     "name": "stdout",
     "output_type": "stream",
     "text": [
      "Ridge: Train: 0.902; Test: 0.9019\n",
      "Lasso: Train: 0.9001; Test: 0.9007\n",
      "ElasticNet: Train: 0.9003; Test: 0.9011\n",
      "Logistic Regression: Train: 0.9047; Test: 0.9042\n"
     ]
    }
   ],
   "source": [
    "ridge = Ridge_Classifier(alpha=1, fit_intercept=True, learning_rate=0.1, max_iter=1500)\n",
    "lasso = Lasso_Classifier(alpha=1, fit_intercept=True, learning_rate=0.1, max_iter=1500)\n",
    "elastic = ElasticNet_Classifier(l1_term=1, l2_term=1, fit_intercept=True, learning_rate=0.1, max_iter=1500)\n",
    "logistic = LogisticRegression(penalty=None, fit_intercept=True, max_iter=1500)\n",
    "ridge.fit(X_train, y_train)\n",
    "y_ridge_prob_train = ridge.predict_proba(X_train)[:,1]\n",
    "y_ridge_prob_test = ridge.predict_proba(X_test)[:,1]\n",
    "print(\"Ridge: Train: {}; Test: {}\".format(np.round(roc_auc_score(y_train, y_ridge_prob_train), 4), np.round(roc_auc_score(y_test, y_ridge_prob_test), 4)))\n",
    "lasso.fit(X_train, y_train)\n",
    "y_lasso_prob_train = lasso.predict_proba(X_train)[:,1]\n",
    "y_lasso_prob_test = lasso.predict_proba(X_test)[:,1]\n",
    "print(\"Lasso: Train: {}; Test: {}\".format(np.round(roc_auc_score(y_train, y_lasso_prob_train), 4), np.round(roc_auc_score(y_test, y_lasso_prob_test), 4)))\n",
    "elastic.fit(X_train, y_train)\n",
    "y_elastic_prob_train = elastic.predict_proba(X_train)[:,1]\n",
    "y_elastic_prob_test = elastic.predict_proba(X_test)[:,1]\n",
    "print(\"ElasticNet: Train: {}; Test: {}\".format(np.round(roc_auc_score(y_train, y_elastic_prob_train), 4), np.round(roc_auc_score(y_test, y_elastic_prob_test), 4)))\n",
    "logistic.fit(X_train, np.array(y_train).squeeze())\n",
    "y_logistic_prob_train = logistic.predict_proba(X_train)[:,1]\n",
    "y_logistic_prob_test = logistic.predict_proba(X_test)[:,1]\n",
    "print(\"Logistic Regression: Train: {}; Test: {}\".format(np.round(roc_auc_score(np.array(y_train).squeeze(), y_logistic_prob_train), 4), np.round(roc_auc_score(np.array(y_test).squeeze(), y_logistic_prob_test), 4)))"
   ]
  },
  {
   "cell_type": "markdown",
   "metadata": {},
   "source": [
    "$\\text{Again, best results for Logistic Regression and again simmilar for train and test data set which means that algorithm is not overfitted.}$<p>\n",
    "$\\text{Obviuosly for some datasets there is no need to use regularization.}$"
   ]
  },
  {
   "cell_type": "markdown",
   "metadata": {},
   "source": [
    "<h1>Regression<h1>"
   ]
  },
  {
   "cell_type": "markdown",
   "metadata": {},
   "source": [
    "$\\text{For regression we will use dataset with diabetes, and degrees of features to see how well our algorithm is able to predict with some noise added.}$"
   ]
  },
  {
   "cell_type": "code",
   "execution_count": 15,
   "metadata": {},
   "outputs": [],
   "source": [
    "from sklearn.preprocessing import PolynomialFeatures\n",
    "from sklearn.datasets import load_diabetes\n",
    "X = load_diabetes()['data']\n",
    "y = load_diabetes()['target']\n",
    "poly = PolynomialFeatures(degree = 3, interaction_only=True)\n",
    "X_poly_transformed = poly.fit_transform(X)"
   ]
  },
  {
   "cell_type": "markdown",
   "metadata": {},
   "source": [
    "<h2>Divide our data into train and test sets<h2>"
   ]
  },
  {
   "cell_type": "code",
   "execution_count": 16,
   "metadata": {},
   "outputs": [],
   "source": [
    "X_train, X_test, y_train, y_test = train_test_split(X_poly_transformed, y, shuffle=True, random_state=17, test_size=0.2)"
   ]
  },
  {
   "cell_type": "markdown",
   "metadata": {},
   "source": [
    "$\\text{We will scale the data using the same scaler as in classification - MinMaxScaler.}$"
   ]
  },
  {
   "cell_type": "code",
   "execution_count": 17,
   "metadata": {},
   "outputs": [],
   "source": [
    "scaler = MinMaxScaler()\n",
    "X_train = scaler.fit_transform(X_train)\n",
    "X_test = scaler.transform(X_test)"
   ]
  },
  {
   "cell_type": "markdown",
   "metadata": {},
   "source": [
    "<h1>Modelling<h1>"
   ]
  },
  {
   "cell_type": "markdown",
   "metadata": {},
   "source": [
    "$\\text{To verify how well our algorithms are able to perform, a cross-validation will be used on the training set (in order to average the results obtained).}$<p>\n",
    "$\\text{Then we will check whether the algorithms will perform equally well (or even better) on the test data.}$\n",
    "\n",
    "$\\text{Using same cross validation class}$"
   ]
  },
  {
   "cell_type": "markdown",
   "metadata": {},
   "source": [
    "$\\text{Ridge}$"
   ]
  },
  {
   "cell_type": "code",
   "execution_count": 18,
   "metadata": {},
   "outputs": [
    {
     "name": "stdout",
     "output_type": "stream",
     "text": [
      "Iter 0: train scores: 1924.89853; valid scores: 4048.81512\n",
      "Iter 1: train scores: 2132.79369; valid scores: 2910.12709\n",
      "Iter 2: train scores: 1974.06132; valid scores: 3467.73444\n",
      "Iter 3: train scores: 1943.41762; valid scores: 3230.82239\n",
      "Iter 4: train scores: 1915.4889; valid scores: 3388.32477\n",
      "Mean of train scores: 1978.13201; Mean of valid scores: 3409.16476\n"
     ]
    }
   ],
   "source": [
    "CV = Cross_Validation(metric=\"mse\", algorithm_instance=Ridge_Regressor(alpha=1, fit_intercept=True, learning_rate=0.01, max_iter=1500), cross_validation_instance=KFold(n_splits=5, shuffle=True, random_state=17))\n",
    "mean_of_train_scores, mean_of_valid_scores = CV.fit(X=X_train, y=y_train, verbose=True)\n",
    "print(\"Mean of train scores: {}; Mean of valid scores: {}\".format(np.round(mean_of_train_scores, 5), np.round(mean_of_valid_scores, 5)))"
   ]
  },
  {
   "cell_type": "markdown",
   "metadata": {},
   "source": [
    "$\\text{Lasso}$"
   ]
  },
  {
   "cell_type": "code",
   "execution_count": 19,
   "metadata": {},
   "outputs": [
    {
     "name": "stdout",
     "output_type": "stream",
     "text": [
      "Iter 0: train scores: 2370.93584; valid scores: 3768.59727\n",
      "Iter 1: train scores: 2528.45581; valid scores: 2855.85371\n",
      "Iter 2: train scores: 2403.98565; valid scores: 3144.16164\n",
      "Iter 3: train scores: 2479.60624; valid scores: 2513.48473\n",
      "Iter 4: train scores: 2351.88734; valid scores: 3476.39405\n",
      "Mean of train scores: 2426.97418; Mean of valid scores: 3151.69828\n"
     ]
    }
   ],
   "source": [
    "CV = Cross_Validation(metric=\"mse\", algorithm_instance=Lasso_Regressor(alpha=1, fit_intercept=True, learning_rate=0.01, max_iter=1500), cross_validation_instance=KFold(n_splits=5, shuffle=True, random_state=17))\n",
    "mean_of_train_scores, mean_of_valid_scores = CV.fit(X=X_train, y=y_train, verbose=True)\n",
    "print(\"Mean of train scores: {}; Mean of valid scores: {}\".format(np.round(mean_of_train_scores, 5), np.round(mean_of_valid_scores, 5)))"
   ]
  },
  {
   "cell_type": "markdown",
   "metadata": {},
   "source": [
    "$\\text{ElasticNet}$"
   ]
  },
  {
   "cell_type": "code",
   "execution_count": 20,
   "metadata": {},
   "outputs": [
    {
     "name": "stdout",
     "output_type": "stream",
     "text": [
      "Iter 0: train scores: 2399.85396; valid scores: 3757.46442\n",
      "Iter 1: train scores: 2557.40491; valid scores: 2892.95694\n",
      "Iter 2: train scores: 2432.69519; valid scores: 3150.94095\n",
      "Iter 3: train scores: 2512.26279; valid scores: 2505.46237\n",
      "Iter 4: train scores: 2381.39891; valid scores: 3491.51886\n",
      "Mean of train scores: 2456.72315; Mean of valid scores: 3159.66871\n"
     ]
    }
   ],
   "source": [
    "CV = Cross_Validation(metric=\"mse\", algorithm_instance=ElasticNet_Regressor(l1_term=1, l2_term=1, fit_intercept=True, learning_rate=0.01, max_iter=1500), cross_validation_instance=KFold(n_splits=5, shuffle=True, random_state=17))\n",
    "mean_of_train_scores, mean_of_valid_scores = CV.fit(X=X_train, y=y_train, verbose=True)\n",
    "print(\"Mean of train scores: {}; Mean of valid scores: {}\".format(np.round(mean_of_train_scores, 5), np.round(mean_of_valid_scores, 5)))"
   ]
  },
  {
   "cell_type": "markdown",
   "metadata": {},
   "source": [
    "$\\text{Linear Regression}$"
   ]
  },
  {
   "cell_type": "code",
   "execution_count": 21,
   "metadata": {},
   "outputs": [
    {
     "name": "stdout",
     "output_type": "stream",
     "text": [
      "Iter 0: train scores: 3951.84776; valid scores: 43714.2646\n",
      "Iter 1: train scores: 1233.44231; valid scores: 20710.24547\n",
      "Iter 2: train scores: 1855.72949; valid scores: 25675.872\n",
      "Iter 3: train scores: 2020.45177; valid scores: 9308.26371\n",
      "Iter 4: train scores: 1124.74736; valid scores: 43776.87323\n",
      "Mean of train scores: 2037.24374; Mean of valid scores: 28637.1038\n"
     ]
    }
   ],
   "source": [
    "from sklearn.linear_model import LinearRegression\n",
    "CV = Cross_Validation(metric=\"mse\", algorithm_instance=LinearRegression(fit_intercept=True), cross_validation_instance=KFold(n_splits=5, shuffle=True, random_state=17))\n",
    "mean_of_train_scores, mean_of_valid_scores = CV.fit(X=X_train, y=y_train, verbose=True)\n",
    "print(\"Mean of train scores: {}; Mean of valid scores: {}\".format(np.round(mean_of_train_scores, 5), np.round(mean_of_valid_scores, 5)))"
   ]
  },
  {
   "cell_type": "markdown",
   "metadata": {},
   "source": [
    "$\\text{Now check for our test data.}$"
   ]
  },
  {
   "cell_type": "code",
   "execution_count": 22,
   "metadata": {},
   "outputs": [
    {
     "name": "stdout",
     "output_type": "stream",
     "text": [
      "Ridge: Train: 2088.8225832957; Test: 4436.7666\n",
      "Lasso: Train: 2505.1551; Test: 3966.9098\n",
      "ElasticNet: Train: 2530.8906; Test: 3943.4589\n",
      "Linear Regression: Train: 2237.8838726603; Test: 28768.6153\n"
     ]
    }
   ],
   "source": [
    "ridge = Ridge_Regressor(alpha=1, fit_intercept=True, learning_rate=0.01, max_iter=1500)\n",
    "lasso = Lasso_Regressor(alpha=1, fit_intercept=True, learning_rate=0.01, max_iter=1500)\n",
    "elastic = ElasticNet_Regressor(l1_term=1, l2_term=1, fit_intercept=True, learning_rate=0.01, max_iter=1500)\n",
    "linear = LinearRegression(fit_intercept=True)\n",
    "ridge.fit(X_train, y_train)\n",
    "y_ridge_pred_train = ridge.predict(X_train)\n",
    "y_ridge_pred_test = ridge.predict(X_test)\n",
    "print(\"Ridge: Train: {}; Test: {}\".format(np.round(mean_squared_error(y_train, y_ridge_pred_train), 10), np.round(mean_squared_error(y_test, y_ridge_pred_test), 4)))\n",
    "lasso.fit(X_train, y_train)\n",
    "y_lasso_pred_train = lasso.predict(X_train)\n",
    "y_lasso_pred_test = lasso.predict(X_test)\n",
    "print(\"Lasso: Train: {}; Test: {}\".format(np.round(mean_squared_error(y_train, y_lasso_pred_train), 4), np.round(mean_squared_error(y_test, y_lasso_pred_test), 4)))\n",
    "elastic.fit(X_train, y_train)\n",
    "y_elastic_pred_train = elastic.predict(X_train)\n",
    "y_elastic_pred_test = elastic.predict(X_test)\n",
    "print(\"ElasticNet: Train: {}; Test: {}\".format(np.round(mean_squared_error(y_train, y_elastic_pred_train), 4), np.round(mean_squared_error(y_test, y_elastic_pred_test), 4)))\n",
    "linear.fit(X_train, np.array(y_train).squeeze())\n",
    "y_linear_pred_train = linear.predict(X_train)\n",
    "y_linear_pred_test = linear.predict(X_test)\n",
    "print(\"Linear Regression: Train: {}; Test: {}\".format(np.round(mean_squared_error(np.array(y_train).squeeze(), y_linear_pred_train), 10), np.round(mean_squared_error(np.array(y_test).squeeze(), y_linear_pred_test), 4)))"
   ]
  },
  {
   "cell_type": "markdown",
   "metadata": {},
   "source": [
    "$\\text{In this dataset we can clearly see that a simple linear regression model gives second best results (for train data) compared to regularization algorithms.}$<p>\n",
    "$\\text{However, on the valid/test sets predictions are really poor - our model is overfitted.}$<p>\n",
    "$\\text{All of our regularization estimators give much better results on test data set than Linear Regression!}$<p>\n",
    "$\\text{We will tune our regularization models a bit to see if we can improve the results.}$"
   ]
  },
  {
   "cell_type": "markdown",
   "metadata": {},
   "source": [
    "$\\text{Ridge}$"
   ]
  },
  {
   "cell_type": "code",
   "execution_count": 23,
   "metadata": {},
   "outputs": [
    {
     "name": "stdout",
     "output_type": "stream",
     "text": [
      "Alpha: 0.001; Mean of train scores: 1242.66536; Mean of valid scores: 12877.3994\n",
      "Alpha: 0.01; Mean of train scores: 1411.56525; Mean of valid scores: 7855.46305\n",
      "Alpha: 0.1; Mean of train scores: 1671.46225; Mean of valid scores: 4876.7943\n",
      "Alpha: 1; Mean of train scores: 1978.13201; Mean of valid scores: 3409.16476\n",
      "Alpha: 10; Mean of train scores: 2654.23863; Mean of valid scores: 3276.60481\n",
      "Alpha: 100; Mean of train scores: 4347.862; Mean of valid scores: 4555.54165\n",
      "Alpha: 1000; Mean of train scores: 5644.2861; Mean of valid scores: 5682.01866\n"
     ]
    }
   ],
   "source": [
    "for alpha in [0.001, 0.01, 0.1, 1, 10, 100, 1000]:\n",
    "    CV = Cross_Validation(metric=\"mse\", algorithm_instance=Ridge_Regressor(alpha=alpha, fit_intercept=True, learning_rate=0.01, max_iter=1500), cross_validation_instance=KFold(n_splits=5, shuffle=True, random_state=17))\n",
    "    mean_of_train_scores, mean_of_valid_scores = CV.fit(X=X_train, y=y_train, verbose=False)\n",
    "    print(\"Alpha: {}; Mean of train scores: {}; Mean of valid scores: {}\".format(alpha, np.round(mean_of_train_scores, 5), np.round(mean_of_valid_scores, 5)))"
   ]
  },
  {
   "cell_type": "markdown",
   "metadata": {},
   "source": [
    "$\\text{Lasso}$"
   ]
  },
  {
   "cell_type": "code",
   "execution_count": 24,
   "metadata": {},
   "outputs": [
    {
     "name": "stdout",
     "output_type": "stream",
     "text": [
      "Alpha: 0.001; Mean of train scores: 2426.3697; Mean of valid scores: 3152.71428\n",
      "Alpha: 0.01; Mean of train scores: 2426.3751; Mean of valid scores: 3152.70503\n",
      "Alpha: 0.1; Mean of train scores: 2426.42916; Mean of valid scores: 3152.61282\n",
      "Alpha: 1; Mean of train scores: 2426.97418; Mean of valid scores: 3151.69828\n",
      "Alpha: 10; Mean of train scores: 2432.8736; Mean of valid scores: 3142.73288\n",
      "Alpha: 100; Mean of train scores: 2524.46636; Mean of valid scores: 3088.30211\n",
      "Alpha: 1000; Mean of train scores: 3090.90009; Mean of valid scores: 3325.81438\n"
     ]
    }
   ],
   "source": [
    "for alpha in [0.001, 0.01, 0.1, 1, 10, 100, 1000]:\n",
    "    CV = Cross_Validation(metric=\"mse\", algorithm_instance=Lasso_Regressor(alpha=alpha, fit_intercept=True, learning_rate=0.01, max_iter=1500), cross_validation_instance=KFold(n_splits=5, shuffle=True, random_state=17))\n",
    "    mean_of_train_scores, mean_of_valid_scores = CV.fit(X=X_train, y=y_train, verbose=False)\n",
    "    print(\"Alpha: {}; Mean of train scores: {}; Mean of valid scores: {}\".format(alpha, np.round(mean_of_train_scores, 5), np.round(mean_of_valid_scores, 5)))"
   ]
  },
  {
   "cell_type": "markdown",
   "metadata": {},
   "source": [
    "$\\text{ElasticNet}$"
   ]
  },
  {
   "cell_type": "markdown",
   "metadata": {},
   "source": [
    "$\\text{Ridge and Lasso algorithms showed that the predictions are better for smaller values of penalty terms.}$<p>\n",
    "$\\text{Therefore in tuning of ElasticNet there will be used only values from range: } [0.001, 1]$"
   ]
  },
  {
   "cell_type": "code",
   "execution_count": 25,
   "metadata": {},
   "outputs": [
    {
     "name": "stdout",
     "output_type": "stream",
     "text": [
      "L1 term: 0.1; L2 term: 0.1; Mean of train scores: 2429.31493; Mean of valid scores: 3153.2553\n",
      "L1 term: 0.1; L2 term: 1; Mean of train scores: 2456.11462; Mean of valid scores: 3160.4613\n",
      "L1 term: 0.1; L2 term: 10; Mean of train scores: 2759.55447; Mean of valid scores: 3314.58469\n",
      "L1 term: 0.1; L2 term: 100; Mean of train scores: 4302.73965; Mean of valid scores: 4511.78519\n",
      "L1 term: 0.1; L2 term: 1000; Mean of train scores: 5599.64699; Mean of valid scores: 5638.63709\n",
      "L1 term: 1; L2 term: 0.1; Mean of train scores: 2429.8667; Mean of valid scores: 3152.35351\n",
      "L1 term: 1; L2 term: 1; Mean of train scores: 2456.72315; Mean of valid scores: 3159.66871\n",
      "L1 term: 1; L2 term: 10; Mean of train scores: 2760.45431; Mean of valid scores: 3314.49937\n",
      "L1 term: 1; L2 term: 100; Mean of train scores: 4303.30039; Mean of valid scores: 4512.18558\n",
      "L1 term: 1; L2 term: 1000; Mean of train scores: 5599.74086; Mean of valid scores: 5638.72994\n",
      "L1 term: 10; L2 term: 0.1; Mean of train scores: 2435.832; Mean of valid scores: 3143.51612\n",
      "L1 term: 10; L2 term: 1; Mean of train scores: 2463.24385; Mean of valid scores: 3151.94969\n",
      "L1 term: 10; L2 term: 10; Mean of train scores: 2769.73587; Mean of valid scores: 3313.93678\n",
      "L1 term: 10; L2 term: 100; Mean of train scores: 4308.9068; Mean of valid scores: 4516.16224\n",
      "L1 term: 10; L2 term: 1000; Mean of train scores: 5600.68049; Mean of valid scores: 5639.65943\n",
      "L1 term: 100; L2 term: 0.1; Mean of train scores: 2527.82003; Mean of valid scores: 3090.04503\n",
      "L1 term: 100; L2 term: 1; Mean of train scores: 2558.45048; Mean of valid scores: 3107.03403\n",
      "L1 term: 100; L2 term: 10; Mean of train scores: 2875.03481; Mean of valid scores: 3321.97474\n",
      "L1 term: 100; L2 term: 100; Mean of train scores: 4361.18186; Mean of valid scores: 4552.00226\n",
      "L1 term: 100; L2 term: 1000; Mean of train scores: 5610.17203; Mean of valid scores: 5649.05004\n",
      "L1 term: 1000; L2 term: 0.1; Mean of train scores: 3094.23688; Mean of valid scores: 3331.57425\n",
      "L1 term: 1000; L2 term: 1; Mean of train scores: 3125.00234; Mean of valid scores: 3363.625\n",
      "L1 term: 1000; L2 term: 10; Mean of train scores: 3423.58257; Mean of valid scores: 3673.52459\n",
      "L1 term: 1000; L2 term: 100; Mean of train scores: 4609.95875; Mean of valid scores: 4773.5621\n",
      "L1 term: 1000; L2 term: 1000; Mean of train scores: 5711.85271; Mean of valid scores: 5751.20879\n"
     ]
    }
   ],
   "source": [
    "for l1_term in [0.1, 1, 10, 100, 1000]:\n",
    "    for l2_term in [0.1, 1, 10, 100, 1000]:\n",
    "        CV = Cross_Validation(metric=\"mse\", algorithm_instance=ElasticNet_Regressor(l1_term=l1_term, l2_term=l2_term, fit_intercept=True, learning_rate=0.01, max_iter=1500), cross_validation_instance=KFold(n_splits=5, shuffle=True, random_state=17))\n",
    "        mean_of_train_scores, mean_of_valid_scores = CV.fit(X=X_train, y=y_train, verbose=False)\n",
    "        print(\"L1 term: {}; L2 term: {}; Mean of train scores: {}; Mean of valid scores: {}\".format(l1_term, l2_term, np.round(mean_of_train_scores, 5), np.round(mean_of_valid_scores, 5)))"
   ]
  },
  {
   "cell_type": "markdown",
   "metadata": {},
   "source": [
    "$\\text{For best values of tuned hyperparameters, check wether we could improve our test data scores.}$"
   ]
  },
  {
   "cell_type": "markdown",
   "metadata": {},
   "source": [
    "<h1>Evaluation and Visualization<h1>"
   ]
  },
  {
   "cell_type": "code",
   "execution_count": 26,
   "metadata": {},
   "outputs": [
    {
     "name": "stdout",
     "output_type": "stream",
     "text": [
      "Ridge: Train: 2628.5590110581; Test: 3826.8935\n",
      "Lasso: Train: 2572.7487; Test: 3755.3275\n",
      "ElasticNet: Train: 2577.3559; Test: 3754.0795\n",
      "Linear Regression: Train: 2237.8838726603; Test: 28768.6153\n"
     ]
    }
   ],
   "source": [
    "ridge = Ridge_Regressor(alpha=10, fit_intercept=True, learning_rate=0.01, max_iter=1500)\n",
    "lasso = Lasso_Regressor(alpha=100, fit_intercept=True, learning_rate=0.01, max_iter=1500)\n",
    "elastic = ElasticNet_Regressor(l1_term=100, l2_term=0.1, fit_intercept=True, learning_rate=0.01, max_iter=1500)\n",
    "linear = LinearRegression(fit_intercept=True)\n",
    "ridge.fit(X_train, y_train)\n",
    "y_ridge_pred_train = ridge.predict(X_train)\n",
    "y_ridge_pred_test = ridge.predict(X_test)\n",
    "print(\"Ridge: Train: {}; Test: {}\".format(np.round(mean_squared_error(y_train, y_ridge_pred_train), 10), np.round(mean_squared_error(y_test, y_ridge_pred_test), 4)))\n",
    "lasso.fit(X_train, y_train)\n",
    "y_lasso_pred_train = lasso.predict(X_train)\n",
    "y_lasso_pred_test = lasso.predict(X_test)\n",
    "print(\"Lasso: Train: {}; Test: {}\".format(np.round(mean_squared_error(y_train, y_lasso_pred_train), 4), np.round(mean_squared_error(y_test, y_lasso_pred_test), 4)))\n",
    "elastic.fit(X_train, y_train)\n",
    "y_elastic_pred_train = elastic.predict(X_train)\n",
    "y_elastic_pred_test = elastic.predict(X_test)\n",
    "print(\"ElasticNet: Train: {}; Test: {}\".format(np.round(mean_squared_error(y_train, y_elastic_pred_train), 4), np.round(mean_squared_error(y_test, y_elastic_pred_test), 4)))\n",
    "linear.fit(X_train, np.array(y_train).squeeze())\n",
    "y_linear_pred_train = linear.predict(X_train)\n",
    "y_linear_pred_test = linear.predict(X_test)\n",
    "print(\"Linear Regression: Train: {}; Test: {}\".format(np.round(mean_squared_error(np.array(y_train).squeeze(), y_linear_pred_train), 10), np.round(mean_squared_error(np.array(y_test).squeeze(), y_linear_pred_test), 4)))"
   ]
  },
  {
   "cell_type": "markdown",
   "metadata": {},
   "source": [
    "$\\text{We have improved our results on test data set!}$<p>\n",
    "$\\text{We can now see how regularization algorithms work and also when we should use them!}$"
   ]
  }
 ],
 "metadata": {
  "kernelspec": {
   "display_name": "Python 3",
   "language": "python",
   "name": "python3"
  },
  "language_info": {
   "codemirror_mode": {
    "name": "ipython",
    "version": 3
   },
   "file_extension": ".py",
   "mimetype": "text/x-python",
   "name": "python",
   "nbconvert_exporter": "python",
   "pygments_lexer": "ipython3",
   "version": "3.11.3"
  },
  "orig_nbformat": 4
 },
 "nbformat": 4,
 "nbformat_minor": 2
}
