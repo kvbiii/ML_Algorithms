{
 "cells": [
  {
   "cell_type": "markdown",
   "metadata": {},
   "source": [
    "<h1>Import libraries<h1>"
   ]
  },
  {
   "cell_type": "code",
   "execution_count": 1,
   "metadata": {},
   "outputs": [],
   "source": [
    "from Model.Logistic_Regression_from_scratch import *\n",
    "from Metrics.Classification_metrics import *\n",
    "from Plots.Prediction_plots import *\n",
    "Plots_predictions = Prediction_plots()"
   ]
  },
  {
   "cell_type": "markdown",
   "metadata": {},
   "source": [
    "<h1>Explanation of Logistic Regression<h1>"
   ]
  },
  {
   "cell_type": "markdown",
   "metadata": {},
   "source": [
    "$\\text{Logistic regression is a regression method thanks which we are able to predict probability of each class for our dependent variable.}$<p>\n",
    "\n",
    "$\\text{In a binary problem we can calculate probability as follows:}$\n",
    "$$p_{0,i}=1-p_{1,i}$$\n",
    "$$\\ln{\\left(\\frac{p_{1,i}}{1-p_{1,i}}\\right)}=\\beta_0+\\beta_1\\times x_{1,i}+\\beta_2\\times x_{2,i}+\\ldots+\\beta_M\\times x_{M,i}$$\n",
    "$$e^{\\ln{\\left(\\frac{p_{1,i}}{1-p_{1,i}}\\right)}}=e^{(\\beta_0+\\beta_1\\times x_{1,i}+\\beta_2\\times x_{2,i}+\\ldots+\\beta_M\\times x_{M,i})}$$\n",
    "$$\\frac{p_{1,i}}{1-p_{1,i}}=e^{-\\left(\\beta_0+\\beta_1\\times x_{1,i}+\\beta_2\\times x_{2,i}+\\ldots+\\beta_M\\times x_{M,i}\\right)}$$\n",
    "$$p_{1,i}=e^{\\left(\\beta_0+\\beta_1\\times x_{1,i}+\\beta_2\\times x_{2,i}+\\ldots+\\beta_k\\times x_{k,i}\\right)}-p_{1,i}\\times e^{\\left(\\beta_0+\\beta_1\\times x_{1,i}+\\beta_2\\times x_{2,i}+\\ldots+\\beta_M\\times x_{M,i}\\right)}$$\n",
    "$$p_{1,i}\\times\\left(1+e^{\\left(\\beta_0+\\beta_1\\times x_{1,i}+\\beta_2\\times x_{2,i}+\\ldots+\\beta_k\\times x_{k,i}\\right)}\\right)=e^{\\left(\\beta_0+\\beta_1\\times x_{1,i}+\\beta_2\\times x_{2,i}+\\ldots+\\beta_M\\times x_{M,i}\\right)}$$\n",
    "$$p_{1,i}=\\frac{e^{\\left(\\beta_0+\\beta_1\\times x_{1,i}+\\beta_2\\times x_{2,i}+\\ldots+\\beta_M\\times x_{M,i}\\right)}}{1+e^{\\left(\\beta_0+\\beta_1\\times x_{1,i}+\\beta_2\\times x_{2,i}+\\ldots+\\beta_M\\times x_{M,i}\\right)}}$$\n",
    "$$p_{1,i}=\\frac{1}{1+e^{-(\\beta_0+\\beta_1\\times x_{1,i}+\\beta_2\\times x_{2,i}+\\ldots+\\beta_M\\times x_{M,i})}}$$\n",
    "$\\text{Where: } p_{0,i} \\text{ – probability of class 0 for observation } i,$<p>\n",
    "$p_{1,i} \\text{ – probability of class 1 for observation } i,$<p>\n",
    "$\\beta_m \\text{ – coefficient } m \\text{of the estimator,}$<p>\n",
    "$x_{m,i} \\text{ – the value of variable } m \\text{ for observation }i,$<p>\n",
    "$M \\text{ – number of independent variables.}$"
   ]
  },
  {
   "cell_type": "markdown",
   "metadata": {},
   "source": [
    "$\\text{For the multiclassification, we also need to determine some base level (note that for the binary it was determined by class 0), to which we will compare the other classes.}$<p>\n",
    "$\\text{In this way, we will be able to subdivide the binary into \"subproblems\":}$\n",
    "$$Class 1: \\ln{\\left(\\frac{p_{1,i}}{p_{0,i}}\\right)}=\\beta_1^T\\times x_i$$\n",
    "$$Class\\ 2:\\ \\ln{\\left(\\frac{p_{2,i}}{p_{0,i}}\\right)}=\\beta_2^T\\times x_i$$\n",
    "$$\\ldots$$\n",
    "$$Class\\ K-1: \\ln{\\left(\\frac{p_{K-1,i}}{p_{0,i}}\\right)}=\\beta_{K-1}^T\\times x_i$$\n",
    "$$Class\\ 0:\\ 1-\\sum_{k=1}^{K-1}p_{k,i}$$\n",
    "$\\text{Where: }K \\text{ - the number of classes of the dependent variable.}$<p>\n",
    "\n",
    "$\\text{Instead of one set of coefficients, we will have as many as K-1.}$<P>\n",
    "$\\text{After transformations (similar to those performed above for the binary problem), resulting from the fact that:}$\n",
    "$$p_{0,i}=1-p_{1,i}-p_{2,i}-\\ldots-p_{K-1,i}$$\n",
    "$\\text{we get:}$\n",
    "$$Class 1: \\ p_{1,i}=\\frac{e^{\\beta_1^T\\times x_i}}{1+\\sum_{k=1}^{K-1}e^{\\beta_k^T\\times x_i}}$$\n",
    "$$Class 2: \\ p_{2,i}=\\frac{e^{\\beta_2^T\\times x_i}}{1+\\sum_{k=1}^{K-1}e^{\\beta_k^T\\times x_i}}$$\n",
    "$$\\ldots$$\n",
    "$$Class K-1: \\ p_{K-1,i}=\\frac{e^{\\beta_{K-1}^T\\times x_i}}{1+\\sum_{k=1}^{K-1}e^{\\beta_k^T\\times x_i}}$$\n",
    "$$Class 0: \\ p_{0,i}=\\frac{1}{1+\\sum_{k=1}^{K-1}e^{\\beta_k^T\\times x_i}}$$\n",
    "$\\text{Thus, let us note that, in general, the binary and multiclass logistic regression problem for class k and observation i can be written as:}$\n",
    "$$p_{k,i}=\\frac{e^{\\beta_k^T\\times x_i}}{1+\\sum_{k=1}^{K-1}e^{\\beta_k^T\\times x_i}}$$"
   ]
  },
  {
   "cell_type": "markdown",
   "metadata": {},
   "source": [
    "<h2>Finding optimal values of coefficients<h2>"
   ]
  },
  {
   "cell_type": "markdown",
   "metadata": {},
   "source": [
    "$\\text{Sigmoid function:}$\n",
    "\n",
    "$$\\sigma_i\\left(\\beta^T,x_i\\right)=\\frac{1}{1+e^{-\\beta^T\\times x_i}}$$\n",
    "\n",
    "$\\text{Then probability that our target }(Y) \\text{ for observation } i \\text{ will take value } y_i \\text{ is equal to:}$\n",
    "\n",
    "$$P\\left(Y=y_i\\right)=\\sigma_i\\left(\\beta^T,x_i\\right)^{y_i}\\times\\left(1-\\sigma_i\\left(\\beta^T,x_i\\right)\\right)^{1-y_i}$$\n",
    "\n",
    "$\\text{For } N \\text{ observations our likelihood function looks like this:}$\n",
    "\n",
    "$$L\\left(\\beta\\right)=\\frac{1}{N}\\times\\prod_{i=1}^{N}{\\sigma_i\\left(\\beta^T,x_i\\right)^{y_i}\\times\\left(1-\\sigma_i\\left(\\beta^T,x_i\\right)\\right)^{1-y_i}}$$\n",
    "\n",
    "$\\text{We need to find such a value of } \\beta \\text{ that maximizes the above credibility function.}$<p>\n",
    "$\\text{To make it easier to calculate it, we logarithmize the two sides so that we get Log-Loss:}$\n",
    "\n",
    "$$\\ln{\\left(L\\left(\\beta\\right)\\right)}=LL\\left(\\beta\\right)=\\frac{1}{N}\\times\\sum_{i=1}^{N}{y_i\\times\\ln(\\sigma_i\\left(\\beta^T,x_i\\right))+\\left(1-y_i\\right)\\times\\ln(1-\\sigma_i\\left(\\beta^T,x_i\\right))}$$\n",
    "\n",
    "$\\text{Using the gradient descent algorithm, we can, with a sufficiently large number of iterations, find the optimal values of our } \\beta \\text{ estimator.}$<p>\n",
    "$\\text{Updating the value of } \\beta \\text{ is as follows:}$\n",
    "\n",
    "$$\\beta_{new}=\\beta_{old}-learning \\text{ }rate\\ \\times\\frac{\\partial LL(\\beta)}{\\partial\\beta}$$\n",
    "\n",
    "$\\text{In fact, all we need to do is determine the:}$\n",
    "\n",
    "$$\\frac{\\partial LL(\\beta)}{\\partial\\beta}$$\n",
    "\n",
    "$\\text{1. Using the chain rule of derivatives:}$\n",
    "\n",
    "$$\\frac{\\partial LL(\\beta)}{\\partial\\beta}=\\frac{\\partial LL(\\beta)}{\\partial\\sigma_i\\left(\\beta^T,x_i\\right)}\\times\\frac{\\partial\\sigma_i\\left(\\beta^T,x_i\\right)}{\\partial\\beta}=\\frac{\\partial LL(\\beta)}{\\partial\\sigma_i\\left(\\beta^T,x_i\\right)}\\times\\frac{\\partial\\sigma_i\\left(\\beta^T,x_i\\right)}{\\partial\\beta^T\\times x_i}\\times\\frac{\\partial\\beta^T\\times x_i}{\\partial\\beta^T}$$\n",
    "\n",
    "$\\text{2. Let's start with the first derivative:}$\n",
    "\n",
    "$$\\frac{\\partial LL\\left(\\beta\\right)}{\\partial\\sigma_i\\left(\\beta^T,x_i\\right)}=\\frac{\\partial\\sum_{i=1}^{N}{y_i\\times\\ln{\\left(\\sigma_i\\left(\\beta^T,x_i\\right)\\right)}+\\left(1-y_i\\right)\\times\\ln{\\left(1-\\sigma_i\\left(\\beta^T,x_i\\right)\\right)}}}{\\partial\\sigma_i\\left(\\beta^T,x_i\\right)}=$$\n",
    "$$=\\sum_{i=1}^{N}{\\frac{\\partial\\left(y_i\\times\\ln{\\left(\\sigma_i\\left(\\beta^T,x_i\\right)\\right)}\\right)}{\\partial\\sigma_i\\left(\\beta^T,x_i\\right)}+\\frac{\\partial\\left(\\left(1-y_i\\right)\\times\\ln{\\left(1-\\sigma_i\\left(\\beta^T,x_i\\right)\\right)}\\right)}{\\partial\\sigma_i\\left(\\beta^T,x_i\\right)}}=$$\n",
    "$$=\\sum_{i=1}^{N}{\\frac{y_i}{\\sigma_i\\left(\\beta^T,x_i\\right)}+\\frac{\\partial\\left(\\ln{\\left(1-\\sigma_i\\left(\\beta^T,x_i\\right)\\right)}\\right)}{\\partial\\sigma_i\\left(\\beta^T,x_i\\right)}-\\frac{\\partial\\left(y_i\\times\\ln{\\left(1-\\sigma_i\\left(\\beta^T,x_i\\right)\\right)}\\right)}{\\partial\\sigma_i\\left(\\beta^T,x_i\\right)}}=$$\n",
    "$$=\\sum_{i=1}^{N}{\\frac{y_i}{\\sigma_i\\left(\\beta^T,x_i\\right)}-\\frac{1}{1-\\sigma_i\\left(\\beta^T,x_i\\right)}+\\frac{y_i}{1-\\sigma_i\\left(\\beta^T,x_i\\right)}}=$$\n",
    "$$=\\sum_{i=1}^{N}{\\frac{y_i}{\\sigma_i\\left(\\beta^T,x_i\\right)}-\\frac{1-y_i}{1-\\sigma_i\\left(\\beta^T,x_i\\right)}}$$\n",
    "\n",
    "$\\text{3. Second derivative:}$\n",
    "\n",
    "$$\\frac{\\partial\\sigma_i\\left(\\beta^T,x_i\\right)}{\\partial\\beta^T\\times x_i}=\\frac{\\partial\\frac{1}{1+e^{-\\beta^T\\times x_i}}}{\\partial\\beta^T\\times x_i}=\\frac{1}{1+e^{-\\beta^T\\times x_i}}\\times\\left(1-\\frac{1}{1+e^{-\\beta^T\\times x_i}}\\right)=\\sigma_i\\left(\\beta^T,x_i\\right)\\times(1-\\sigma_i\\left(\\beta^T,x_i\\right))$$\n",
    "\n",
    "$\\text{4. Third derivative:}$\n",
    "\n",
    "$$\\frac{\\partial\\beta^T\\times x_i}{\\partial\\beta^T}=x_i$$\n",
    "\n",
    "$\\text{5. We combine the previous three points to the first one:}$\n",
    "\n",
    "$$\\frac{\\partial LL\\left(\\beta\\right)}{\\partial\\beta}=\\frac{1}{N}\\times\\sum_{i=1}^{N}{\\left(\\frac{y_i}{\\sigma_i\\left(\\beta^T,x_i\\right)}-\\frac{1-y_i}{1-\\sigma_i\\left(\\beta^T,x_i\\right)}\\right)\\times\\sigma_i\\left(\\beta^T,x_i\\right)\\times\\left(1-\\sigma_i\\left(\\beta^T,x_i\\right)\\right)\\times x_i}=$$\n",
    "$$=\\frac{1}{N}\\times\\sum_{i=1}^{N}{\\frac{y_i\\times\\left(1-\\sigma_i\\left(\\beta^T,x_i\\right)\\right)-\\left(1-y_i\\right)\\times\\sigma_i\\left(\\beta^T,x_i\\right)}{\\sigma_i\\left(\\beta^T,x_i\\right)\\times\\left(1-\\sigma_i\\left(\\beta^T,x_i\\right)\\right)}\\times\\sigma_i\\left(\\beta^T,x_i\\right)\\times\\left(1-\\sigma_i\\left(\\beta^T,x_i\\right)\\right)\\times x_i}=$$\n",
    "$$=\\frac{1}{N}\\times\\sum_{i=1}^{N}{(\\sigma_i\\left(\\beta^T,x_i\\right)-y_i)\\times x_i}$$"
   ]
  },
  {
   "cell_type": "markdown",
   "metadata": {},
   "source": [
    "$\\text{Thus, the final optimization problem can be provoked to the following equation:}$\n",
    "\n",
    "$$\\beta_{new}=\\beta_{old}-learning\\text{ }rate\\times\\left(\\frac{1}{N}\\times\\sum_{i=1}^{N}{\\left(\\sigma_i\\left(\\beta^T,x_i\\right)-y_i\\right)\\times x_i}\\right)$$\n",
    "\n",
    "$\\text{In the case of multiclassification, the approach will look analogous, while we break down to multiple binary problems each time looking for new coefficients.}$"
   ]
  },
  {
   "cell_type": "markdown",
   "metadata": {},
   "source": [
    "<h1>Preprocessing<h1>"
   ]
  },
  {
   "cell_type": "markdown",
   "metadata": {},
   "source": [
    "<h2>Download data<h2>"
   ]
  },
  {
   "cell_type": "code",
   "execution_count": 2,
   "metadata": {},
   "outputs": [],
   "source": [
    "data_binary_classification = pd.read_csv('Data/HR.csv')"
   ]
  },
  {
   "cell_type": "markdown",
   "metadata": {},
   "source": [
    "$\\text{Define our target variable}$"
   ]
  },
  {
   "cell_type": "code",
   "execution_count": 3,
   "metadata": {},
   "outputs": [],
   "source": [
    "target_binary = \"left\""
   ]
  },
  {
   "cell_type": "code",
   "execution_count": 4,
   "metadata": {},
   "outputs": [
    {
     "name": "stdout",
     "output_type": "stream",
     "text": [
      "Number of observations in data: 14999\n"
     ]
    },
    {
     "data": {
      "text/html": [
       "<div>\n",
       "<style scoped>\n",
       "    .dataframe tbody tr th:only-of-type {\n",
       "        vertical-align: middle;\n",
       "    }\n",
       "\n",
       "    .dataframe tbody tr th {\n",
       "        vertical-align: top;\n",
       "    }\n",
       "\n",
       "    .dataframe thead th {\n",
       "        text-align: right;\n",
       "    }\n",
       "</style>\n",
       "<table border=\"1\" class=\"dataframe\">\n",
       "  <thead>\n",
       "    <tr style=\"text-align: right;\">\n",
       "      <th></th>\n",
       "      <th>satisfaction_level</th>\n",
       "      <th>last_evaluation</th>\n",
       "      <th>number_project</th>\n",
       "      <th>average_montly_hours</th>\n",
       "      <th>time_spend_company</th>\n",
       "      <th>Work_accident</th>\n",
       "      <th>left</th>\n",
       "      <th>promotion_last_5years</th>\n",
       "      <th>Department</th>\n",
       "      <th>salary</th>\n",
       "    </tr>\n",
       "  </thead>\n",
       "  <tbody>\n",
       "    <tr>\n",
       "      <th>0</th>\n",
       "      <td>0.38</td>\n",
       "      <td>0.53</td>\n",
       "      <td>2</td>\n",
       "      <td>157</td>\n",
       "      <td>3</td>\n",
       "      <td>0</td>\n",
       "      <td>1</td>\n",
       "      <td>0</td>\n",
       "      <td>sales</td>\n",
       "      <td>low</td>\n",
       "    </tr>\n",
       "    <tr>\n",
       "      <th>1</th>\n",
       "      <td>0.80</td>\n",
       "      <td>0.86</td>\n",
       "      <td>5</td>\n",
       "      <td>262</td>\n",
       "      <td>6</td>\n",
       "      <td>0</td>\n",
       "      <td>1</td>\n",
       "      <td>0</td>\n",
       "      <td>sales</td>\n",
       "      <td>medium</td>\n",
       "    </tr>\n",
       "    <tr>\n",
       "      <th>2</th>\n",
       "      <td>0.11</td>\n",
       "      <td>0.88</td>\n",
       "      <td>7</td>\n",
       "      <td>272</td>\n",
       "      <td>4</td>\n",
       "      <td>0</td>\n",
       "      <td>1</td>\n",
       "      <td>0</td>\n",
       "      <td>sales</td>\n",
       "      <td>medium</td>\n",
       "    </tr>\n",
       "    <tr>\n",
       "      <th>3</th>\n",
       "      <td>0.72</td>\n",
       "      <td>0.87</td>\n",
       "      <td>5</td>\n",
       "      <td>223</td>\n",
       "      <td>5</td>\n",
       "      <td>0</td>\n",
       "      <td>1</td>\n",
       "      <td>0</td>\n",
       "      <td>sales</td>\n",
       "      <td>low</td>\n",
       "    </tr>\n",
       "    <tr>\n",
       "      <th>4</th>\n",
       "      <td>0.37</td>\n",
       "      <td>0.52</td>\n",
       "      <td>2</td>\n",
       "      <td>159</td>\n",
       "      <td>3</td>\n",
       "      <td>0</td>\n",
       "      <td>1</td>\n",
       "      <td>0</td>\n",
       "      <td>sales</td>\n",
       "      <td>low</td>\n",
       "    </tr>\n",
       "  </tbody>\n",
       "</table>\n",
       "</div>"
      ],
      "text/plain": [
       "   satisfaction_level  last_evaluation  number_project  average_montly_hours  \\\n",
       "0                0.38             0.53               2                   157   \n",
       "1                0.80             0.86               5                   262   \n",
       "2                0.11             0.88               7                   272   \n",
       "3                0.72             0.87               5                   223   \n",
       "4                0.37             0.52               2                   159   \n",
       "\n",
       "   time_spend_company  Work_accident  left  promotion_last_5years Department  \\\n",
       "0                   3              0     1                      0      sales   \n",
       "1                   6              0     1                      0      sales   \n",
       "2                   4              0     1                      0      sales   \n",
       "3                   5              0     1                      0      sales   \n",
       "4                   3              0     1                      0      sales   \n",
       "\n",
       "   salary  \n",
       "0     low  \n",
       "1  medium  \n",
       "2  medium  \n",
       "3     low  \n",
       "4     low  "
      ]
     },
     "execution_count": 4,
     "metadata": {},
     "output_type": "execute_result"
    }
   ],
   "source": [
    "print(\"Number of observations in data: {}\".format(len(data_binary_classification)))\n",
    "data_binary_classification.head()"
   ]
  },
  {
   "cell_type": "code",
   "execution_count": 5,
   "metadata": {},
   "outputs": [
    {
     "data": {
      "text/plain": [
       "satisfaction_level       0.0\n",
       "last_evaluation          0.0\n",
       "number_project           0.0\n",
       "average_montly_hours     0.0\n",
       "time_spend_company       0.0\n",
       "Work_accident            0.0\n",
       "left                     0.0\n",
       "promotion_last_5years    0.0\n",
       "Department               0.0\n",
       "salary                   0.0\n",
       "dtype: float64"
      ]
     },
     "execution_count": 5,
     "metadata": {},
     "output_type": "execute_result"
    }
   ],
   "source": [
    "data_binary_classification.isnull().sum()/len(data_binary_classification)"
   ]
  },
  {
   "cell_type": "markdown",
   "metadata": {},
   "source": [
    "<h3>Check dtypes of dataset<h3>"
   ]
  },
  {
   "cell_type": "code",
   "execution_count": 6,
   "metadata": {},
   "outputs": [
    {
     "data": {
      "text/plain": [
       "satisfaction_level       float64\n",
       "last_evaluation          float64\n",
       "number_project             int64\n",
       "average_montly_hours       int64\n",
       "time_spend_company         int64\n",
       "Work_accident              int64\n",
       "left                       int64\n",
       "promotion_last_5years      int64\n",
       "Department                object\n",
       "salary                    object\n",
       "dtype: object"
      ]
     },
     "execution_count": 6,
     "metadata": {},
     "output_type": "execute_result"
    }
   ],
   "source": [
    "data_binary_classification.dtypes"
   ]
  },
  {
   "cell_type": "markdown",
   "metadata": {},
   "source": [
    "$\\text{Transform dataframe using OrdinalEncoder.}$"
   ]
  },
  {
   "cell_type": "code",
   "execution_count": 7,
   "metadata": {},
   "outputs": [],
   "source": [
    "list_of_object_features_classification = data_binary_classification.select_dtypes(include=\"object\").columns.tolist()\n",
    "list_of_numeric_features_classification = data_binary_classification.select_dtypes(exclude=\"object\").columns.tolist()"
   ]
  },
  {
   "cell_type": "code",
   "execution_count": 8,
   "metadata": {},
   "outputs": [],
   "source": [
    "encoder = OrdinalEncoder()\n",
    "data_binary_classification[list_of_object_features_classification] = encoder.fit_transform(data_binary_classification[list_of_object_features_classification])"
   ]
  },
  {
   "cell_type": "markdown",
   "metadata": {},
   "source": [
    "<h2>Divide our data into train and test sets<h2>"
   ]
  },
  {
   "cell_type": "code",
   "execution_count": 9,
   "metadata": {},
   "outputs": [],
   "source": [
    "X_binary_classification = data_binary_classification.drop(target_binary, axis=1)\n",
    "y_binary_classification = data_binary_classification[[target_binary]]\n",
    "X_train_binary_classification, X_test_binary_classification, y_train_binary_classification, y_test_binary_classification = train_test_split(X_binary_classification, y_binary_classification, shuffle=True, random_state=17, test_size=0.2)"
   ]
  },
  {
   "cell_type": "markdown",
   "metadata": {},
   "source": [
    "<h1>Modelling<h1>"
   ]
  },
  {
   "cell_type": "code",
   "execution_count": 10,
   "metadata": {},
   "outputs": [],
   "source": [
    "model = Logistic_Regression(fit_intercept=True, random_state=17, learning_rate=0.0001, max_iter=5000)\n",
    "model.fit(X_train_binary_classification, y_train_binary_classification, features_names=X_binary_classification.columns.tolist(), target_name=target_binary)\n",
    "y_pred = model.predict(X_test_binary_classification)\n",
    "y_prob = model.predict_proba(X_test_binary_classification)[:,1]"
   ]
  },
  {
   "cell_type": "markdown",
   "metadata": {},
   "source": [
    "<h1>Evaluation and Visualization<h1>"
   ]
  },
  {
   "cell_type": "markdown",
   "metadata": {},
   "source": [
    "$\\text{Firstly take a while to interpret some of our model coefficients.}$"
   ]
  },
  {
   "cell_type": "code",
   "execution_count": 11,
   "metadata": {},
   "outputs": [
    {
     "data": {
      "text/html": [
       "<div>\n",
       "<style scoped>\n",
       "    .dataframe tbody tr th:only-of-type {\n",
       "        vertical-align: middle;\n",
       "    }\n",
       "\n",
       "    .dataframe tbody tr th {\n",
       "        vertical-align: top;\n",
       "    }\n",
       "\n",
       "    .dataframe thead th {\n",
       "        text-align: right;\n",
       "    }\n",
       "</style>\n",
       "<table border=\"1\" class=\"dataframe\">\n",
       "  <thead>\n",
       "    <tr style=\"text-align: right;\">\n",
       "      <th></th>\n",
       "      <th>Variables</th>\n",
       "      <th>Coefficients</th>\n",
       "    </tr>\n",
       "  </thead>\n",
       "  <tbody>\n",
       "    <tr>\n",
       "      <th>0</th>\n",
       "      <td>Intercept</td>\n",
       "      <td>0.268705</td>\n",
       "    </tr>\n",
       "    <tr>\n",
       "      <th>1</th>\n",
       "      <td>satisfaction_level</td>\n",
       "      <td>0.493308</td>\n",
       "    </tr>\n",
       "    <tr>\n",
       "      <th>2</th>\n",
       "      <td>last_evaluation</td>\n",
       "      <td>0.176060</td>\n",
       "    </tr>\n",
       "    <tr>\n",
       "      <th>3</th>\n",
       "      <td>number_project</td>\n",
       "      <td>-0.001923</td>\n",
       "    </tr>\n",
       "    <tr>\n",
       "      <th>4</th>\n",
       "      <td>average_montly_hours</td>\n",
       "      <td>-0.018930</td>\n",
       "    </tr>\n",
       "    <tr>\n",
       "      <th>5</th>\n",
       "      <td>time_spend_company</td>\n",
       "      <td>0.522221</td>\n",
       "    </tr>\n",
       "    <tr>\n",
       "      <th>6</th>\n",
       "      <td>Work_accident</td>\n",
       "      <td>0.615333</td>\n",
       "    </tr>\n",
       "    <tr>\n",
       "      <th>7</th>\n",
       "      <td>promotion_last_5years</td>\n",
       "      <td>0.571047</td>\n",
       "    </tr>\n",
       "    <tr>\n",
       "      <th>8</th>\n",
       "      <td>Department</td>\n",
       "      <td>-0.068661</td>\n",
       "    </tr>\n",
       "    <tr>\n",
       "      <th>9</th>\n",
       "      <td>salary</td>\n",
       "      <td>0.313655</td>\n",
       "    </tr>\n",
       "  </tbody>\n",
       "</table>\n",
       "</div>"
      ],
      "text/plain": [
       "               Variables  Coefficients\n",
       "0              Intercept      0.268705\n",
       "1     satisfaction_level      0.493308\n",
       "2        last_evaluation      0.176060\n",
       "3         number_project     -0.001923\n",
       "4   average_montly_hours     -0.018930\n",
       "5     time_spend_company      0.522221\n",
       "6          Work_accident      0.615333\n",
       "7  promotion_last_5years      0.571047\n",
       "8             Department     -0.068661\n",
       "9                 salary      0.313655"
      ]
     },
     "execution_count": 11,
     "metadata": {},
     "output_type": "execute_result"
    }
   ],
   "source": [
    "model.summary()"
   ]
  },
  {
   "cell_type": "markdown",
   "metadata": {},
   "source": [
    "$\\text{Target variable: left - whether employee left the company (1) or not (0).}$"
   ]
  },
  {
   "cell_type": "markdown",
   "metadata": {},
   "source": [
    "$\\text{For example:}$<p>\n",
    "$promotion\\_last\\_5years \\text{ variable, which tells whether employee was promoted in the last 5 years (1) or not.}$<p>\n",
    "\n",
    "$$\\beta_{\\text{Promotion Last 5Years}} = 0.571047$$\n",
    "\n",
    "$\\text{It is binary variable, therefore we will interpret it like below:}$\n",
    "\n",
    "$$e^{\\beta_{\\text{Promotion Last 5Years}}}=e^{0.571047}=1.7701$$\n",
    "\n",
    "$\\text{This means that an employee who has been promoted in the last 5 years expects the probability of leaving the company to be: }$\n",
    "$$1.7701-1=0.39625=77.01\\%%$$\n",
    "$\\text{ higher than for an employee who has not been promoted in the last 5 years.}$"
   ]
  },
  {
   "cell_type": "markdown",
   "metadata": {},
   "source": [
    "<h3>Accuracy and Confussion matrix<h3>"
   ]
  },
  {
   "cell_type": "code",
   "execution_count": 12,
   "metadata": {},
   "outputs": [
    {
     "name": "stdout",
     "output_type": "stream",
     "text": [
      "Accuracy score: 0.6596666666666666\n"
     ]
    }
   ],
   "source": [
    "print(\"Accuracy score: {}\".format(accuracy_score(y_test_binary_classification, y_pred)))"
   ]
  },
  {
   "cell_type": "code",
   "execution_count": 13,
   "metadata": {},
   "outputs": [
    {
     "data": {
      "image/png": "[encoded data removed]"
     },
     "metadata": {},
     "output_type": "display_data"
    }
   ],
   "source": [
    "Plots_predictions.multilabel_conf_matrix(y_test_binary_classification, y_pred, labels=[i for i in np.unique(y_test_binary_classification)])"
   ]
  },
  {
   "cell_type": "markdown",
   "metadata": {},
   "source": [
    "$\\text{Confussion matrix does not look good at all! Let's check if something is wrong with our model, or whether the data is simply imbalanced.}$<p>\n",
    "\n",
    "$\\text{For a comparision we will use LogisticRegression algorithm from sklearn.}$"
   ]
  },
  {
   "cell_type": "code",
   "execution_count": 14,
   "metadata": {},
   "outputs": [],
   "source": [
    "from sklearn.linear_model import LogisticRegression\n",
    "model_sklearn = LogisticRegression(max_iter=1500)\n",
    "y_train_binary_classification_sklearn = np.array(y_train_binary_classification).squeeze()\n",
    "model_sklearn.fit(X_train_binary_classification, y_train_binary_classification_sklearn)\n",
    "y_pred_sklearn = model_sklearn.predict(X_test_binary_classification)"
   ]
  },
  {
   "cell_type": "code",
   "execution_count": 15,
   "metadata": {},
   "outputs": [
    {
     "name": "stdout",
     "output_type": "stream",
     "text": [
      "Accuracy score sklearn: 0.7693333333333333\n"
     ]
    }
   ],
   "source": [
    "print(\"Accuracy score sklearn: {}\".format(accuracy_score(y_test_binary_classification, y_pred_sklearn)))"
   ]
  },
  {
   "cell_type": "code",
   "execution_count": 16,
   "metadata": {},
   "outputs": [
    {
     "data": {
      "image/png": "[encoded data removed]"
     },
     "metadata": {},
     "output_type": "display_data"
    }
   ],
   "source": [
    "Plots_predictions.multilabel_conf_matrix(y_test_binary_classification, y_pred_sklearn, labels=[i for i in np.unique(y_test_binary_classification)])"
   ]
  },
  {
   "cell_type": "markdown",
   "metadata": {},
   "source": [
    "$\\text{Although both models achieve similar results in terms of overall accuracy, so in the case of balanced accuracy, the algorithms struggle to make the correct prediction for the minority class.}$"
   ]
  },
  {
   "cell_type": "markdown",
   "metadata": {},
   "source": [
    "$\\text{Let's get back to our model and verify some other metrics.}$"
   ]
  },
  {
   "cell_type": "code",
   "execution_count": 17,
   "metadata": {},
   "outputs": [
    {
     "name": "stdout",
     "output_type": "stream",
     "text": [
      "Roc AUC score: 0.50733\n",
      "+--------------+-------------+-----------+------------+-------------+\n",
      "|              |   precision |    recall |   f1-score |     support |\n",
      "|--------------+-------------+-----------+------------+-------------|\n",
      "| 0            |   0.744381  | 0.84809   |  0.792859  | 2304        |\n",
      "| 1            |   0.0666667 | 0.0359195 |  0.0466853 |  696        |\n",
      "| accuracy     |   0.659667  | 0.659667  |  0.659667  |    0.659667 |\n",
      "| macro avg    |   0.405524  | 0.442005  |  0.419772  | 3000        |\n",
      "| weighted avg |   0.587151  | 0.659667  |  0.619746  | 3000        |\n",
      "+--------------+-------------+-----------+------------+-------------+\n"
     ]
    }
   ],
   "source": [
    "print(\"Roc AUC score: {}\".format(np.round(roc_auc_score(y_true=y_test_binary_classification, y_score=y_prob), 5)))\n",
    "report = classification_report(y_test_binary_classification, y_pred, output_dict=True)\n",
    "df = pd.DataFrame(report).transpose()\n",
    "print(tabulate(df, headers=\"keys\", tablefmt = 'psql'))"
   ]
  },
  {
   "cell_type": "markdown",
   "metadata": {},
   "source": [
    "<h3>ROC Curve<h3>"
   ]
  },
  {
   "cell_type": "code",
   "execution_count": 18,
   "metadata": {},
   "outputs": [
    {
     "data": {
      "image/png": "[encoded data removed]"
     },
     "metadata": {},
     "output_type": "display_data"
    }
   ],
   "source": [
    "Plots_predictions.roc_auc_plot(y_true=y_test_binary_classification, y_prob=y_prob)"
   ]
  },
  {
   "cell_type": "markdown",
   "metadata": {},
   "source": [
    "$\\text{As we can see our ROC Curve looks really poor...}$"
   ]
  },
  {
   "cell_type": "markdown",
   "metadata": {},
   "source": [
    "<h1> Multiclassification <h1>"
   ]
  },
  {
   "cell_type": "markdown",
   "metadata": {},
   "source": [
    "$\\text{Maybe Logisitc Regression will do slightly better on simple multiclassification task with iris data.}$"
   ]
  },
  {
   "cell_type": "code",
   "execution_count": 19,
   "metadata": {},
   "outputs": [
    {
     "data": {
      "text/html": [
       "<div>\n",
       "<style scoped>\n",
       "    .dataframe tbody tr th:only-of-type {\n",
       "        vertical-align: middle;\n",
       "    }\n",
       "\n",
       "    .dataframe tbody tr th {\n",
       "        vertical-align: top;\n",
       "    }\n",
       "\n",
       "    .dataframe thead th {\n",
       "        text-align: right;\n",
       "    }\n",
       "</style>\n",
       "<table border=\"1\" class=\"dataframe\">\n",
       "  <thead>\n",
       "    <tr style=\"text-align: right;\">\n",
       "      <th></th>\n",
       "      <th>sepal length (cm)</th>\n",
       "      <th>sepal width (cm)</th>\n",
       "      <th>petal length (cm)</th>\n",
       "      <th>petal width (cm)</th>\n",
       "    </tr>\n",
       "  </thead>\n",
       "  <tbody>\n",
       "    <tr>\n",
       "      <th>0</th>\n",
       "      <td>5.1</td>\n",
       "      <td>3.5</td>\n",
       "      <td>1.4</td>\n",
       "      <td>0.2</td>\n",
       "    </tr>\n",
       "    <tr>\n",
       "      <th>1</th>\n",
       "      <td>4.9</td>\n",
       "      <td>3.0</td>\n",
       "      <td>1.4</td>\n",
       "      <td>0.2</td>\n",
       "    </tr>\n",
       "    <tr>\n",
       "      <th>2</th>\n",
       "      <td>4.7</td>\n",
       "      <td>3.2</td>\n",
       "      <td>1.3</td>\n",
       "      <td>0.2</td>\n",
       "    </tr>\n",
       "    <tr>\n",
       "      <th>3</th>\n",
       "      <td>4.6</td>\n",
       "      <td>3.1</td>\n",
       "      <td>1.5</td>\n",
       "      <td>0.2</td>\n",
       "    </tr>\n",
       "    <tr>\n",
       "      <th>4</th>\n",
       "      <td>5.0</td>\n",
       "      <td>3.6</td>\n",
       "      <td>1.4</td>\n",
       "      <td>0.2</td>\n",
       "    </tr>\n",
       "    <tr>\n",
       "      <th>...</th>\n",
       "      <td>...</td>\n",
       "      <td>...</td>\n",
       "      <td>...</td>\n",
       "      <td>...</td>\n",
       "    </tr>\n",
       "    <tr>\n",
       "      <th>145</th>\n",
       "      <td>6.7</td>\n",
       "      <td>3.0</td>\n",
       "      <td>5.2</td>\n",
       "      <td>2.3</td>\n",
       "    </tr>\n",
       "    <tr>\n",
       "      <th>146</th>\n",
       "      <td>6.3</td>\n",
       "      <td>2.5</td>\n",
       "      <td>5.0</td>\n",
       "      <td>1.9</td>\n",
       "    </tr>\n",
       "    <tr>\n",
       "      <th>147</th>\n",
       "      <td>6.5</td>\n",
       "      <td>3.0</td>\n",
       "      <td>5.2</td>\n",
       "      <td>2.0</td>\n",
       "    </tr>\n",
       "    <tr>\n",
       "      <th>148</th>\n",
       "      <td>6.2</td>\n",
       "      <td>3.4</td>\n",
       "      <td>5.4</td>\n",
       "      <td>2.3</td>\n",
       "    </tr>\n",
       "    <tr>\n",
       "      <th>149</th>\n",
       "      <td>5.9</td>\n",
       "      <td>3.0</td>\n",
       "      <td>5.1</td>\n",
       "      <td>1.8</td>\n",
       "    </tr>\n",
       "  </tbody>\n",
       "</table>\n",
       "<p>150 rows × 4 columns</p>\n",
       "</div>"
      ],
      "text/plain": [
       "     sepal length (cm)  sepal width (cm)  petal length (cm)  petal width (cm)\n",
       "0                  5.1               3.5                1.4               0.2\n",
       "1                  4.9               3.0                1.4               0.2\n",
       "2                  4.7               3.2                1.3               0.2\n",
       "3                  4.6               3.1                1.5               0.2\n",
       "4                  5.0               3.6                1.4               0.2\n",
       "..                 ...               ...                ...               ...\n",
       "145                6.7               3.0                5.2               2.3\n",
       "146                6.3               2.5                5.0               1.9\n",
       "147                6.5               3.0                5.2               2.0\n",
       "148                6.2               3.4                5.4               2.3\n",
       "149                5.9               3.0                5.1               1.8\n",
       "\n",
       "[150 rows x 4 columns]"
      ]
     },
     "execution_count": 19,
     "metadata": {},
     "output_type": "execute_result"
    }
   ],
   "source": [
    "from sklearn.datasets import load_iris\n",
    "data_multiclassification = load_iris(as_frame=True)['data']\n",
    "data_multiclassification"
   ]
  },
  {
   "cell_type": "code",
   "execution_count": 20,
   "metadata": {},
   "outputs": [
    {
     "data": {
      "text/plain": [
       "0      0\n",
       "1      0\n",
       "2      0\n",
       "3      0\n",
       "4      0\n",
       "      ..\n",
       "145    2\n",
       "146    2\n",
       "147    2\n",
       "148    2\n",
       "149    2\n",
       "Name: target, Length: 150, dtype: int32"
      ]
     },
     "execution_count": 20,
     "metadata": {},
     "output_type": "execute_result"
    }
   ],
   "source": [
    "y_multiclassification = load_iris(as_frame=True)['target']\n",
    "y_multiclassification"
   ]
  },
  {
   "cell_type": "markdown",
   "metadata": {},
   "source": [
    "<h2>Divide data<h2>"
   ]
  },
  {
   "cell_type": "code",
   "execution_count": 21,
   "metadata": {},
   "outputs": [],
   "source": [
    "X_train_multiclassification, X_test_multiclassification, y_train_multiclassification, y_test_multiclassification = train_test_split(data_multiclassification, y_multiclassification, shuffle=True, random_state=17, test_size=0.2)"
   ]
  },
  {
   "cell_type": "code",
   "execution_count": 22,
   "metadata": {},
   "outputs": [],
   "source": [
    "model = Logistic_Regression(fit_intercept=True, random_state=17, learning_rate=0.05, max_iter=5000)\n",
    "model.fit(X_train_multiclassification, y_train_multiclassification, features_names=[str(i) for i in range(0, X_train_multiclassification.shape[1])], target_name=target_binary)\n",
    "y_pred = model.predict(X_test_multiclassification)\n",
    "y_prob = model.predict_proba(X_test_multiclassification)[:,1]"
   ]
  },
  {
   "cell_type": "markdown",
   "metadata": {},
   "source": [
    "<h2>Evaluation and Visualization<h2>"
   ]
  },
  {
   "cell_type": "code",
   "execution_count": 23,
   "metadata": {},
   "outputs": [
    {
     "name": "stdout",
     "output_type": "stream",
     "text": [
      "Accuracy score: 0.8\n"
     ]
    }
   ],
   "source": [
    "print(\"Accuracy score: {}\".format(accuracy_score(y_test_multiclassification, y_pred)))"
   ]
  },
  {
   "cell_type": "markdown",
   "metadata": {},
   "source": [
    "<h3>Confussion matrix<h3>"
   ]
  },
  {
   "cell_type": "code",
   "execution_count": 24,
   "metadata": {},
   "outputs": [
    {
     "data": {
      "image/png": "[encoded data removed]"
     },
     "metadata": {},
     "output_type": "display_data"
    }
   ],
   "source": [
    "Plots_predictions.multilabel_conf_matrix(y_test_multiclassification, y_pred, labels=[i for i in np.unique(y_test_multiclassification)])"
   ]
  },
  {
   "cell_type": "markdown",
   "metadata": {},
   "source": [
    "$\\text{Although we have more classes our algorithm perform much better than before!}$"
   ]
  },
  {
   "cell_type": "markdown",
   "metadata": {},
   "source": [
    "<h1>Advantages and disadvantages of Logistic Regression<h1>"
   ]
  },
  {
   "cell_type": "markdown",
   "metadata": {},
   "source": [
    "$\\text{Advantages of Logistic Regression:}$<p>\n",
    "$\\text{- Ease of implementation and interpretation of the results obtained,}$<p>\n",
    "$\\text{- The returned values of the coefficients can give information on the significance of the variables (as long as they have similar distributions),}$<p>\n",
    "$\\text{- Short compilation time.}$<br>\n",
    "\n",
    "$\\text{Disadvantages of Logistic Regression:}$<p>\n",
    "$\\text{- With a larger number of variables, over-fitting problems arise,}$<p>\n",
    "$\\text{- The assumption of linearity between the dependent variable and the independent variables.}$"
   ]
  }
 ],
 "metadata": {
  "kernelspec": {
   "display_name": "Python 3",
   "language": "python",
   "name": "python3"
  },
  "language_info": {
   "codemirror_mode": {
    "name": "ipython",
    "version": 3
   },
   "file_extension": ".py",
   "mimetype": "text/x-python",
   "name": "python",
   "nbconvert_exporter": "python",
   "pygments_lexer": "ipython3",
   "version": "3.11.3"
  },
  "orig_nbformat": 4
 },
 "nbformat": 4,
 "nbformat_minor": 2
}
