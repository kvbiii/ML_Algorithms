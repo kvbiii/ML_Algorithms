{
 "cells": [
  {
   "cell_type": "markdown",
   "metadata": {},
   "source": [
    "<h1>Import libraries<h1>"
   ]
  },
  {
   "cell_type": "code",
   "execution_count": 1,
   "metadata": {},
   "outputs": [],
   "source": [
    "from Model.Logistic_Regression_from_scratch import *\n",
    "from Metrics.Classification_metrics import *\n",
    "from Plots.Prediction_plots import *\n",
    "Plots_predictions = Prediction_plots()"
   ]
  },
  {
   "cell_type": "markdown",
   "metadata": {},
   "source": [
    "<h1>Explanation of Logistic Regression<h1>"
   ]
  },
  {
   "cell_type": "markdown",
   "metadata": {},
   "source": [
    "$\\text{Logistic regression is a regression method thanks which we are able to predict probability of each class for our dependent variable.}$<p>\n",
    "\n",
    "$\\text{In a binary problem we can calculate probability as follows:}$\n",
    "$$p_{0,i}=1-p_{1,i}$$\n",
    "$$\\ln{\\left(\\frac{p_{1,i}}{1-p_{1,i}}\\right)}=\\beta_0+\\beta_1\\times x_{1,i}+\\beta_2\\times x_{2,i}+\\ldots+\\beta_M\\times x_{M,i}$$\n",
    "$$e^{\\ln{\\left(\\frac{p_{1,i}}{1-p_{1,i}}\\right)}}=e^{(\\beta_0+\\beta_1\\times x_{1,i}+\\beta_2\\times x_{2,i}+\\ldots+\\beta_M\\times x_{M,i})}$$\n",
    "$$\\frac{p_{1,i}}{1-p_{1,i}}=e^{-\\left(\\beta_0+\\beta_1\\times x_{1,i}+\\beta_2\\times x_{2,i}+\\ldots+\\beta_M\\times x_{M,i}\\right)}$$\n",
    "$$p_{1,i}=e^{\\left(\\beta_0+\\beta_1\\times x_{1,i}+\\beta_2\\times x_{2,i}+\\ldots+\\beta_k\\times x_{k,i}\\right)}-p_{1,i}\\times e^{\\left(\\beta_0+\\beta_1\\times x_{1,i}+\\beta_2\\times x_{2,i}+\\ldots+\\beta_M\\times x_{M,i}\\right)}$$\n",
    "$$p_{1,i}\\times\\left(1+e^{\\left(\\beta_0+\\beta_1\\times x_{1,i}+\\beta_2\\times x_{2,i}+\\ldots+\\beta_k\\times x_{k,i}\\right)}\\right)=e^{\\left(\\beta_0+\\beta_1\\times x_{1,i}+\\beta_2\\times x_{2,i}+\\ldots+\\beta_M\\times x_{M,i}\\right)}$$\n",
    "$$p_{1,i}=\\frac{e^{\\left(\\beta_0+\\beta_1\\times x_{1,i}+\\beta_2\\times x_{2,i}+\\ldots+\\beta_M\\times x_{M,i}\\right)}}{1+e^{\\left(\\beta_0+\\beta_1\\times x_{1,i}+\\beta_2\\times x_{2,i}+\\ldots+\\beta_M\\times x_{M,i}\\right)}}$$\n",
    "$$p_{1,i}=\\frac{1}{1+e^{-(\\beta_0+\\beta_1\\times x_{1,i}+\\beta_2\\times x_{2,i}+\\ldots+\\beta_M\\times x_{M,i})}}$$\n",
    "$\\text{Where: } p_{0,i} \\text{ – probability of class 0 for observation } i,$<p>\n",
    "$p_{1,i} \\text{ – probability of class 1 for observation } i,$<p>\n",
    "$\\beta_m \\text{ – coefficient } m \\text{of the estimator,}$<p>\n",
    "$x_{m,i} \\text{ – the value of variable } m \\text{ for observation }i,$<p>\n",
    "$M \\text{ – number of independent variables.}$"
   ]
  },
  {
   "cell_type": "markdown",
   "metadata": {},
   "source": [
    "$\\text{For the multiclassification, we also need to determine some base level (note that for the binary it was determined by class 0), to which we will compare the other classes.}$<p>\n",
    "$\\text{In this way, we will be able to subdivide the binary into \"subproblems\":}$\n",
    "$$Class 1: \\ln{\\left(\\frac{p_{1,i}}{p_{0,i}}\\right)}=\\beta_1^T\\times x_i$$\n",
    "$$Class\\ 2:\\ \\ln{\\left(\\frac{p_{2,i}}{p_{0,i}}\\right)}=\\beta_2^T\\times x_i$$\n",
    "$$\\ldots$$\n",
    "$$Class\\ K-1: \\ln{\\left(\\frac{p_{K-1,i}}{p_{0,i}}\\right)}=\\beta_{K-1}^T\\times x_i$$\n",
    "$$Class\\ 0:\\ 1-\\sum_{k=1}^{K-1}p_{k,i}$$\n",
    "$\\text{Where: }K \\text{ - the number of classes of the dependent variable.}$<p>\n",
    "\n",
    "$\\text{Instead of one set of coefficients, we will have as many as K-1.}$<P>\n",
    "$\\text{After transformations (similar to those performed above for the binary problem), resulting from the fact that:}$\n",
    "$$p_{0,i}=1-p_{1,i}-p_{2,i}-\\ldots-p_{K-1,i}$$\n",
    "$\\text{we get:}$\n",
    "$$Class 1: \\ p_{1,i}=\\frac{e^{\\beta_1^T\\times x_i}}{1+\\sum_{k=1}^{K-1}e^{\\beta_k^T\\times x_i}}$$\n",
    "$$Class 2: \\ p_{2,i}=\\frac{e^{\\beta_2^T\\times x_i}}{1+\\sum_{k=1}^{K-1}e^{\\beta_k^T\\times x_i}}$$\n",
    "$$\\ldots$$\n",
    "$$Class K-1: \\ p_{K-1,i}=\\frac{e^{\\beta_{K-1}^T\\times x_i}}{1+\\sum_{k=1}^{K-1}e^{\\beta_k^T\\times x_i}}$$\n",
    "$$Class 0: \\ p_{0,i}=\\frac{1}{1+\\sum_{k=1}^{K-1}e^{\\beta_k^T\\times x_i}}$$\n",
    "$\\text{Thus, let us note that, in general, the binary and multiclass logistic regression problem for class k and observation i can be written as:}$\n",
    "$$p_{k,i}=\\frac{e^{\\beta_k^T\\times x_i}}{1+\\sum_{k=1}^{K-1}e^{\\beta_k^T\\times x_i}}$$"
   ]
  },
  {
   "cell_type": "markdown",
   "metadata": {},
   "source": [
    "<h2>Finding optimal values of coefficients<h2>"
   ]
  },
  {
   "cell_type": "markdown",
   "metadata": {},
   "source": [
    "$\\text{As presented above, the value that we optimize is the logarithm of \"odds\" - } log\\_odds:$\n",
    "$${\\hat{y}}_i=\\ln{\\left(\\frac{{\\hat{p}}_i}{1-{\\hat{p}}_i}\\right)}$$\n",
    "$\\text{The conversion of } log\\_odds \\text{ into probability is given by the following formula:}$\n",
    "$${\\hat{p}}_i=\\frac{1}{1+e^{-log\\_odds}}=\\frac{1}{1+e^{-{\\hat{y}}_i}}$$\n",
    "$\\text{The basic loss function for logistic regression is } log\\_loss:$\n",
    "$$log{\\_loss}=\\frac{1}{N}\\times\\sum_{i=1}^{N}\\left(y_i\\times\\ln{\\left({\\hat{p}}_i\\right)}+\\ln{\\left(1-{\\hat{p}}_i\\right)}-y_i\\times\\ln{\\left(1-{\\hat{p}}_i\\right)}\\right)=$$\n",
    "$$=-\\frac{1}{N}\\times\\sum_{i=1}^{N}\\left(y_i\\times\\left(\\ln{\\left({\\hat{p}}_i\\right)}-\\ln{\\left(1-{\\hat{p}}_i\\right)}\\right)+\\ln{\\left(1-{\\hat{p}}_i\\right)}\\right)$$\n",
    "$\\text{Converting: } {\\hat{p}}_i\\rightarrow{\\hat{y}}_i:$\n",
    "$$log{\\_loss}=-\\frac{1}{N}\\times\\sum_{i=1}^{N}\\left(y_i\\times\\left(\\ln{\\left(\\frac{1}{1+e^{-{\\hat{y}}_i}}\\right)}-\\ln{\\left(1-\\frac{1}{1+e^{-{\\hat{y}}_i}}\\right)}\\right)+\\ln{\\left(1-\\frac{1}{1+e^{-{\\hat{y}}_i}}\\right)}\\right)=$$\n",
    "$$=-\\frac{1}{N}\\times\\sum_{i=1}^{N}\\left(y_i\\times\\left(\\ln{\\left(\\frac{1}{1+e^{-{\\hat{y}}_i}}\\right)}-\\ln{\\left(\\frac{e^{-{\\hat{y}}_i}}{1+e^{-{\\hat{y}}_i}}\\right)}\\right)+\\ln{\\left(\\frac{e^{-{\\hat{y}}_i}}{1+e^{-{\\hat{y}}_i}}\\right)}\\right)=$$\n",
    "$$=-\\frac{1}{N}\\times\\sum_{i=1}^{N}\\left(y_i\\times\\ln{\\left(\\frac{\\frac{1}{1+e^{-{\\hat{y}}_i}}}{\\frac{e^{-{\\hat{y}}_i}}{1+e^{-{\\hat{y}}_i}}}\\right)}+\\ln{\\left(\\frac{1}{1+e^{{\\hat{y}}_i}}\\right)}\\right)=$$\n",
    "$$=-\\frac{1}{N}\\times\\sum_{i=1}^{N}\\left(y_i\\times\\ln{\\left(\\frac{1}{e^{-{\\hat{y}}_i}}\\right)}-\\ln{\\left(1+e^{{\\hat{y}}_i}\\right)}\\right)=$$\n",
    "$$=-\\frac{1}{N}\\times\\sum_{i=1}^{N}\\left(y_i\\times{\\hat{y}}_i-\\ln{\\left(1+e^{{\\hat{y}}_i}\\right)}\\right)$$\n",
    "$\\text{The values we are looking for and want to optimize are the coefficients: } \\beta.$<p>\n",
    "$\\text{So let's convert again: } {\\hat{y}}_i\\rightarrow\\beta:$\n",
    "$$log\\_loss=-\\frac{1}{N}\\times\\sum_{i=1}^{N}\\left(y_i\\times\\beta^T\\times x_i-\\ln{\\left(1+e^{\\beta^T\\times x_i}\\right)}\\right)$$\n",
    "$\\text{We need to find a value } \\beta \\text{ that minimizes the function above.}$<p>\n",
    "$\\text{Using the gradient descent algorithm, we can find the optimal values of our } \\beta \\text{ estimator with a sufficiently large number of iterations.}$<p>\n",
    "$\\text{Updating the } \\beta \\text{ value looks like this:}$\n",
    "$$\\beta_{new}=\\beta_{old}-learning_rate\\ \\times\\frac{\\partial log\\_loss\\left(\\beta\\right)}{\\partial\\beta}$$\n",
    "$$\\frac{\\partial log\\_loss\\left(\\beta\\right)}{\\partial\\beta}=-\\frac{1}{N}\\times\\sum_{i=1}^{N}\\left(\\frac{\\partial}{\\partial\\beta}\\left(y_i\\times\\beta^T\\times x_i\\right)-\\frac{\\partial}{\\partial\\beta}\\left(\\ln{\\left(1+e^{\\beta^T\\times x_i}\\right)}\\right)\\right)=$$\n",
    "$$=-\\frac{1}{N}\\times\\sum_{i=1}^{N}\\left(y_i\\times x_i-\\frac{1}{1+e^{\\beta^T\\times x_i}}\\times\\frac{\\partial}{\\partial\\beta}\\left(\\left(1+e^{\\beta^T\\times x_i}\\right)\\right)\\right)=$$\n",
    "$$=-\\frac{1}{N}\\times\\sum_{i=1}^{N}\\left(y_i\\times x_i-x_i\\times\\frac{e^{\\beta^T\\times x_i}}{1+e^{\\beta^T\\times x_i}}\\right)=-\\frac{1}{N}\\times\\sum_{i=1}^{N}\\left(\\left(y_i-\\frac{1}{1+e^{-\\beta^T\\times x_i}}\\right)\\times x_i\\right)$$\n",
    "$\\text{Since } \\frac{\\partial log\\_loss\\left(\\beta\\right)}{\\partial\\beta} \\text{ should be returned as a vector with the same dimensions as: } \\begin{bmatrix}\n",
    "\\beta_{0} \\\\\n",
    "\\beta_{1} \\\\\n",
    "\\vdots \\\\\n",
    "\\beta_{M} \n",
    "\\end{bmatrix} \\text{ let's convert the sum into a matrix :}$\n",
    "$$\\frac{\\partial log\\_loss\\left(\\beta\\right)}{\\partial\\beta}-\\frac{1}{N}\\times\\sum_{i=1}^{N}\\left(\\left(y_i-\\frac{1}{1+e^{-\\beta^T\\times x_i}}\\right)\\times x_i\\right)=-\\frac{1}{N}\\times X^T\\times\\left(y-\\frac{1}{1+e^{-\\beta^T\\times X^T}}\\right)$$\n",
    "$\\text{So finally the optimization problem can be reduced to the following equation:}$\n",
    "$$\\beta_{new}=\\beta_{old}-learning\\ rate\\times\\left(-\\frac{1}{N}\\times X^T\\times\\left(y-\\frac{1}{1+e^{-\\beta^T\\times X^T}}\\right)\\right)$$\n",
    "$\\text{In the case of multiclassification, the approach will be analogous, but we break down to many binary problems each time looking for new coefficients.}$"
   ]
  },
  {
   "cell_type": "markdown",
   "metadata": {},
   "source": [
    "<h1>Preprocessing<h1>"
   ]
  },
  {
   "cell_type": "markdown",
   "metadata": {},
   "source": [
    "<h2>Download data<h2>"
   ]
  },
  {
   "cell_type": "code",
   "execution_count": 2,
   "metadata": {},
   "outputs": [],
   "source": [
    "data = pd.read_csv(\"Data/bank-balanced.csv\")\n",
    "X = data.drop(\"deposit\", axis=1)\n",
    "y = data[\"deposit\"]"
   ]
  },
  {
   "cell_type": "code",
   "execution_count": 3,
   "metadata": {},
   "outputs": [
    {
     "name": "stdout",
     "output_type": "stream",
     "text": [
      "Number of observations in data: 11162\n"
     ]
    },
    {
     "data": {
      "text/html": [
       "<div>\n",
       "<style scoped>\n",
       "    .dataframe tbody tr th:only-of-type {\n",
       "        vertical-align: middle;\n",
       "    }\n",
       "\n",
       "    .dataframe tbody tr th {\n",
       "        vertical-align: top;\n",
       "    }\n",
       "\n",
       "    .dataframe thead th {\n",
       "        text-align: right;\n",
       "    }\n",
       "</style>\n",
       "<table border=\"1\" class=\"dataframe\">\n",
       "  <thead>\n",
       "    <tr style=\"text-align: right;\">\n",
       "      <th></th>\n",
       "      <th>age</th>\n",
       "      <th>job</th>\n",
       "      <th>marital</th>\n",
       "      <th>education</th>\n",
       "      <th>default</th>\n",
       "      <th>balance</th>\n",
       "      <th>housing</th>\n",
       "      <th>loan</th>\n",
       "      <th>contact</th>\n",
       "      <th>day</th>\n",
       "      <th>month</th>\n",
       "      <th>duration</th>\n",
       "      <th>campaign</th>\n",
       "      <th>pdays</th>\n",
       "      <th>previous</th>\n",
       "      <th>poutcome</th>\n",
       "      <th>deposit</th>\n",
       "    </tr>\n",
       "  </thead>\n",
       "  <tbody>\n",
       "    <tr>\n",
       "      <th>0</th>\n",
       "      <td>59</td>\n",
       "      <td>admin.</td>\n",
       "      <td>married</td>\n",
       "      <td>secondary</td>\n",
       "      <td>no</td>\n",
       "      <td>2343</td>\n",
       "      <td>yes</td>\n",
       "      <td>no</td>\n",
       "      <td>unknown</td>\n",
       "      <td>5</td>\n",
       "      <td>may</td>\n",
       "      <td>1042</td>\n",
       "      <td>1</td>\n",
       "      <td>-1</td>\n",
       "      <td>0</td>\n",
       "      <td>unknown</td>\n",
       "      <td>yes</td>\n",
       "    </tr>\n",
       "    <tr>\n",
       "      <th>1</th>\n",
       "      <td>56</td>\n",
       "      <td>admin.</td>\n",
       "      <td>married</td>\n",
       "      <td>secondary</td>\n",
       "      <td>no</td>\n",
       "      <td>45</td>\n",
       "      <td>no</td>\n",
       "      <td>no</td>\n",
       "      <td>unknown</td>\n",
       "      <td>5</td>\n",
       "      <td>may</td>\n",
       "      <td>1467</td>\n",
       "      <td>1</td>\n",
       "      <td>-1</td>\n",
       "      <td>0</td>\n",
       "      <td>unknown</td>\n",
       "      <td>yes</td>\n",
       "    </tr>\n",
       "    <tr>\n",
       "      <th>2</th>\n",
       "      <td>41</td>\n",
       "      <td>technician</td>\n",
       "      <td>married</td>\n",
       "      <td>secondary</td>\n",
       "      <td>no</td>\n",
       "      <td>1270</td>\n",
       "      <td>yes</td>\n",
       "      <td>no</td>\n",
       "      <td>unknown</td>\n",
       "      <td>5</td>\n",
       "      <td>may</td>\n",
       "      <td>1389</td>\n",
       "      <td>1</td>\n",
       "      <td>-1</td>\n",
       "      <td>0</td>\n",
       "      <td>unknown</td>\n",
       "      <td>yes</td>\n",
       "    </tr>\n",
       "    <tr>\n",
       "      <th>3</th>\n",
       "      <td>55</td>\n",
       "      <td>services</td>\n",
       "      <td>married</td>\n",
       "      <td>secondary</td>\n",
       "      <td>no</td>\n",
       "      <td>2476</td>\n",
       "      <td>yes</td>\n",
       "      <td>no</td>\n",
       "      <td>unknown</td>\n",
       "      <td>5</td>\n",
       "      <td>may</td>\n",
       "      <td>579</td>\n",
       "      <td>1</td>\n",
       "      <td>-1</td>\n",
       "      <td>0</td>\n",
       "      <td>unknown</td>\n",
       "      <td>yes</td>\n",
       "    </tr>\n",
       "    <tr>\n",
       "      <th>4</th>\n",
       "      <td>54</td>\n",
       "      <td>admin.</td>\n",
       "      <td>married</td>\n",
       "      <td>tertiary</td>\n",
       "      <td>no</td>\n",
       "      <td>184</td>\n",
       "      <td>no</td>\n",
       "      <td>no</td>\n",
       "      <td>unknown</td>\n",
       "      <td>5</td>\n",
       "      <td>may</td>\n",
       "      <td>673</td>\n",
       "      <td>2</td>\n",
       "      <td>-1</td>\n",
       "      <td>0</td>\n",
       "      <td>unknown</td>\n",
       "      <td>yes</td>\n",
       "    </tr>\n",
       "  </tbody>\n",
       "</table>\n",
       "</div>"
      ],
      "text/plain": [
       "   age         job  marital  education default  balance housing loan  contact  \\\n",
       "0   59      admin.  married  secondary      no     2343     yes   no  unknown   \n",
       "1   56      admin.  married  secondary      no       45      no   no  unknown   \n",
       "2   41  technician  married  secondary      no     1270     yes   no  unknown   \n",
       "3   55    services  married  secondary      no     2476     yes   no  unknown   \n",
       "4   54      admin.  married   tertiary      no      184      no   no  unknown   \n",
       "\n",
       "   day month  duration  campaign  pdays  previous poutcome deposit  \n",
       "0    5   may      1042         1     -1         0  unknown     yes  \n",
       "1    5   may      1467         1     -1         0  unknown     yes  \n",
       "2    5   may      1389         1     -1         0  unknown     yes  \n",
       "3    5   may       579         1     -1         0  unknown     yes  \n",
       "4    5   may       673         2     -1         0  unknown     yes  "
      ]
     },
     "execution_count": 3,
     "metadata": {},
     "output_type": "execute_result"
    }
   ],
   "source": [
    "print(\"Number of observations in data: {}\".format(len(data)))\n",
    "data.head()"
   ]
  },
  {
   "cell_type": "markdown",
   "metadata": {},
   "source": [
    "<h2>Check for null data<h2>"
   ]
  },
  {
   "cell_type": "code",
   "execution_count": 4,
   "metadata": {},
   "outputs": [
    {
     "data": {
      "text/plain": [
       "age          0.0\n",
       "job          0.0\n",
       "marital      0.0\n",
       "education    0.0\n",
       "default      0.0\n",
       "balance      0.0\n",
       "housing      0.0\n",
       "loan         0.0\n",
       "contact      0.0\n",
       "day          0.0\n",
       "month        0.0\n",
       "duration     0.0\n",
       "campaign     0.0\n",
       "pdays        0.0\n",
       "previous     0.0\n",
       "poutcome     0.0\n",
       "deposit      0.0\n",
       "dtype: float64"
      ]
     },
     "execution_count": 4,
     "metadata": {},
     "output_type": "execute_result"
    }
   ],
   "source": [
    "data.isnull().sum()/len(data)"
   ]
  },
  {
   "cell_type": "markdown",
   "metadata": {},
   "source": [
    "<h3>Check dtypes of dataset<h3>"
   ]
  },
  {
   "cell_type": "code",
   "execution_count": 5,
   "metadata": {},
   "outputs": [
    {
     "data": {
      "text/plain": [
       "age           int64\n",
       "job          object\n",
       "marital      object\n",
       "education    object\n",
       "default      object\n",
       "balance       int64\n",
       "housing      object\n",
       "loan         object\n",
       "contact      object\n",
       "day           int64\n",
       "month        object\n",
       "duration      int64\n",
       "campaign      int64\n",
       "pdays         int64\n",
       "previous      int64\n",
       "poutcome     object\n",
       "deposit      object\n",
       "dtype: object"
      ]
     },
     "execution_count": 5,
     "metadata": {},
     "output_type": "execute_result"
    }
   ],
   "source": [
    "data.dtypes"
   ]
  },
  {
   "cell_type": "markdown",
   "metadata": {},
   "source": [
    "<h2>Divide our data into train and test sets<h2>"
   ]
  },
  {
   "cell_type": "code",
   "execution_count": 6,
   "metadata": {},
   "outputs": [],
   "source": [
    "X_train, X_test, y_train, y_test = train_test_split(X, y, shuffle=True, random_state=17, test_size=0.2)"
   ]
  },
  {
   "cell_type": "markdown",
   "metadata": {},
   "source": [
    "$\\text{Because of the assumption of a normal distribution of our continuous variables, it is worth modifying their distribution before modeling.}$<p>\n",
    "$\\text{For this purpose, the Z-score will be used, which is described by the following formula:}$\n",
    "\n",
    "$${\\hat{X}}_{m, i}=\\frac{X_{m, i}-{\\bar{X}}_m}{\\sigma_m}$$\n",
    "\n",
    "$\\text{Where: } {\\hat{X}}_{m, i} \\text{ - standardized observation } i \\text{ of variable } m,$<p>\n",
    "$X_{m, i} \\text{ - observation } i \\text{ of variable } m,$<p>\n",
    "${\\bar{X}}_m \\text{ - mean of variable } m,$<p>\n",
    "$\\sigma_m \\text{ - standard deviation of variable } m.$"
   ]
  },
  {
   "cell_type": "markdown",
   "metadata": {},
   "source": [
    "$\\text{To properly approach the modeling process, the test set should remain unknown until the prediction is made.}$<p>\n",
    "$\\text{For this reason, we will only learn the mean and standard deviation for the training set and transform}$<p>\n",
    "$\\text{the two data sets based on just these values.}$ "
   ]
  },
  {
   "cell_type": "code",
   "execution_count": 7,
   "metadata": {},
   "outputs": [],
   "source": [
    "categorical_data_train = X_train.select_dtypes(include=\"object\")\n",
    "continous_data_train = X_train.select_dtypes(exclude=\"object\")\n",
    "categorical_data_test = X_test.select_dtypes(include=\"object\")\n",
    "continous_data_test = X_test.select_dtypes(exclude=\"object\")\n",
    "categorical_data_train = pd.get_dummies(categorical_data_train, drop_first=True, dtype=int)\n",
    "categorical_data_test = pd.get_dummies(categorical_data_test, drop_first=True, dtype=int)\n",
    "mean_train = np.mean(continous_data_train, axis=0)\n",
    "std_train = np.std(continous_data_train, axis=0)\n",
    "continous_data_train = (continous_data_train-mean_train)/std_train\n",
    "continous_data_test = (continous_data_test-mean_train)/std_train"
   ]
  },
  {
   "cell_type": "code",
   "execution_count": 8,
   "metadata": {},
   "outputs": [],
   "source": [
    "X_train = pd.concat([categorical_data_train, continous_data_train], axis=1)\n",
    "X_test = pd.concat([categorical_data_test, continous_data_test], axis=1)"
   ]
  },
  {
   "cell_type": "markdown",
   "metadata": {},
   "source": [
    "<h1>Modelling<h1>"
   ]
  },
  {
   "cell_type": "markdown",
   "metadata": {},
   "source": [
    "$\\text{To verify how well our algorithms are able to perform, a cross-validation will be used on the training set (in order to average the results obtained).}$<p>\n",
    "$\\text{Then we will check whether the algorithms will perform equally well (or even better) on the test data.}$"
   ]
  },
  {
   "cell_type": "code",
   "execution_count": 9,
   "metadata": {},
   "outputs": [],
   "source": [
    "class Cross_Validation():\n",
    "    def __init__(self, metric, algorithm_instance, cross_validation_instance):\n",
    "        metrics = {\"accuracy\": [lambda y, y_pred: accuracy_score(y, y_pred), \"preds\"],\n",
    "                    \"roc_auc\": [lambda y, y_pred: roc_auc_score(y, y_pred), \"probs\"],\n",
    "                    \"mse\": [lambda y, y_pred: mean_squared_error(y, y_pred), \"preds\"],\n",
    "                    \"rmse\": [lambda y, y_pred: mean_squared_error(y, y_pred)**0.5, \"preds\"],\n",
    "                    \"mae\": [lambda y, y_pred: mean_absolute_error(y, y_pred), \"preds\"]}\n",
    "        if metric not in metrics:\n",
    "            raise ValueError('Unsupported metric: {}'.format(metric))\n",
    "        self.eval_metric = metrics[metric][0]\n",
    "        self.metric_type = metrics[metric][1]\n",
    "        self.algorithm = algorithm_instance\n",
    "        self.cv = cross_validation_instance\n",
    "    \n",
    "    def fit(self, X, y, verbose=False):\n",
    "        X = self.check_X(X=X)\n",
    "        y = self.check_y(y=y)\n",
    "        self.train_scores, self.valid_scores = [], []\n",
    "        for iter, (train_idx, valid_idx) in enumerate(self.cv.split(X, y)):\n",
    "            X_train, X_valid = X[train_idx, :], X[valid_idx, :]\n",
    "            y_train, y_valid = y[train_idx], y[valid_idx]\n",
    "            self.algorithm.fit(X_train, y_train)\n",
    "            if(self.metric_type == \"preds\"):\n",
    "                y_train_pred = self.algorithm.predict(X_train)\n",
    "                y_valid_pred = self.algorithm.predict(X_valid)\n",
    "            else:\n",
    "                y_train_pred = self.algorithm.predict_proba(X_train)[:, 1]\n",
    "                y_valid_pred = self.algorithm.predict_proba(X_valid)[:, 1]\n",
    "            self.train_scores.append(self.eval_metric(y_train, y_train_pred))\n",
    "            self.valid_scores.append(self.eval_metric(y_valid, y_valid_pred))\n",
    "            if(verbose == True):\n",
    "                print(\"Iter {}: train scores: {}; valid scores: {}\".format(iter, np.round(self.eval_metric(y_train, y_train_pred), 5), np.round(self.eval_metric(y_valid, y_valid_pred), 5)))\n",
    "        return np.mean(self.train_scores), np.mean(self.valid_scores)\n",
    "    \n",
    "    def check_X(self, X):\n",
    "        if not isinstance(X, pd.DataFrame) and not isinstance(X, np.ndarray) and not torch.is_tensor(X):\n",
    "            raise TypeError('Wrong type of X. It should be dataframe, numpy array or torch tensor.')\n",
    "        X = np.array(X)\n",
    "        if(X.ndim == 1):\n",
    "            X = X[None, :]\n",
    "        return X\n",
    "    \n",
    "    def check_y(self, y):\n",
    "        if not isinstance(y, pd.DataFrame) and not isinstance(y, pd.Series) and not isinstance(y, np.ndarray) and not torch.is_tensor(y):\n",
    "            raise TypeError('Wrong type of y. It should be pandas DataFrame, pandas Series, numpy array or torch tensor.')\n",
    "        y = np.array(y)\n",
    "        if(y.ndim == 2):\n",
    "            y = y.squeeze()\n",
    "        return y"
   ]
  },
  {
   "cell_type": "code",
   "execution_count": 10,
   "metadata": {},
   "outputs": [
    {
     "name": "stdout",
     "output_type": "stream",
     "text": [
      "Iter 0: train scores: 0.89163; valid scores: 0.88649\n",
      "Iter 1: train scores: 0.8847; valid scores: 0.87891\n",
      "Iter 2: train scores: 0.88448; valid scores: 0.89458\n",
      "Iter 3: train scores: 0.89148; valid scores: 0.88218\n",
      "Iter 4: train scores: 0.88602; valid scores: 0.88345\n",
      "Mean of train scores: 0.88766; Mean of valid scores: 0.88512\n"
     ]
    }
   ],
   "source": [
    "CV = Cross_Validation(metric=\"roc_auc\", algorithm_instance=Logistic_Regression(fit_intercept=True, random_state=17, learning_rate=0.1, max_iter=500), cross_validation_instance=KFold(n_splits=5, shuffle=True, random_state=17))\n",
    "mean_of_train_scores, mean_of_valid_scores = CV.fit(X=X_train, y=y_train, verbose=True)\n",
    "print(\"Mean of train scores: {}; Mean of valid scores: {}\".format(np.round(mean_of_train_scores, 5), np.round(mean_of_valid_scores, 5)))"
   ]
  },
  {
   "cell_type": "markdown",
   "metadata": {},
   "source": [
    "$\\text{Check the results for original test dataset.}$"
   ]
  },
  {
   "cell_type": "code",
   "execution_count": 11,
   "metadata": {},
   "outputs": [
    {
     "name": "stdout",
     "output_type": "stream",
     "text": [
      "Logistic Regression: Train: 0.8913; Test: 0.8887\n"
     ]
    }
   ],
   "source": [
    "model = Logistic_Regression(fit_intercept=True, random_state=17, learning_rate=0.1, max_iter=500)\n",
    "model.fit(X_train, y_train)\n",
    "y_prob_train = model.predict_proba(X_train)[:,1]\n",
    "y_prob_test = model.predict_proba(X_test)[:,1]\n",
    "print(\"Logistic Regression: Train: {}; Test: {}\".format(np.round(roc_auc_score(y_train, y_prob_train), 4), np.round(roc_auc_score(y_test, y_prob_test), 4)))"
   ]
  },
  {
   "cell_type": "markdown",
   "metadata": {},
   "source": [
    "$\\text{Write down predictions for the future}$"
   ]
  },
  {
   "cell_type": "code",
   "execution_count": 12,
   "metadata": {},
   "outputs": [],
   "source": [
    "base_predictions = model.predict(X_test)\n",
    "base_probabilities = model.predict_proba(X_test)[:, 1]"
   ]
  },
  {
   "cell_type": "markdown",
   "metadata": {},
   "source": [
    "$\\text{We will try to tune hyperparameters to see whether we can improve accuracy.}$<p>"
   ]
  },
  {
   "cell_type": "markdown",
   "metadata": {},
   "source": [
    "<h1>Optimization<h1>"
   ]
  },
  {
   "cell_type": "markdown",
   "metadata": {},
   "source": [
    "$\\text{Actually the only parameter that we are able to tune is } learning\\_rate.$<p>\n",
    "$learning\\_rate \\ [float] \\text{: specifies learning rate for gradient descent optimization.}$<p>\n",
    "$\\text{Higher values should lead to faster finding of optimal coefficient.}$"
   ]
  },
  {
   "cell_type": "code",
   "execution_count": 13,
   "metadata": {},
   "outputs": [
    {
     "name": "stdout",
     "output_type": "stream",
     "text": [
      "learning_rate: 0.1; Mean of train scores: 0.88766; Mean of valid scores: 0.88512\n",
      "learning_rate: 0.5214285714285715; Mean of train scores: 0.90244; Mean of valid scores: 0.89984\n",
      "learning_rate: 0.9428571428571428; Mean of train scores: 0.90398; Mean of valid scores: 0.90124\n",
      "learning_rate: 1.3642857142857143; Mean of train scores: 0.90448; Mean of valid scores: 0.90162\n",
      "learning_rate: 1.7857142857142858; Mean of train scores: 0.90471; Mean of valid scores: 0.90181\n",
      "learning_rate: 2.2071428571428573; Mean of train scores: 0.90484; Mean of valid scores: 0.90189\n",
      "learning_rate: 2.6285714285714286; Mean of train scores: 0.90493; Mean of valid scores: 0.90194\n",
      "learning_rate: 3.0500000000000003; Mean of train scores: 0.90497; Mean of valid scores: 0.90197\n",
      "learning_rate: 3.4714285714285715; Mean of train scores: 0.90499; Mean of valid scores: 0.90199\n",
      "learning_rate: 3.892857142857143; Mean of train scores: 0.90501; Mean of valid scores: 0.902\n",
      "learning_rate: 4.314285714285714; Mean of train scores: 0.90502; Mean of valid scores: 0.90199\n",
      "learning_rate: 4.735714285714286; Mean of train scores: 0.90502; Mean of valid scores: 0.90199\n",
      "learning_rate: 5.157142857142857; Mean of train scores: 0.90503; Mean of valid scores: 0.90184\n",
      "learning_rate: 5.578571428571428; Mean of train scores: 0.90449; Mean of valid scores: 0.90128\n",
      "learning_rate: 6.0; Mean of train scores: 0.90395; Mean of valid scores: 0.90077\n"
     ]
    }
   ],
   "source": [
    "model = Logistic_Regression(fit_intercept=True, random_state=17, max_iter=500)\n",
    "for learning_rate in np.linspace(0.1, 6.0, 15):\n",
    "    model = Logistic_Regression(fit_intercept=True, random_state=17, learning_rate=learning_rate, max_iter=500)\n",
    "    CV = Cross_Validation(metric=\"roc_auc\", algorithm_instance=model, cross_validation_instance=KFold(n_splits=5, shuffle=True, random_state=17))\n",
    "    mean_of_train_scores, mean_of_valid_scores = CV.fit(X=X_train, y=y_train, verbose=False)\n",
    "    print(\"learning_rate: {}; Mean of train scores: {}; Mean of valid scores: {}\".format(learning_rate, np.round(mean_of_train_scores, 5), np.round(mean_of_valid_scores, 5)))"
   ]
  },
  {
   "cell_type": "markdown",
   "metadata": {},
   "source": [
    "$\\text{We see that as we increase the } learning\\_rate \\text{ we obtain better results.}$<p>\n",
    "$\\text{However, from the level of } learning\\_rate \\approx 3.9 \\text{ we can see a exacerbation.}$<p>\n",
    "$\\text{We can take a closer look for range: } [3, 4.5]$"
   ]
  },
  {
   "cell_type": "code",
   "execution_count": 14,
   "metadata": {},
   "outputs": [
    {
     "name": "stdout",
     "output_type": "stream",
     "text": [
      "learning_rate: 3.5; Mean of train scores: 0.905; Mean of valid scores: 0.90199\n",
      "learning_rate: 3.5714285714285716; Mean of train scores: 0.905; Mean of valid scores: 0.90199\n",
      "learning_rate: 3.642857142857143; Mean of train scores: 0.905; Mean of valid scores: 0.90198\n",
      "learning_rate: 3.7142857142857144; Mean of train scores: 0.90501; Mean of valid scores: 0.90198\n",
      "learning_rate: 3.7857142857142856; Mean of train scores: 0.90501; Mean of valid scores: 0.90199\n",
      "learning_rate: 3.857142857142857; Mean of train scores: 0.90501; Mean of valid scores: 0.90199\n",
      "learning_rate: 3.9285714285714284; Mean of train scores: 0.90501; Mean of valid scores: 0.90199\n",
      "learning_rate: 4.0; Mean of train scores: 0.90501; Mean of valid scores: 0.90199\n",
      "learning_rate: 4.071428571428571; Mean of train scores: 0.90501; Mean of valid scores: 0.90199\n",
      "learning_rate: 4.142857142857142; Mean of train scores: 0.90502; Mean of valid scores: 0.90199\n",
      "learning_rate: 4.214285714285714; Mean of train scores: 0.90502; Mean of valid scores: 0.90199\n",
      "learning_rate: 4.285714285714286; Mean of train scores: 0.90502; Mean of valid scores: 0.90199\n",
      "learning_rate: 4.357142857142857; Mean of train scores: 0.90502; Mean of valid scores: 0.90199\n",
      "learning_rate: 4.428571428571429; Mean of train scores: 0.90502; Mean of valid scores: 0.90199\n",
      "learning_rate: 4.5; Mean of train scores: 0.90502; Mean of valid scores: 0.90199\n"
     ]
    }
   ],
   "source": [
    "model = Logistic_Regression(fit_intercept=True, random_state=17, max_iter=500)\n",
    "for learning_rate in np.linspace(3.5, 4.5, 15):\n",
    "    model = Logistic_Regression(fit_intercept=True, random_state=17, learning_rate=learning_rate, max_iter=500)\n",
    "    CV = Cross_Validation(metric=\"roc_auc\", algorithm_instance=model, cross_validation_instance=KFold(n_splits=5, shuffle=True, random_state=17))\n",
    "    mean_of_train_scores, mean_of_valid_scores = CV.fit(X=X_train, y=y_train, verbose=False)\n",
    "    print(\"learning_rate: {}; Mean of train scores: {}; Mean of valid scores: {}\".format(learning_rate, np.round(mean_of_train_scores, 5), np.round(mean_of_valid_scores, 5)))"
   ]
  },
  {
   "cell_type": "markdown",
   "metadata": {},
   "source": [
    "$\\text{Differences are not that big but it seems like best valid score was obtained for } learning\\_rate \\approx 3.9$"
   ]
  },
  {
   "cell_type": "markdown",
   "metadata": {},
   "source": [
    "<h1>Evaluation and Visualization<h1>"
   ]
  },
  {
   "cell_type": "code",
   "execution_count": 15,
   "metadata": {},
   "outputs": [
    {
     "name": "stdout",
     "output_type": "stream",
     "text": [
      "Balance accuracy score: 0.80857\n",
      "Roc AUC score: 0.8887\n",
      "+--------------+-------------+----------+------------+-------------+\n",
      "|              |   precision |   recall |   f1-score |     support |\n",
      "|--------------+-------------+----------+------------+-------------|\n",
      "| no           |    0.796281 | 0.85134  |   0.822891 | 1157        |\n",
      "| yes          |    0.827309 | 0.765799 |   0.795367 | 1076        |\n",
      "| accuracy     |    0.810121 | 0.810121 |   0.810121 |    0.810121 |\n",
      "| macro avg    |    0.811795 | 0.808569 |   0.809129 | 2233        |\n",
      "| weighted avg |    0.811233 | 0.810121 |   0.809628 | 2233        |\n",
      "+--------------+-------------+----------+------------+-------------+\n"
     ]
    }
   ],
   "source": [
    "print(\"Balance accuracy score: {}\".format(np.round(balanced_accuracy_score(y_true=y_test, y_pred=base_predictions), 5)))\n",
    "print(\"Roc AUC score: {}\".format(np.round(roc_auc_score(y_true=y_test, y_score=base_probabilities), 5)))\n",
    "report = classification_report(y_test, base_predictions, output_dict=True)\n",
    "df = pd.DataFrame(report).transpose()\n",
    "print(tabulate(df, headers=\"keys\", tablefmt = 'psql'))"
   ]
  },
  {
   "cell_type": "code",
   "execution_count": 16,
   "metadata": {},
   "outputs": [
    {
     "data": {
      "image/png": "[encoded data removed]"
     },
     "metadata": {},
     "output_type": "display_data"
    }
   ],
   "source": [
    "encoder = OrdinalEncoder()\n",
    "y_test_encoded = encoder.fit_transform(np.array(y_test).reshape(-1,1))\n",
    "Plots_predictions.roc_auc_plot(y_true=y_test_encoded, y_prob=base_probabilities)"
   ]
  },
  {
   "cell_type": "markdown",
   "metadata": {},
   "source": [
    "$\\text{For Logistic Regression with optimized } learning\\_rate \\approx 3.9$"
   ]
  },
  {
   "cell_type": "code",
   "execution_count": 17,
   "metadata": {},
   "outputs": [
    {
     "name": "stdout",
     "output_type": "stream",
     "text": [
      "Balance accuracy score: 0.8244\n",
      "Roc AUC score: 0.9045\n",
      "+--------------+-------------+----------+------------+-------------+\n",
      "|              |   precision |   recall |   f1-score |     support |\n",
      "|--------------+-------------+----------+------------+-------------|\n",
      "| no           |    0.819317 | 0.850475 |   0.834606 | 1157        |\n",
      "| yes          |    0.832364 | 0.798327 |   0.814991 | 1076        |\n",
      "| accuracy     |    0.825347 | 0.825347 |   0.825347 |    0.825347 |\n",
      "| macro avg    |    0.825841 | 0.824401 |   0.824798 | 2233        |\n",
      "| weighted avg |    0.825604 | 0.825347 |   0.825154 | 2233        |\n",
      "+--------------+-------------+----------+------------+-------------+\n"
     ]
    }
   ],
   "source": [
    "final_algorithm_optimized = Logistic_Regression(fit_intercept=True, learning_rate=3.9, random_state=17, max_iter=500)\n",
    "final_algorithm_optimized.fit(X_train, np.array(y_train).squeeze())\n",
    "y_pred_final_optimized = final_algorithm_optimized.predict(X_test)\n",
    "y_prob_final_optimized = final_algorithm_optimized.predict_proba(X_test)[:, 1]\n",
    "print(\"Balance accuracy score: {}\".format(np.round(balanced_accuracy_score(y_true=y_test, y_pred=y_pred_final_optimized), 5)))\n",
    "print(\"Roc AUC score: {}\".format(np.round(roc_auc_score(y_true=y_test, y_score=y_prob_final_optimized), 5)))\n",
    "report = classification_report(y_test, y_pred_final_optimized, output_dict=True)\n",
    "df = pd.DataFrame(report).transpose()\n",
    "print(tabulate(df, headers=\"keys\", tablefmt = 'psql'))"
   ]
  },
  {
   "cell_type": "code",
   "execution_count": 18,
   "metadata": {},
   "outputs": [
    {
     "data": {
      "image/png": "[encoded data removed]"
     },
     "metadata": {},
     "output_type": "display_data"
    }
   ],
   "source": [
    "Plots_predictions.roc_auc_plot(y_true=y_test_encoded, y_prob=y_prob_final_optimized)"
   ]
  },
  {
   "cell_type": "markdown",
   "metadata": {},
   "source": [
    "$\\text{As we can see tuning have improved the effectiveness of the Logistic Regression!}$"
   ]
  },
  {
   "cell_type": "markdown",
   "metadata": {},
   "source": [
    "<h2>Interpretation of coefficients<h2>"
   ]
  },
  {
   "cell_type": "markdown",
   "metadata": {},
   "source": [
    "$\\text{The general interpretation of the } \\beta_m \\text{ coefficient can be described as follows:}$<p>\n",
    "$\\text{The expected chance of class 1 after increasing } X_m \\text{ by } t \\text{ units, to the chance of class 1 while leaving } X_m \\text{ unchanged is } e^{\\beta_m\\times t}.$"
   ]
  },
  {
   "cell_type": "markdown",
   "metadata": {},
   "source": [
    "$\\text{Let's interpret coefficients of our Logistic Regression.}$"
   ]
  },
  {
   "cell_type": "code",
   "execution_count": 19,
   "metadata": {},
   "outputs": [
    {
     "data": {
      "text/html": [
       "<div>\n",
       "<style scoped>\n",
       "    .dataframe tbody tr th:only-of-type {\n",
       "        vertical-align: middle;\n",
       "    }\n",
       "\n",
       "    .dataframe tbody tr th {\n",
       "        vertical-align: top;\n",
       "    }\n",
       "\n",
       "    .dataframe thead th {\n",
       "        text-align: right;\n",
       "    }\n",
       "</style>\n",
       "<table border=\"1\" class=\"dataframe\">\n",
       "  <thead>\n",
       "    <tr style=\"text-align: right;\">\n",
       "      <th></th>\n",
       "      <th>Variables</th>\n",
       "      <th>Coefficients</th>\n",
       "    </tr>\n",
       "  </thead>\n",
       "  <tbody>\n",
       "    <tr>\n",
       "      <th>0</th>\n",
       "      <td>Intercept</td>\n",
       "      <td>0.873043</td>\n",
       "    </tr>\n",
       "    <tr>\n",
       "      <th>1</th>\n",
       "      <td>job_blue-collar</td>\n",
       "      <td>-0.235381</td>\n",
       "    </tr>\n",
       "    <tr>\n",
       "      <th>2</th>\n",
       "      <td>job_entrepreneur</td>\n",
       "      <td>-0.312409</td>\n",
       "    </tr>\n",
       "    <tr>\n",
       "      <th>3</th>\n",
       "      <td>job_housemaid</td>\n",
       "      <td>-0.407802</td>\n",
       "    </tr>\n",
       "    <tr>\n",
       "      <th>4</th>\n",
       "      <td>job_management</td>\n",
       "      <td>-0.257644</td>\n",
       "    </tr>\n",
       "    <tr>\n",
       "      <th>5</th>\n",
       "      <td>job_retired</td>\n",
       "      <td>0.331800</td>\n",
       "    </tr>\n",
       "    <tr>\n",
       "      <th>6</th>\n",
       "      <td>job_self-employed</td>\n",
       "      <td>-0.404473</td>\n",
       "    </tr>\n",
       "    <tr>\n",
       "      <th>7</th>\n",
       "      <td>job_services</td>\n",
       "      <td>-0.222309</td>\n",
       "    </tr>\n",
       "    <tr>\n",
       "      <th>8</th>\n",
       "      <td>job_student</td>\n",
       "      <td>0.646595</td>\n",
       "    </tr>\n",
       "    <tr>\n",
       "      <th>9</th>\n",
       "      <td>job_technician</td>\n",
       "      <td>-0.090616</td>\n",
       "    </tr>\n",
       "    <tr>\n",
       "      <th>10</th>\n",
       "      <td>job_unemployed</td>\n",
       "      <td>-0.055073</td>\n",
       "    </tr>\n",
       "    <tr>\n",
       "      <th>11</th>\n",
       "      <td>job_unknown</td>\n",
       "      <td>-0.531625</td>\n",
       "    </tr>\n",
       "    <tr>\n",
       "      <th>12</th>\n",
       "      <td>marital_married</td>\n",
       "      <td>-0.204159</td>\n",
       "    </tr>\n",
       "    <tr>\n",
       "      <th>13</th>\n",
       "      <td>marital_single</td>\n",
       "      <td>0.104806</td>\n",
       "    </tr>\n",
       "    <tr>\n",
       "      <th>14</th>\n",
       "      <td>education_secondary</td>\n",
       "      <td>0.252498</td>\n",
       "    </tr>\n",
       "    <tr>\n",
       "      <th>15</th>\n",
       "      <td>education_tertiary</td>\n",
       "      <td>0.551529</td>\n",
       "    </tr>\n",
       "    <tr>\n",
       "      <th>16</th>\n",
       "      <td>education_unknown</td>\n",
       "      <td>0.331092</td>\n",
       "    </tr>\n",
       "    <tr>\n",
       "      <th>17</th>\n",
       "      <td>default_yes</td>\n",
       "      <td>0.025180</td>\n",
       "    </tr>\n",
       "    <tr>\n",
       "      <th>18</th>\n",
       "      <td>housing_yes</td>\n",
       "      <td>-0.725812</td>\n",
       "    </tr>\n",
       "    <tr>\n",
       "      <th>19</th>\n",
       "      <td>loan_yes</td>\n",
       "      <td>-0.510057</td>\n",
       "    </tr>\n",
       "    <tr>\n",
       "      <th>20</th>\n",
       "      <td>contact_telephone</td>\n",
       "      <td>-0.019156</td>\n",
       "    </tr>\n",
       "    <tr>\n",
       "      <th>21</th>\n",
       "      <td>contact_unknown</td>\n",
       "      <td>-1.489541</td>\n",
       "    </tr>\n",
       "    <tr>\n",
       "      <th>22</th>\n",
       "      <td>month_aug</td>\n",
       "      <td>-0.830371</td>\n",
       "    </tr>\n",
       "    <tr>\n",
       "      <th>23</th>\n",
       "      <td>month_dec</td>\n",
       "      <td>1.202034</td>\n",
       "    </tr>\n",
       "    <tr>\n",
       "      <th>24</th>\n",
       "      <td>month_feb</td>\n",
       "      <td>-0.083678</td>\n",
       "    </tr>\n",
       "    <tr>\n",
       "      <th>25</th>\n",
       "      <td>month_jan</td>\n",
       "      <td>-1.026459</td>\n",
       "    </tr>\n",
       "    <tr>\n",
       "      <th>26</th>\n",
       "      <td>month_jul</td>\n",
       "      <td>-0.945148</td>\n",
       "    </tr>\n",
       "    <tr>\n",
       "      <th>27</th>\n",
       "      <td>month_jun</td>\n",
       "      <td>0.200640</td>\n",
       "    </tr>\n",
       "    <tr>\n",
       "      <th>28</th>\n",
       "      <td>month_mar</td>\n",
       "      <td>1.886371</td>\n",
       "    </tr>\n",
       "    <tr>\n",
       "      <th>29</th>\n",
       "      <td>month_may</td>\n",
       "      <td>-0.680486</td>\n",
       "    </tr>\n",
       "    <tr>\n",
       "      <th>30</th>\n",
       "      <td>month_nov</td>\n",
       "      <td>-0.955799</td>\n",
       "    </tr>\n",
       "    <tr>\n",
       "      <th>31</th>\n",
       "      <td>month_oct</td>\n",
       "      <td>0.997172</td>\n",
       "    </tr>\n",
       "    <tr>\n",
       "      <th>32</th>\n",
       "      <td>month_sep</td>\n",
       "      <td>1.010024</td>\n",
       "    </tr>\n",
       "    <tr>\n",
       "      <th>33</th>\n",
       "      <td>poutcome_other</td>\n",
       "      <td>0.036580</td>\n",
       "    </tr>\n",
       "    <tr>\n",
       "      <th>34</th>\n",
       "      <td>poutcome_success</td>\n",
       "      <td>2.291243</td>\n",
       "    </tr>\n",
       "    <tr>\n",
       "      <th>35</th>\n",
       "      <td>poutcome_unknown</td>\n",
       "      <td>-0.121604</td>\n",
       "    </tr>\n",
       "    <tr>\n",
       "      <th>36</th>\n",
       "      <td>age</td>\n",
       "      <td>0.027336</td>\n",
       "    </tr>\n",
       "    <tr>\n",
       "      <th>37</th>\n",
       "      <td>balance</td>\n",
       "      <td>0.106788</td>\n",
       "    </tr>\n",
       "    <tr>\n",
       "      <th>38</th>\n",
       "      <td>day</td>\n",
       "      <td>0.029775</td>\n",
       "    </tr>\n",
       "    <tr>\n",
       "      <th>39</th>\n",
       "      <td>duration</td>\n",
       "      <td>1.911618</td>\n",
       "    </tr>\n",
       "    <tr>\n",
       "      <th>40</th>\n",
       "      <td>campaign</td>\n",
       "      <td>-0.243008</td>\n",
       "    </tr>\n",
       "    <tr>\n",
       "      <th>41</th>\n",
       "      <td>pdays</td>\n",
       "      <td>0.047358</td>\n",
       "    </tr>\n",
       "    <tr>\n",
       "      <th>42</th>\n",
       "      <td>previous</td>\n",
       "      <td>0.045722</td>\n",
       "    </tr>\n",
       "  </tbody>\n",
       "</table>\n",
       "</div>"
      ],
      "text/plain": [
       "              Variables  Coefficients\n",
       "0             Intercept      0.873043\n",
       "1       job_blue-collar     -0.235381\n",
       "2      job_entrepreneur     -0.312409\n",
       "3         job_housemaid     -0.407802\n",
       "4        job_management     -0.257644\n",
       "5           job_retired      0.331800\n",
       "6     job_self-employed     -0.404473\n",
       "7          job_services     -0.222309\n",
       "8           job_student      0.646595\n",
       "9        job_technician     -0.090616\n",
       "10       job_unemployed     -0.055073\n",
       "11          job_unknown     -0.531625\n",
       "12      marital_married     -0.204159\n",
       "13       marital_single      0.104806\n",
       "14  education_secondary      0.252498\n",
       "15   education_tertiary      0.551529\n",
       "16    education_unknown      0.331092\n",
       "17          default_yes      0.025180\n",
       "18          housing_yes     -0.725812\n",
       "19             loan_yes     -0.510057\n",
       "20    contact_telephone     -0.019156\n",
       "21      contact_unknown     -1.489541\n",
       "22            month_aug     -0.830371\n",
       "23            month_dec      1.202034\n",
       "24            month_feb     -0.083678\n",
       "25            month_jan     -1.026459\n",
       "26            month_jul     -0.945148\n",
       "27            month_jun      0.200640\n",
       "28            month_mar      1.886371\n",
       "29            month_may     -0.680486\n",
       "30            month_nov     -0.955799\n",
       "31            month_oct      0.997172\n",
       "32            month_sep      1.010024\n",
       "33       poutcome_other      0.036580\n",
       "34     poutcome_success      2.291243\n",
       "35     poutcome_unknown     -0.121604\n",
       "36                  age      0.027336\n",
       "37              balance      0.106788\n",
       "38                  day      0.029775\n",
       "39             duration      1.911618\n",
       "40             campaign     -0.243008\n",
       "41                pdays      0.047358\n",
       "42             previous      0.045722"
      ]
     },
     "execution_count": 19,
     "metadata": {},
     "output_type": "execute_result"
    }
   ],
   "source": [
    "final_algorithm_optimized.summary(features_names=[\"Intercept\"]+X_train.columns.tolist())"
   ]
  },
  {
   "cell_type": "markdown",
   "metadata": {},
   "source": [
    "$\\text{Target variable: deposit - whether the customer has set up a deposit: yes (1) or not (0).}$"
   ]
  },
  {
   "cell_type": "markdown",
   "metadata": {},
   "source": [
    "$\\text{Target: the customer opened a bank deposit (1) or not (0).}$<p>\n",
    "$\\text{Continuous variable: } age \\text{ – client's age.}$<p>\n",
    "$$\\beta_{age}=0.0273; \\ t=1$$\n",
    "$$e^{\\beta_{age}}=e^{0.0273}=1.027$$\n",
    "$\\text{Thus, the expected chance that an age+1 customer will open a bank deposit, in relation to the chance that an age+1 customer will open a bank deposit, is 1.027.}$<p>\n",
    "$\\text{Binary variable: } housing\\_yes \\text{ - has a mortgage (1) or not (0).}$<p>\n",
    "$$\\beta_{housing\\_yes}=-0.7258; \\ t=1$$\n",
    "$$e^{\\beta_{housing\\_yes}}=e^{-0.7258}=0.4839$$\n",
    "$\\text{Thus, the expected chance that a customer with a mortgage loan will open a bank deposit in relation to the chance that a customer without a loan will open a bank deposit is 0.4839.}$"
   ]
  },
  {
   "cell_type": "markdown",
   "metadata": {},
   "source": [
    "<h1> Multiclassification <h1>"
   ]
  },
  {
   "cell_type": "markdown",
   "metadata": {},
   "source": [
    "<h1>Preprocessing<h1>"
   ]
  },
  {
   "cell_type": "markdown",
   "metadata": {},
   "source": [
    "<h2>Download data<h2>"
   ]
  },
  {
   "cell_type": "code",
   "execution_count": 20,
   "metadata": {},
   "outputs": [
    {
     "name": "stdout",
     "output_type": "stream",
     "text": [
      "Number of observations in data: 150\n"
     ]
    },
    {
     "data": {
      "text/html": [
       "<div>\n",
       "<style scoped>\n",
       "    .dataframe tbody tr th:only-of-type {\n",
       "        vertical-align: middle;\n",
       "    }\n",
       "\n",
       "    .dataframe tbody tr th {\n",
       "        vertical-align: top;\n",
       "    }\n",
       "\n",
       "    .dataframe thead th {\n",
       "        text-align: right;\n",
       "    }\n",
       "</style>\n",
       "<table border=\"1\" class=\"dataframe\">\n",
       "  <thead>\n",
       "    <tr style=\"text-align: right;\">\n",
       "      <th></th>\n",
       "      <th>sepal length (cm)</th>\n",
       "      <th>sepal width (cm)</th>\n",
       "      <th>petal length (cm)</th>\n",
       "      <th>petal width (cm)</th>\n",
       "    </tr>\n",
       "  </thead>\n",
       "  <tbody>\n",
       "    <tr>\n",
       "      <th>0</th>\n",
       "      <td>5.1</td>\n",
       "      <td>3.5</td>\n",
       "      <td>1.4</td>\n",
       "      <td>0.2</td>\n",
       "    </tr>\n",
       "    <tr>\n",
       "      <th>1</th>\n",
       "      <td>4.9</td>\n",
       "      <td>3.0</td>\n",
       "      <td>1.4</td>\n",
       "      <td>0.2</td>\n",
       "    </tr>\n",
       "    <tr>\n",
       "      <th>2</th>\n",
       "      <td>4.7</td>\n",
       "      <td>3.2</td>\n",
       "      <td>1.3</td>\n",
       "      <td>0.2</td>\n",
       "    </tr>\n",
       "    <tr>\n",
       "      <th>3</th>\n",
       "      <td>4.6</td>\n",
       "      <td>3.1</td>\n",
       "      <td>1.5</td>\n",
       "      <td>0.2</td>\n",
       "    </tr>\n",
       "    <tr>\n",
       "      <th>4</th>\n",
       "      <td>5.0</td>\n",
       "      <td>3.6</td>\n",
       "      <td>1.4</td>\n",
       "      <td>0.2</td>\n",
       "    </tr>\n",
       "  </tbody>\n",
       "</table>\n",
       "</div>"
      ],
      "text/plain": [
       "   sepal length (cm)  sepal width (cm)  petal length (cm)  petal width (cm)\n",
       "0                5.1               3.5                1.4               0.2\n",
       "1                4.9               3.0                1.4               0.2\n",
       "2                4.7               3.2                1.3               0.2\n",
       "3                4.6               3.1                1.5               0.2\n",
       "4                5.0               3.6                1.4               0.2"
      ]
     },
     "execution_count": 20,
     "metadata": {},
     "output_type": "execute_result"
    }
   ],
   "source": [
    "from sklearn.datasets import load_iris\n",
    "X = load_iris(as_frame=True)['data']\n",
    "y = load_iris(as_frame=True)['target']\n",
    "print(\"Number of observations in data: {}\".format(len(X)))\n",
    "X.head()"
   ]
  },
  {
   "cell_type": "markdown",
   "metadata": {},
   "source": [
    "<h2>Check for null data<h2>"
   ]
  },
  {
   "cell_type": "code",
   "execution_count": 21,
   "metadata": {},
   "outputs": [
    {
     "data": {
      "text/plain": [
       "sepal length (cm)    0.0\n",
       "sepal width (cm)     0.0\n",
       "petal length (cm)    0.0\n",
       "petal width (cm)     0.0\n",
       "dtype: float64"
      ]
     },
     "execution_count": 21,
     "metadata": {},
     "output_type": "execute_result"
    }
   ],
   "source": [
    "X.isnull().sum()/len(X)"
   ]
  },
  {
   "cell_type": "markdown",
   "metadata": {},
   "source": [
    "<h2>Divide data<h2>"
   ]
  },
  {
   "cell_type": "code",
   "execution_count": 22,
   "metadata": {},
   "outputs": [],
   "source": [
    "X_train, X_test, y_train, y_test = train_test_split(X, y, shuffle=True, random_state=17, test_size=0.2)"
   ]
  },
  {
   "cell_type": "markdown",
   "metadata": {},
   "source": [
    "<h3>Scale data<h3>"
   ]
  },
  {
   "cell_type": "code",
   "execution_count": 23,
   "metadata": {},
   "outputs": [],
   "source": [
    "from sklearn.preprocessing import StandardScaler\n",
    "scaler = StandardScaler()\n",
    "X_train = scaler.fit_transform(X_train)\n",
    "X_test = scaler.fit_transform(X_test)"
   ]
  },
  {
   "cell_type": "code",
   "execution_count": 24,
   "metadata": {},
   "outputs": [],
   "source": [
    "model = Logistic_Regression(fit_intercept=True, random_state=17, learning_rate=0.1, max_iter=500)\n",
    "model.fit(X_train, y_train)\n",
    "y_pred = model.predict(X_test)\n",
    "y_prob = model.predict_proba(X_test)[:,1]"
   ]
  },
  {
   "cell_type": "markdown",
   "metadata": {},
   "source": [
    "<h1>Evaluation and Visualization<h1>"
   ]
  },
  {
   "cell_type": "code",
   "execution_count": 25,
   "metadata": {},
   "outputs": [
    {
     "name": "stdout",
     "output_type": "stream",
     "text": [
      "Accuracy score: 0.6666666666666666\n"
     ]
    }
   ],
   "source": [
    "print(\"Accuracy score: {}\".format(accuracy_score(y_test, y_pred)))"
   ]
  },
  {
   "cell_type": "markdown",
   "metadata": {},
   "source": [
    "<h3>Confussion matrix<h3>"
   ]
  },
  {
   "cell_type": "code",
   "execution_count": 26,
   "metadata": {},
   "outputs": [
    {
     "data": {
      "image/png": "[encoded data removed]"
     },
     "metadata": {},
     "output_type": "display_data"
    }
   ],
   "source": [
    "Plots_predictions.multilabel_conf_matrix(y_test, y_pred, labels=[i for i in np.unique(y_test)])"
   ]
  },
  {
   "cell_type": "markdown",
   "metadata": {},
   "source": [
    "<h1>Advantages and disadvantages of Logistic Regression<h1>"
   ]
  },
  {
   "cell_type": "markdown",
   "metadata": {},
   "source": [
    "$\\text{Advantages of Logistic Regression:}$<p>\n",
    "$\\text{- Ease of implementation and interpretation of the results obtained,}$<p>\n",
    "$\\text{- The returned values of the coefficients can give information on the significance of the variables (as long as they have similar distributions),}$<p>\n",
    "$\\text{- Short compilation time.}$<br>\n",
    "\n",
    "$\\text{Disadvantages of Logistic Regression:}$<p>\n",
    "$\\text{- With a larger number of variables, over-fitting problems arise,}$<p>\n",
    "$\\text{- The assumption of linearity between the dependent variable and the independent variables.}$"
   ]
  }
 ],
 "metadata": {
  "kernelspec": {
   "display_name": "Python 3",
   "language": "python",
   "name": "python3"
  },
  "language_info": {
   "codemirror_mode": {
    "name": "ipython",
    "version": 3
   },
   "file_extension": ".py",
   "mimetype": "text/x-python",
   "name": "python",
   "nbconvert_exporter": "python",
   "pygments_lexer": "ipython3",
   "version": "3.11.3"
  },
  "orig_nbformat": 4
 },
 "nbformat": 4,
 "nbformat_minor": 2
}
