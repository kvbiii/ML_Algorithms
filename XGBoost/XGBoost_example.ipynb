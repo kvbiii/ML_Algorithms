{
 "cells": [
  {
   "cell_type": "markdown",
   "metadata": {},
   "source": [
    "<h1>Import libraries<h1>"
   ]
  },
  {
   "cell_type": "code",
   "execution_count": 1,
   "metadata": {},
   "outputs": [],
   "source": [
    "from Model.XGBoost_Classifier_from_scratch import *\n",
    "from Model.XGBoost_Regressor_from_scratch import *\n",
    "from Model.XGBoost_optimization import *\n",
    "from Metrics.Classification_metrics import *\n",
    "from Metrics.Regression_metrics import *\n",
    "from Plots.Prediction_plots import *\n",
    "Plots_predictions = Prediction_plots()"
   ]
  },
  {
   "cell_type": "markdown",
   "metadata": {},
   "source": [
    "<h1>Explanation of XGBoost<h1>"
   ]
  },
  {
   "cell_type": "markdown",
   "metadata": {},
   "source": [
    "$\\text{XGBoost is an algorithm that can be used for both regression and classification problems.}$<p>\n",
    "$\\text{In this case, boosting consists in determining subsequent predictions taking into account the errors of previous estimators.}$<p>\n",
    "$\\text{Compared to Gradient Boosting, XGBoost additionally adds regularization to help avoid overfitting.}$"
   ]
  },
  {
   "cell_type": "markdown",
   "metadata": {},
   "source": [
    "<h2>Construction of XGBoost<h2>"
   ]
  },
  {
   "cell_type": "markdown",
   "metadata": {},
   "source": [
    "$\\text{The following scheme has been generalized to apply to both regression and classification problems.}$<p>\n",
    "$\\text{However, there are some differences between the two approaches.}$<p>\n",
    "$\\text{In the case of classification, there is an additional breakdown of the target variable using OneHotEncoding}$<p>\n",
    "$\\text{and making predictions separately for each class (similar to logistic regression).}$<p><br>\n",
    "$1. \\text{ Determining } T \\text{ - the number of estimators.}$<p><br>\n",
    "$2. \\text{ Defining the initial prediction (detailed below for regression and classification):} $\n",
    "$$Estimator_0\\left(X\\right)$$\n",
    "$3. for \\ t=1 \\ to \\ T:$<p>\n",
    "$a) \\text{ Construction of Extreme Tree as } Estimator_t.$<p>\n",
    "$b) \\text{ Train the estimator: } Estimator_t \\text{ given the true values } y_i \\text{ and the predictions of the preceding } Estimator_{t-1}\\left(X\\right).$<p>\n",
    "$c) \\text{ Make predictions: } O$<p>\n",
    "$d) \\text{ Update predictions of } Estimator_t:$\n",
    "$${Estimator}_t\\left(X\\right)=Estimator_{t-1}\\left(X_i\\right)+learning\\_rate\\times O$$"
   ]
  },
  {
   "cell_type": "markdown",
   "metadata": {},
   "source": [
    "<h2>Construction of Extreme Tree<h2>"
   ]
  },
  {
   "cell_type": "markdown",
   "metadata": {},
   "source": [
    "$\\text{The XGBoost algorithm is based on special trees (Extreme Trees), which make split decisions based on simmilarity and gain.}$<p>\n",
    "$\\text{The following formulas for classification and regression show how both measures are calculated.}$<p><br>\n",
    "$\\textbf{Determining the optimal value } O:$<p>\n",
    "$\\text{In order to find the optimal value in a leaf, we will use the following cost function:}$\n",
    "$$\\mathcal{L}=Loss\\left(y_i,{\\hat{y}}_i+O_i\\right)+\\gamma\\times leaves+\\frac{1}{2}\\times\\lambda\\times{O_i}^2$$\n",
    "$\\text{Where: } {\\hat{y}}_i \\text{ – prediction determined by the predecessor for observation } i,$<p>\n",
    "$O_i \\text{ – output value, i.e. a new prediction for observation } i, \\text{ which we will be optimizing,}$<p>\n",
    "$\\gamma \\text{ - const., the parameter responsible for pruning (the higher the value, the less developed the tree, so the smaller the variance at the expense of a larger error),}$<p>\n",
    "$leaves \\text{ - number of leaves in the tree,}$<p>\n",
    "$\\lambda \\text{ – const., L2 regularization parameter.}$<p>\n",
    "$\\text{Determining the optimal } O \\text{ value for } Loss\\left(y,\\hat{y}+O\\right) \\text{ is possible using the Second Order Taylor Approximation:}$\n",
    "$$Loss\\left(y_i,{\\hat{y}}_i+O_i\\right)\\approx L\\left(y_i,{\\hat{y}}_i\\right)+\\frac{\\partial}{\\partial{\\hat{y}}_i}\\left(L\\left(y_i,{\\hat{y}}_i\\right)\\right)\\times O_i+\\frac{1}{2}\\times\\frac{\\partial^2}{\\partial{{\\hat{y}}_i}^2}\\left(L\\left(y_i,{\\hat{y}}_i\\right)\\right)\\times{O_i}^2$$\n",
    "$\\text{For XGBoost it is customary that:}$\n",
    "$${gradient}_i=\\frac{\\partial}{\\partial{\\hat{y}}_i}\\left(L\\left(y_i,{\\hat{y}}_i\\right)\\right)$$\n",
    "$${hessian}_i=\\frac{\\partial^2}{\\partial{{\\hat{y}}_i}^2}\\left(L\\left(y_i,{\\hat{y}}_i\\right)\\right)$$\n",
    "$\\text{Thus:}$\n",
    "$$Loss\\left(y_i,{\\hat{y}}_i+O_i\\right)\\approx L\\left(y_i,{\\hat{y}}_i\\right)+{gradient}_i\\times O_i+\\frac{1 }{2}\\times{hessian}_i\\times{O_i}^2$$\n",
    "$\\text{Plugging this into the original formula, we get:}$\n",
    "$$\\mathcal{L}=L\\left(y_i,{\\hat{y}}_i\\right)+{gradient}_i\\times O_i+\\frac{1}{2}\\times{hessian}_i\\times{O_i} ^2+\\gamma\\times leaves+\\frac{1}{2}\\times\\lambda\\times{O_i}^2$$\n",
    "$\\text{So the derivative of the cost function over } O_i \\text{ is:}$\n",
    "$$\\frac{\\partial\\mathcal{L}}{\\partial O_i}={gradient}_i+\\left({hessian}_i+\\lambda\\right)\\times O_i=0$$\n",
    "$$O_i=-\\frac{{gradient}_i}{{hessian}_i+\\lambda}$$"
   ]
  },
  {
   "cell_type": "markdown",
   "metadata": {},
   "source": [
    "$\\textbf{Simmilarities:}$<p><br>\n",
    "$\\text{Knowing what the cost function } \\mathcal{L} \\text{ looks like and the optimal values, we can determine the simmilarity score by removing the } O-\\text{ independent components:}$\n",
    "$$Simmilarity=-\\left(gradient\\times O+\\frac{1}{2}\\times(hessian+\\lambda)\\times O^2\\right)=$$\n",
    "$$=-\\left(gradient\\times\\left(-\\frac{gradient}{hessian+\\lambda}\\right)+\\frac{1}{2}\\times\\left(hessian+\\lambda\\right)\\times\\left(-\\frac{gradient}{hessian+\\lambda}\\right)^2\\right)=$$\n",
    "$$=-\\left(-\\frac{gradient^2}{hessian+\\lambda}+\\frac{1}{2}\\times\\frac{gradient^2}{hessian+\\lambda}\\right)=-\\left(-\\frac{1}{2}\\times\\frac{gradient^2}{hessian+\\lambda}\\right)=$$\n",
    "$$=\\frac{1}{2}\\times\\frac{gradient^2}{hessian+\\lambda}$$"
   ]
  },
  {
   "cell_type": "markdown",
   "metadata": {},
   "source": [
    "$\\textbf{Gain:}$<p><br>\n",
    "$\\text{We will verify potential splits using gain:}$\n",
    "$$Gain=Simmilarity\\_left+Simmilarity\\_right-Simmilarity\\_root$$\n",
    "$\\text{If the Gain value is greater than the Gain from the previous split, the tree will be expanded.}$"
   ]
  },
  {
   "cell_type": "markdown",
   "metadata": {},
   "source": [
    "$\\textbf{Splitting nodes:}$<p><br>\n",
    "$\\text{Even before we start calculating similarity or gain, we should determine the values for which we will verify potential divisions.}$<p>\n",
    "$\\text{For large datasets, XGBoost uses a Weighted Quantile Sketch to speed up training time.}$<p>\n",
    "$\\text{Instead of going through each point, XGBoost uses Hessian and buckets for each variable to determine the split points.}$<p><br>\n",
    "$1. \\text{ For the variable } m \\text{ (which we are currently considering), we create the set: }$\n",
    "$$\\left\\{\\left(x_{1,m},h_1\\right),\\ \\left(x_{2,m},h_2\\right),\\ldots,\\left(x_{N,m},h_N\\right)\\right\\}$$\n",
    "$\\text{Where: } h_i \\text{ - hessian for observation } i,$<p><br>\n",
    "$2. \\text{ We sort the set (in ascending order) by } X_m.$<p><br>\n",
    "$3. \\text{ We create ranks for each observation of variable } m:$\n",
    "$$r_m\\left(z\\right)=\\frac{\\sum_{(x,h)\\in D_m,\\ x<z}{hessian_i}}{\\sum_{(x,h)\\in D_m}{hessian_i}}$$\n",
    "$4. \\text{ The ranks that will be selected must meet the following inequality:}$\n",
    "$$\\left|r_m\\left(x_{m,\\ j}\\right)-r_m\\left(x_{m,j+1}\\right)\\right|<\\varepsilon$$\n",
    "$\\text{Where: } \\varepsilon \\text{ -const.}$<p><br>\n",
    "$5. \\text{ Then the interpolation value will be the \"midpoint\":}$\n",
    "$$interpolation\\_value=\\frac{x_{m,\\ j}+x_{m,j+1}}{2}$$\n",
    "$\\text{Notice then that the above algorithm not only takes into account the nominal difference between the values,}$<p>\n",
    "$\\text{but also assigns higher weights to the observations whose hessian (that is, the slope of the loss function) is higher.}$<p>\n",
    "$\\text{In addition, the above method guarantees us that if there are few values left in the node,}$<p>\n",
    "$\\text{no } interpolation\\_value \\text{ will probably be created (thus preventing overfitting).}$"
   ]
  },
  {
   "cell_type": "markdown",
   "metadata": {},
   "source": [
    "<h2>Classification<h2>"
   ]
  },
  {
   "cell_type": "markdown",
   "metadata": {},
   "source": [
    "$\\textbf{Loss function:}$<p><br>\n",
    "$$log\\_loss=-\\frac{1}{N}\\times\\sum_{i=1}^{N}{y_i\\times\\ln({\\hat{p}}_i)+\\left(1-y_i\\right)\\times\\ln(1-{\\hat{p}}_i)}$$\n",
    "$\\text{Where: } N \\text{ - number of observations,}$<p>\n",
    "$y_i \\text{ – value of the dependent variable for observation } i,$<p>\n",
    "${\\hat{p}}_i \\text{ – the probability of a class that is equivalent to } y_i.$<p>\n",
    "$\\text{However, to find the probability: } \\hat{p}\\ \\text{ we first need to know the value of } \\hat{y}.$<p>\n",
    "$\\text{With XGBoost, each prediction is equivalent to the log of \"odds\" - } log\\_odds.$<p>\n",
    "$\\text{The conversion of } log\\_odds \\text{ into probability is given by the following formula:}$\n",
    "$${\\hat{p}}_i=\\frac{1}{1+e^{-log\\_odds}}=\\frac{1}{1+e^{-{\\hat{y}}_i}}$$\n",
    "$\\text{Same as for Gradient Boosting, we can write the loss functions as:}$\n",
    "$$log{\\_loss}=-\\frac{1}{N}\\times\\sum_{i=1}^{N}\\left(y_i\\times\\ln{\\left({\\hat{p}}_i\\right)}+\\ln{\\left(1-{\\hat{p}}_i\\right)}-y_i\\times\\ln{\\left(1-{\\hat{p}}_i\\right)}\\right)=$$\n",
    "$$=-\\frac{1}{N}\\times\\sum_{i=1}^{N}\\left(y_i\\times{\\hat{y}}_i-\\ln{\\left(1+e^{{\\hat{y}}_i}\\right)}\\right)$$\n",
    "$${gradient}_i=\\frac{\\partial}{\\partial{\\hat{y}}_i}\\left(log\\_loss\\left(y_i,{\\hat{y}}_i\\right)\\right)=$$\n",
    "$${hessian}_i=\\frac{\\partial^2}{\\partial{{\\hat{y}}_i}^2}\\left(log\\_loss\\left(y_i,{\\hat{y}}_i\\right)\\right)=\\frac{e^{-{\\hat{y}}_i}}{\\left(1+e^{-{\\hat{y}}_i}\\right)^2}=\\frac{1}{1+e^{-{\\hat{y}}_i}}\\times\\frac{1}{1+e^{{\\hat{y}}_i}}$$\n",
    "$\\textbf{Initial value:}$<p><br>\n",
    "$$Estimator_0\\left(X\\right)=-\\ln{\\left(\\frac{N-\\sum_{i\\in k l a s a} y_i}{\\sum_{i\\in k l a s a} y_i}\\right)}$$\n",
    "$\\textbf{Simmilarity:}$<p><br>\n",
    "$\\text{In total (in case many values went to the leaf):}$\n",
    "$$Simmilarity=\\frac{1}{2}\\times\\frac{gradient^2}{hessian+\\lambda}=\\frac{1}{2}\\times\\frac{\\left(\\sum_{i\\in l e a f\\_node}{-\\left(y_i-\\frac{1}{1+e^{-{\\hat{y}}_i}}\\right)}\\right)^2}{\\sum_{i\\in l e a f\\_node}\\left(\\frac{1}{1+e^{-{\\hat{y}}_i}}\\times\\frac{1}{1+e^{{\\hat{y}}_i}}\\right)+\\lambda}$$\n",
    "$\\textbf{Determing the optimal value } O:$<p><br>\n",
    "$$O=-\\frac{gradient}{hessian+\\lambda}=-\\frac{\\sum_{i\\in l e a f\\_node}{-\\left(y_i-\\frac{1}{1+e^{-{\\hat{y}}_i}}\\right)}}{\\sum_{i\\in l e a f\\_node}\\left(\\frac{1}{1+e^{-{\\hat{y}}_i}}\\times\\frac{1}{1+e^{{\\hat{y}}_i}}\\right)+\\lambda}=$$\n",
    "$$=\\frac{\\sum_{i\\in l e a f\\_node}\\left(y_i-\\frac{1}{1+e^{-{\\hat{y}}_i}}\\right)}{\\sum_{i\\in l e a f\\_node}\\left(\\frac{1}{1+e^{-{\\hat{y}}_i}}\\times\\frac{1}{1+e^{{\\hat{y}}_i}}\\right)+\\lambda}$$\n",
    "$\\text{Where: } N_{leaf\\_node} \\text{ – the number of observations that fell into a given leaf.}$"
   ]
  },
  {
   "cell_type": "markdown",
   "metadata": {},
   "source": [
    "<h2>Important parameters<h2>"
   ]
  },
  {
   "cell_type": "markdown",
   "metadata": {},
   "source": [
    "$\\text{In the case of XGBoost, an important parameter is } min\\_child\\_weight, \\text{ which is responsible for the minimum acceptable value that Cover must take, i.e. the denominator without } \\lambda:$\n",
    "$$Cover=\\begin{cases}\n",
    "               \\sum_{i\\in l e a f\\_node}\\left(\\frac{1}{1+e^{-{\\hat{y}}_i}}\\times\\frac{1}{1+e^{{\\hat{y}}_i}}\\right)\\rightarrow Classification \\\\ \n",
    "                N_{leaf\\_node}\\rightarrow Regression\n",
    "               \\end{cases}$$\n",
    "$\\text{The split will take place if: }$\n",
    "$$Cover\\_left\\geq min\\_child\\_weight\\land Cover\\_right\\geq min\\_child\\_weight$$\n",
    "$\\text{While in the case of regression this will always be true because } N_{leaf\\_node}\\geq1, \\text{ for classification this parameter prevents ovefitting by not allowing splits that slightly divide the data.}$<p><br>\n",
    "$\\text{The } \\gamma \\text{ parameter will be responsible for pruning the resulting branch if:}$\n",
    "$$Gain<\\gamma$$"
   ]
  },
  {
   "cell_type": "markdown",
   "metadata": {},
   "source": [
    "<h1>Preprocessing<h1>"
   ]
  },
  {
   "cell_type": "markdown",
   "metadata": {},
   "source": [
    "<h2>Download data<h2>"
   ]
  },
  {
   "cell_type": "code",
   "execution_count": 2,
   "metadata": {},
   "outputs": [],
   "source": [
    "data = pd.read_csv(\"Data/bank-balanced.csv\")\n",
    "X = data.drop(\"deposit\", axis=1)\n",
    "y = data[\"deposit\"]"
   ]
  },
  {
   "cell_type": "code",
   "execution_count": 3,
   "metadata": {},
   "outputs": [
    {
     "name": "stdout",
     "output_type": "stream",
     "text": [
      "Number of observations in data: 11162\n"
     ]
    },
    {
     "data": {
      "text/html": [
       "<div>\n",
       "<style scoped>\n",
       "    .dataframe tbody tr th:only-of-type {\n",
       "        vertical-align: middle;\n",
       "    }\n",
       "\n",
       "    .dataframe tbody tr th {\n",
       "        vertical-align: top;\n",
       "    }\n",
       "\n",
       "    .dataframe thead th {\n",
       "        text-align: right;\n",
       "    }\n",
       "</style>\n",
       "<table border=\"1\" class=\"dataframe\">\n",
       "  <thead>\n",
       "    <tr style=\"text-align: right;\">\n",
       "      <th></th>\n",
       "      <th>age</th>\n",
       "      <th>job</th>\n",
       "      <th>marital</th>\n",
       "      <th>education</th>\n",
       "      <th>default</th>\n",
       "      <th>balance</th>\n",
       "      <th>housing</th>\n",
       "      <th>loan</th>\n",
       "      <th>contact</th>\n",
       "      <th>day</th>\n",
       "      <th>month</th>\n",
       "      <th>duration</th>\n",
       "      <th>campaign</th>\n",
       "      <th>pdays</th>\n",
       "      <th>previous</th>\n",
       "      <th>poutcome</th>\n",
       "      <th>deposit</th>\n",
       "    </tr>\n",
       "  </thead>\n",
       "  <tbody>\n",
       "    <tr>\n",
       "      <th>0</th>\n",
       "      <td>59</td>\n",
       "      <td>admin.</td>\n",
       "      <td>married</td>\n",
       "      <td>secondary</td>\n",
       "      <td>no</td>\n",
       "      <td>2343</td>\n",
       "      <td>yes</td>\n",
       "      <td>no</td>\n",
       "      <td>unknown</td>\n",
       "      <td>5</td>\n",
       "      <td>may</td>\n",
       "      <td>1042</td>\n",
       "      <td>1</td>\n",
       "      <td>-1</td>\n",
       "      <td>0</td>\n",
       "      <td>unknown</td>\n",
       "      <td>yes</td>\n",
       "    </tr>\n",
       "    <tr>\n",
       "      <th>1</th>\n",
       "      <td>56</td>\n",
       "      <td>admin.</td>\n",
       "      <td>married</td>\n",
       "      <td>secondary</td>\n",
       "      <td>no</td>\n",
       "      <td>45</td>\n",
       "      <td>no</td>\n",
       "      <td>no</td>\n",
       "      <td>unknown</td>\n",
       "      <td>5</td>\n",
       "      <td>may</td>\n",
       "      <td>1467</td>\n",
       "      <td>1</td>\n",
       "      <td>-1</td>\n",
       "      <td>0</td>\n",
       "      <td>unknown</td>\n",
       "      <td>yes</td>\n",
       "    </tr>\n",
       "    <tr>\n",
       "      <th>2</th>\n",
       "      <td>41</td>\n",
       "      <td>technician</td>\n",
       "      <td>married</td>\n",
       "      <td>secondary</td>\n",
       "      <td>no</td>\n",
       "      <td>1270</td>\n",
       "      <td>yes</td>\n",
       "      <td>no</td>\n",
       "      <td>unknown</td>\n",
       "      <td>5</td>\n",
       "      <td>may</td>\n",
       "      <td>1389</td>\n",
       "      <td>1</td>\n",
       "      <td>-1</td>\n",
       "      <td>0</td>\n",
       "      <td>unknown</td>\n",
       "      <td>yes</td>\n",
       "    </tr>\n",
       "    <tr>\n",
       "      <th>3</th>\n",
       "      <td>55</td>\n",
       "      <td>services</td>\n",
       "      <td>married</td>\n",
       "      <td>secondary</td>\n",
       "      <td>no</td>\n",
       "      <td>2476</td>\n",
       "      <td>yes</td>\n",
       "      <td>no</td>\n",
       "      <td>unknown</td>\n",
       "      <td>5</td>\n",
       "      <td>may</td>\n",
       "      <td>579</td>\n",
       "      <td>1</td>\n",
       "      <td>-1</td>\n",
       "      <td>0</td>\n",
       "      <td>unknown</td>\n",
       "      <td>yes</td>\n",
       "    </tr>\n",
       "    <tr>\n",
       "      <th>4</th>\n",
       "      <td>54</td>\n",
       "      <td>admin.</td>\n",
       "      <td>married</td>\n",
       "      <td>tertiary</td>\n",
       "      <td>no</td>\n",
       "      <td>184</td>\n",
       "      <td>no</td>\n",
       "      <td>no</td>\n",
       "      <td>unknown</td>\n",
       "      <td>5</td>\n",
       "      <td>may</td>\n",
       "      <td>673</td>\n",
       "      <td>2</td>\n",
       "      <td>-1</td>\n",
       "      <td>0</td>\n",
       "      <td>unknown</td>\n",
       "      <td>yes</td>\n",
       "    </tr>\n",
       "  </tbody>\n",
       "</table>\n",
       "</div>"
      ],
      "text/plain": [
       "   age         job  marital  education default  balance housing loan  contact  \\\n",
       "0   59      admin.  married  secondary      no     2343     yes   no  unknown   \n",
       "1   56      admin.  married  secondary      no       45      no   no  unknown   \n",
       "2   41  technician  married  secondary      no     1270     yes   no  unknown   \n",
       "3   55    services  married  secondary      no     2476     yes   no  unknown   \n",
       "4   54      admin.  married   tertiary      no      184      no   no  unknown   \n",
       "\n",
       "   day month  duration  campaign  pdays  previous poutcome deposit  \n",
       "0    5   may      1042         1     -1         0  unknown     yes  \n",
       "1    5   may      1467         1     -1         0  unknown     yes  \n",
       "2    5   may      1389         1     -1         0  unknown     yes  \n",
       "3    5   may       579         1     -1         0  unknown     yes  \n",
       "4    5   may       673         2     -1         0  unknown     yes  "
      ]
     },
     "execution_count": 3,
     "metadata": {},
     "output_type": "execute_result"
    }
   ],
   "source": [
    "print(\"Number of observations in data: {}\".format(len(data)))\n",
    "data.head()"
   ]
  },
  {
   "cell_type": "markdown",
   "metadata": {},
   "source": [
    "<h2>Check for null data<h2>"
   ]
  },
  {
   "cell_type": "code",
   "execution_count": 4,
   "metadata": {},
   "outputs": [
    {
     "data": {
      "text/plain": [
       "age          0.0\n",
       "job          0.0\n",
       "marital      0.0\n",
       "education    0.0\n",
       "default      0.0\n",
       "balance      0.0\n",
       "housing      0.0\n",
       "loan         0.0\n",
       "contact      0.0\n",
       "day          0.0\n",
       "month        0.0\n",
       "duration     0.0\n",
       "campaign     0.0\n",
       "pdays        0.0\n",
       "previous     0.0\n",
       "poutcome     0.0\n",
       "deposit      0.0\n",
       "dtype: float64"
      ]
     },
     "execution_count": 4,
     "metadata": {},
     "output_type": "execute_result"
    }
   ],
   "source": [
    "data.isnull().sum()/len(data)"
   ]
  },
  {
   "cell_type": "markdown",
   "metadata": {},
   "source": [
    "<h2>Convert object to numeric<h2>"
   ]
  },
  {
   "cell_type": "markdown",
   "metadata": {},
   "source": [
    "$\\text{For XGBoost we have to convert object/string features to numeric.}$<p>\n",
    "$\\text{For XGBoost, the best option would be to use OridinalEncoding instead of OneHotEncoding because of that algorithm's problem with the curse of dimensionality}$"
   ]
  },
  {
   "cell_type": "code",
   "execution_count": 5,
   "metadata": {},
   "outputs": [],
   "source": [
    "list_of_object_features_classification = data.select_dtypes(include=\"object\").columns.tolist()\n",
    "list_of_numeric_features_classification = data.select_dtypes(exclude=\"object\").columns.tolist()\n",
    "encoder = OrdinalEncoder()\n",
    "data[list_of_object_features_classification] = encoder.fit_transform(data[list_of_object_features_classification])"
   ]
  },
  {
   "cell_type": "markdown",
   "metadata": {},
   "source": [
    "<h2>Divide our data into train and test sets<h2>"
   ]
  },
  {
   "cell_type": "code",
   "execution_count": 6,
   "metadata": {},
   "outputs": [],
   "source": [
    "target_binary = \"deposit\"\n",
    "X = data.drop(target_binary, axis=1)\n",
    "y = data[[target_binary]]\n",
    "X_train, X_test, y_train, y_test = train_test_split(X, y, shuffle=True, random_state=17, test_size=0.2)"
   ]
  },
  {
   "cell_type": "markdown",
   "metadata": {},
   "source": [
    "$\\text{The huge advantage of XGBoost compared to other popular algorithms is that there is no need to scale the data.}$"
   ]
  },
  {
   "cell_type": "markdown",
   "metadata": {},
   "source": [
    "<h1>Modelling<h1>"
   ]
  },
  {
   "cell_type": "markdown",
   "metadata": {},
   "source": [
    "$\\text{To verify how well our algorithms are able to perform, a cross-validation will be used on the training set (in order to average the results obtained).}$<p>\n",
    "$\\text{Then we will check whether the algorithms will perform equally well (or even better) on the test data.}$"
   ]
  },
  {
   "cell_type": "code",
   "execution_count": 7,
   "metadata": {},
   "outputs": [],
   "source": [
    "class Cross_Validation():\n",
    "    def __init__(self, metric, algorithm_instance, cross_validation_instance):\n",
    "        metrics = {\"accuracy\": [lambda y, y_pred: accuracy_score(y, y_pred), \"preds\"],\n",
    "                    \"roc_auc\": [lambda y, y_pred: roc_auc_score(y, y_pred), \"probs\"],\n",
    "                    \"mse\": [lambda y, y_pred: mean_squared_error(y, y_pred), \"preds\"],\n",
    "                    \"rmse\": [lambda y, y_pred: mean_squared_error(y, y_pred)**0.5, \"preds\"],\n",
    "                    \"mae\": [lambda y, y_pred: mean_absolute_error(y, y_pred), \"preds\"]}\n",
    "        if metric not in metrics:\n",
    "            raise ValueError('Unsupported metric: {}'.format(metric))\n",
    "        self.eval_metric = metrics[metric][0]\n",
    "        self.metric_type = metrics[metric][1]\n",
    "        self.algorithm = algorithm_instance\n",
    "        self.cv = cross_validation_instance\n",
    "    \n",
    "    def fit(self, X, y, verbose=False):\n",
    "        X = self.check_X(X=X)\n",
    "        y = self.check_y(y=y)\n",
    "        self.train_scores, self.valid_scores = [], []\n",
    "        for iter, (train_idx, valid_idx) in enumerate(self.cv.split(X, y)):\n",
    "            X_train, X_valid = X[train_idx, :], X[valid_idx, :]\n",
    "            y_train, y_valid = y[train_idx], y[valid_idx]\n",
    "            self.algorithm.fit(X_train, y_train)\n",
    "            if(self.metric_type == \"preds\"):\n",
    "                y_train_pred = self.algorithm.predict(X_train)\n",
    "                y_valid_pred = self.algorithm.predict(X_valid)\n",
    "            else:\n",
    "                y_train_pred = self.algorithm.predict_proba(X_train)[:, 1]\n",
    "                y_valid_pred = self.algorithm.predict_proba(X_valid)[:, 1]\n",
    "            self.train_scores.append(self.eval_metric(y_train, y_train_pred))\n",
    "            self.valid_scores.append(self.eval_metric(y_valid, y_valid_pred))\n",
    "            if(verbose == True):\n",
    "                print(\"Iter {}: train scores: {}; valid scores: {}\".format(iter, np.round(self.eval_metric(y_train, y_train_pred), 5), np.round(self.eval_metric(y_valid, y_valid_pred), 5)))\n",
    "        return np.mean(self.train_scores), np.mean(self.valid_scores)\n",
    "    \n",
    "    def check_X(self, X):\n",
    "        if not isinstance(X, pd.DataFrame) and not isinstance(X, np.ndarray) and not torch.is_tensor(X):\n",
    "            raise TypeError('Wrong type of X. It should be dataframe, numpy array or torch tensor.')\n",
    "        X = np.array(X)\n",
    "        if(X.ndim == 1):\n",
    "            X = X[None, :]\n",
    "        return X\n",
    "    \n",
    "    def check_y(self, y):\n",
    "        if not isinstance(y, pd.DataFrame) and not isinstance(y, pd.Series) and not isinstance(y, np.ndarray) and not torch.is_tensor(y):\n",
    "            raise TypeError('Wrong type of y. It should be pandas DataFrame, pandas Series, numpy array or torch tensor.')\n",
    "        y = np.array(y)\n",
    "        if(y.ndim == 2):\n",
    "            y = y.squeeze()\n",
    "        return y"
   ]
  },
  {
   "cell_type": "code",
   "execution_count": 8,
   "metadata": {},
   "outputs": [
    {
     "name": "stdout",
     "output_type": "stream",
     "text": [
      "Iter 0: train scores: 0.93618; valid scores: 0.92059\n",
      "Iter 1: train scores: 0.93667; valid scores: 0.91982\n",
      "Iter 2: train scores: 0.93534; valid scores: 0.92063\n",
      "Iter 3: train scores: 0.93765; valid scores: 0.90934\n",
      "Iter 4: train scores: 0.93429; valid scores: 0.92204\n",
      "Mean of train scores: 0.93603; Mean of valid scores: 0.91848\n"
     ]
    }
   ],
   "source": [
    "model = XGBoost_Classifier(n_estimators=50, learning_rate=0.5, reg_lambda=1, gamma=0, max_depth=3, colsample_bytree=1.0, subsample=1, min_child_weight=1, random_state=17)\n",
    "CV = Cross_Validation(metric=\"roc_auc\", algorithm_instance=model, cross_validation_instance=KFold(n_splits=5, shuffle=True, random_state=17))\n",
    "mean_of_train_scores, mean_of_valid_scores = CV.fit(X=X_train, y=y_train, verbose=True)\n",
    "print(\"Mean of train scores: {}; Mean of valid scores: {}\".format(np.round(mean_of_train_scores, 5), np.round(mean_of_valid_scores, 5)))"
   ]
  },
  {
   "cell_type": "markdown",
   "metadata": {},
   "source": [
    "$\\text{As we can see our algorithm performs quite well on training and validation dataset.}$"
   ]
  },
  {
   "cell_type": "markdown",
   "metadata": {},
   "source": [
    "$\\text{Check the results for original test dataset.}$"
   ]
  },
  {
   "cell_type": "code",
   "execution_count": 9,
   "metadata": {},
   "outputs": [
    {
     "name": "stdout",
     "output_type": "stream",
     "text": [
      "XGBoost Classifier: Train: 0.9335; Test: 0.9206\n"
     ]
    }
   ],
   "source": [
    "model = XGBoost_Classifier(n_estimators=50, learning_rate=0.5, reg_lambda=1, gamma=0, max_depth=3, colsample_bytree=1.0, subsample=1, min_child_weight=1, random_state=17)\n",
    "model.fit(X_train, y_train)\n",
    "y_prob_train = model.predict_proba(X_train)[:,1]\n",
    "y_prob_test = model.predict_proba(X_test)[:,1]\n",
    "print(\"XGBoost Classifier: Train: {}; Test: {}\".format(np.round(roc_auc_score(y_train, y_prob_train), 4), np.round(roc_auc_score(y_test, y_prob_test), 4)))"
   ]
  },
  {
   "cell_type": "markdown",
   "metadata": {},
   "source": [
    "$\\text{Write down predictions for the future}$"
   ]
  },
  {
   "cell_type": "code",
   "execution_count": 10,
   "metadata": {},
   "outputs": [],
   "source": [
    "base_predictions = model.predict(X_test)\n",
    "base_probabilities = model.predict_proba(X_test)[:, 1]"
   ]
  },
  {
   "cell_type": "markdown",
   "metadata": {},
   "source": [
    "$\\text{We will try to tune hyperparameters to see whether we can improve accuracy.}$<p>\n",
    "$\\text{To perform optimization we will use original XGBoost just because of faster compilation time.}$"
   ]
  },
  {
   "cell_type": "markdown",
   "metadata": {},
   "source": [
    "<h1>Optimization<h1>"
   ]
  },
  {
   "cell_type": "markdown",
   "metadata": {},
   "source": [
    "$\\text{Let's start tuning with } n\\_estimators \\text{ parameter.}$<p>\n",
    "$n\\_estimators \\ [int] \\text{: specifying the number of trees used in building the forest.}$<p>\n",
    "$\\text{A larger number of trees reduces the likelihood of overfitting (better averaging/more models considered for voting)}$<p>\n",
    "$\\text{On the other hand, larger number of trees leads to more models to train, i.e. longer compilation time.}$<p>\n",
    "$\\text{As a rule, a value of 100 should be sufficient, but an optimal value can be found through cross-validation.}$"
   ]
  },
  {
   "cell_type": "code",
   "execution_count": 11,
   "metadata": {},
   "outputs": [
    {
     "name": "stdout",
     "output_type": "stream",
     "text": [
      "n_estimators: 10; Mean of train scores: 0.94194; Mean of valid scores: 0.91064\n",
      "n_estimators: 30; Mean of train scores: 0.97237; Mean of valid scores: 0.92019\n",
      "n_estimators: 50; Mean of train scores: 0.98483; Mean of valid scores: 0.91982\n",
      "n_estimators: 70; Mean of train scores: 0.99169; Mean of valid scores: 0.92023\n",
      "n_estimators: 90; Mean of train scores: 0.9954; Mean of valid scores: 0.92033\n",
      "n_estimators: 110; Mean of train scores: 0.99763; Mean of valid scores: 0.91984\n",
      "n_estimators: 130; Mean of train scores: 0.99879; Mean of valid scores: 0.91946\n",
      "n_estimators: 150; Mean of train scores: 0.99938; Mean of valid scores: 0.91903\n",
      "n_estimators: 170; Mean of train scores: 0.9997; Mean of valid scores: 0.91913\n",
      "n_estimators: 190; Mean of train scores: 0.99986; Mean of valid scores: 0.91941\n"
     ]
    }
   ],
   "source": [
    "model = XGBClassifier(random_state=17, n_jobs=-1)\n",
    "CV = Cross_Validation_XGB_optimization(metric=\"roc_auc\", algorithm_instance=model, cross_validation_instance=KFold(n_splits=5, shuffle=True, random_state=17))\n",
    "for n_estimators in range(10, 200, 20):\n",
    "    mean_of_train_scores, mean_of_valid_scores = CV.fit(X=X_train, y=y_train, verbose=False, n_estimators=n_estimators)\n",
    "    print(\"n_estimators: {}; Mean of train scores: {}; Mean of valid scores: {}\".format(n_estimators, np.round(mean_of_train_scores, 5), np.round(mean_of_valid_scores, 5)))"
   ]
  },
  {
   "cell_type": "markdown",
   "metadata": {},
   "source": [
    "$\\text{We see that as we increase the number of estimators in the Gradient Boosting, our algorithm gets better results.}$<p>\n",
    "$\\text{However, from the level of } n\\_estimators \\approx 80 \\text{ we can see a exacerbation, for this reason value of 80 will be used in further optimization.}$"
   ]
  },
  {
   "cell_type": "markdown",
   "metadata": {},
   "source": [
    "$learning\\_rate \\ [float]: \\text{ controls the loss function used for calculating the weight of the estimators.}$"
   ]
  },
  {
   "cell_type": "code",
   "execution_count": 12,
   "metadata": {},
   "outputs": [
    {
     "name": "stdout",
     "output_type": "stream",
     "text": [
      "learning_rate: 0.01; Mean of train scores: 0.9199; Mean of valid scores: 0.8972\n",
      "learning_rate: 0.045; Mean of train scores: 0.94939; Mean of valid scores: 0.91409\n",
      "learning_rate: 0.07999999999999999; Mean of train scores: 0.96556; Mean of valid scores: 0.91985\n",
      "learning_rate: 0.11499999999999998; Mean of train scores: 0.9746; Mean of valid scores: 0.9213\n",
      "learning_rate: 0.15; Mean of train scores: 0.98061; Mean of valid scores: 0.92159\n",
      "learning_rate: 0.185; Mean of train scores: 0.9844; Mean of valid scores: 0.92131\n",
      "learning_rate: 0.21999999999999997; Mean of train scores: 0.98832; Mean of valid scores: 0.92026\n",
      "learning_rate: 0.25499999999999995; Mean of train scores: 0.99127; Mean of valid scores: 0.92014\n",
      "learning_rate: 0.29; Mean of train scores: 0.993; Mean of valid scores: 0.92026\n",
      "learning_rate: 0.32499999999999996; Mean of train scores: 0.99489; Mean of valid scores: 0.9198\n",
      "learning_rate: 0.36; Mean of train scores: 0.99665; Mean of valid scores: 0.91862\n",
      "learning_rate: 0.39499999999999996; Mean of train scores: 0.99714; Mean of valid scores: 0.9193\n",
      "learning_rate: 0.42999999999999994; Mean of train scores: 0.99767; Mean of valid scores: 0.92044\n",
      "learning_rate: 0.46499999999999997; Mean of train scores: 0.99861; Mean of valid scores: 0.91518\n",
      "learning_rate: 0.5; Mean of train scores: 0.99895; Mean of valid scores: 0.91583\n"
     ]
    }
   ],
   "source": [
    "model = XGBClassifier(random_state=17, n_jobs=-1, n_estimators=80)\n",
    "CV = Cross_Validation_XGB_optimization(metric=\"roc_auc\", algorithm_instance=model, cross_validation_instance=KFold(n_splits=5, shuffle=True, random_state=17))\n",
    "for learning_rate in np.linspace(0.01, 0.5, 15):\n",
    "    mean_of_train_scores, mean_of_valid_scores = CV.fit(X=X_train, y=y_train, verbose=False, learning_rate=learning_rate)\n",
    "    print(\"learning_rate: {}; Mean of train scores: {}; Mean of valid scores: {}\".format(learning_rate, np.round(mean_of_train_scores, 5), np.round(mean_of_valid_scores, 5)))"
   ]
  },
  {
   "cell_type": "markdown",
   "metadata": {},
   "source": [
    "$\\text{Best results are obtained for } learning\\_rate \\approx 0.15$"
   ]
  },
  {
   "cell_type": "markdown",
   "metadata": {},
   "source": [
    "$\\lambda \\ [float]: \\text{L2 regularization.}$<p>\n",
    "$\\text{Higher values should lead to smaller trees due to decreasment in Simmilarity, and therefore in Gain.}$"
   ]
  },
  {
   "cell_type": "code",
   "execution_count": 13,
   "metadata": {},
   "outputs": [
    {
     "name": "stdout",
     "output_type": "stream",
     "text": [
      "reg_lambda: 0.1; Mean of train scores: 0.98413; Mean of valid scores: 0.92157\n",
      "reg_lambda: 0.8071428571428572; Mean of train scores: 0.98169; Mean of valid scores: 0.9225\n",
      "reg_lambda: 1.5142857142857145; Mean of train scores: 0.97817; Mean of valid scores: 0.92107\n",
      "reg_lambda: 2.2214285714285715; Mean of train scores: 0.97637; Mean of valid scores: 0.92312\n",
      "reg_lambda: 2.928571428571429; Mean of train scores: 0.97535; Mean of valid scores: 0.92312\n",
      "reg_lambda: 3.635714285714286; Mean of train scores: 0.97415; Mean of valid scores: 0.92209\n",
      "reg_lambda: 4.3428571428571425; Mean of train scores: 0.97263; Mean of valid scores: 0.92349\n",
      "reg_lambda: 5.05; Mean of train scores: 0.97111; Mean of valid scores: 0.92262\n",
      "reg_lambda: 5.757142857142857; Mean of train scores: 0.971; Mean of valid scores: 0.92352\n",
      "reg_lambda: 6.464285714285714; Mean of train scores: 0.96936; Mean of valid scores: 0.92305\n",
      "reg_lambda: 7.171428571428572; Mean of train scores: 0.96864; Mean of valid scores: 0.9238\n",
      "reg_lambda: 7.878571428571429; Mean of train scores: 0.96772; Mean of valid scores: 0.92278\n",
      "reg_lambda: 8.585714285714285; Mean of train scores: 0.96824; Mean of valid scores: 0.92289\n",
      "reg_lambda: 9.292857142857143; Mean of train scores: 0.96732; Mean of valid scores: 0.92357\n",
      "reg_lambda: 10.0; Mean of train scores: 0.96563; Mean of valid scores: 0.92324\n"
     ]
    }
   ],
   "source": [
    "model = XGBClassifier(random_state=17, n_jobs=-1, n_estimators=80, learning_rate=0.15)\n",
    "CV = Cross_Validation_XGB_optimization(metric=\"roc_auc\", algorithm_instance=model, cross_validation_instance=KFold(n_splits=5, shuffle=True, random_state=17))\n",
    "for reg_lambda in np.linspace(0.1, 10, 15):\n",
    "    mean_of_train_scores, mean_of_valid_scores = CV.fit(X=X_train, y=y_train, verbose=False, reg_lambda=reg_lambda)\n",
    "    print(\"reg_lambda: {}; Mean of train scores: {}; Mean of valid scores: {}\".format(reg_lambda, np.round(mean_of_train_scores, 5), np.round(mean_of_valid_scores, 5)))"
   ]
  },
  {
   "cell_type": "markdown",
   "metadata": {},
   "source": [
    "$\\text{Best valid scores are obtained for } \\lambda \\approx 7.2$"
   ]
  },
  {
   "cell_type": "markdown",
   "metadata": {},
   "source": [
    "$\\gamma \\ [float]: \\text{ specifies the minimum Gain to make a split.}$<p>\n",
    "$\\text{Higher values should lead to smaller trees and more conservative algorithm.}$"
   ]
  },
  {
   "cell_type": "code",
   "execution_count": 14,
   "metadata": {},
   "outputs": [
    {
     "name": "stdout",
     "output_type": "stream",
     "text": [
      "gamma: 0.1; Mean of train scores: 0.96861; Mean of valid scores: 0.92345\n",
      "gamma: 0.30714285714285716; Mean of train scores: 0.96962; Mean of valid scores: 0.92345\n",
      "gamma: 0.5142857142857142; Mean of train scores: 0.96848; Mean of valid scores: 0.92305\n",
      "gamma: 0.7214285714285714; Mean of train scores: 0.96779; Mean of valid scores: 0.92315\n",
      "gamma: 0.9285714285714285; Mean of train scores: 0.96778; Mean of valid scores: 0.92269\n",
      "gamma: 1.1357142857142857; Mean of train scores: 0.96717; Mean of valid scores: 0.92399\n",
      "gamma: 1.342857142857143; Mean of train scores: 0.96562; Mean of valid scores: 0.92461\n",
      "gamma: 1.55; Mean of train scores: 0.96479; Mean of valid scores: 0.92368\n",
      "gamma: 1.7571428571428571; Mean of train scores: 0.9629; Mean of valid scores: 0.924\n",
      "gamma: 1.9642857142857142; Mean of train scores: 0.96131; Mean of valid scores: 0.92323\n",
      "gamma: 2.1714285714285713; Mean of train scores: 0.95921; Mean of valid scores: 0.92483\n",
      "gamma: 2.3785714285714286; Mean of train scores: 0.95783; Mean of valid scores: 0.92409\n",
      "gamma: 2.585714285714286; Mean of train scores: 0.95609; Mean of valid scores: 0.92417\n",
      "gamma: 2.7928571428571427; Mean of train scores: 0.95274; Mean of valid scores: 0.92307\n",
      "gamma: 3.0; Mean of train scores: 0.95212; Mean of valid scores: 0.92349\n"
     ]
    }
   ],
   "source": [
    "model = XGBClassifier(random_state=17, n_jobs=-1, n_estimators=80, learning_rate=0.15, reg_lambda=7.2)\n",
    "CV = Cross_Validation_XGB_optimization(metric=\"roc_auc\", algorithm_instance=model, cross_validation_instance=KFold(n_splits=5, shuffle=True, random_state=17))\n",
    "for gamma in np.linspace(0.1, 3, 15):\n",
    "    mean_of_train_scores, mean_of_valid_scores = CV.fit(X=X_train, y=y_train, verbose=False, gamma=gamma)\n",
    "    print(\"gamma: {}; Mean of train scores: {}; Mean of valid scores: {}\".format(gamma, np.round(mean_of_train_scores, 5), np.round(mean_of_valid_scores, 5)))"
   ]
  },
  {
   "cell_type": "markdown",
   "metadata": {},
   "source": [
    "$\\text{Best valid scores are obtained for } \\gamma \\approx 2.18$"
   ]
  },
  {
   "cell_type": "markdown",
   "metadata": {},
   "source": [
    "$max\\_depth \\ [int]: \\text{ is used to control the depth of the tree (its downward expansion).}$<p>\n",
    "$\\text{The greater the depth of the tree, the greater the likelihood of overfitting.}$<p>\n",
    "$\\text{On the other hand, too low depth can lead to underfitting.}$"
   ]
  },
  {
   "cell_type": "code",
   "execution_count": 15,
   "metadata": {},
   "outputs": [
    {
     "name": "stdout",
     "output_type": "stream",
     "text": [
      "max_depth: 2; Mean of train scores: 0.91359; Mean of valid scores: 0.90465\n",
      "max_depth: 3; Mean of train scores: 0.92996; Mean of valid scores: 0.91477\n",
      "max_depth: 4; Mean of train scores: 0.94185; Mean of valid scores: 0.91968\n",
      "max_depth: 5; Mean of train scores: 0.9518; Mean of valid scores: 0.9221\n",
      "max_depth: 6; Mean of train scores: 0.96003; Mean of valid scores: 0.92503\n",
      "max_depth: 7; Mean of train scores: 0.96548; Mean of valid scores: 0.92393\n",
      "max_depth: 8; Mean of train scores: 0.96694; Mean of valid scores: 0.92367\n",
      "max_depth: 9; Mean of train scores: 0.97487; Mean of valid scores: 0.92367\n"
     ]
    }
   ],
   "source": [
    "model = XGBClassifier(random_state=17, n_jobs=-1, n_estimators=80, learning_rate=0.15, reg_lambda=7.2, gamma=2.18)\n",
    "CV = Cross_Validation_XGB_optimization(metric=\"roc_auc\", algorithm_instance=model, cross_validation_instance=KFold(n_splits=5, shuffle=True, random_state=17))\n",
    "for max_depth in range(2, 10, 1):\n",
    "    mean_of_train_scores, mean_of_valid_scores = CV.fit(X=X_train, y=y_train, verbose=False, max_depth=max_depth)\n",
    "    print(\"max_depth: {}; Mean of train scores: {}; Mean of valid scores: {}\".format(max_depth, np.round(mean_of_train_scores, 5), np.round(mean_of_valid_scores, 5)))"
   ]
  },
  {
   "cell_type": "markdown",
   "metadata": {},
   "source": [
    "$\\text{The biggest valid score was obtained for } max\\_depth=6$"
   ]
  },
  {
   "cell_type": "markdown",
   "metadata": {},
   "source": [
    "$colsample\\_bytree \\ [float]: \\text{ the ratio of features when constructing each tree.}$<p>\n",
    "$\\text{It is simmilar to } max\\_features \\text{ parameter in RandomForest.}$<p>\n",
    "$\\text{The fewer variables to check, the shorter the compilation.}$<p>\n",
    "$\\text{On the other hand, probability increases that we will not choose the most optimal variable at a given node,}$<p>\n",
    "$\\text{which can reduce the effectiveness of the algorithm.}$"
   ]
  },
  {
   "cell_type": "code",
   "execution_count": 16,
   "metadata": {},
   "outputs": [
    {
     "name": "stdout",
     "output_type": "stream",
     "text": [
      "colsample_bytree: 0.5; Mean of train scores: 0.95438; Mean of valid scores: 0.92245\n",
      "colsample_bytree: 0.5555555555555556; Mean of train scores: 0.95438; Mean of valid scores: 0.92245\n",
      "colsample_bytree: 0.6111111111111112; Mean of train scores: 0.95634; Mean of valid scores: 0.92246\n",
      "colsample_bytree: 0.6666666666666666; Mean of train scores: 0.95748; Mean of valid scores: 0.92368\n",
      "colsample_bytree: 0.7222222222222222; Mean of train scores: 0.95763; Mean of valid scores: 0.92358\n",
      "colsample_bytree: 0.7777777777777778; Mean of train scores: 0.9574; Mean of valid scores: 0.92355\n",
      "colsample_bytree: 0.8333333333333333; Mean of train scores: 0.95873; Mean of valid scores: 0.92372\n",
      "colsample_bytree: 0.8888888888888888; Mean of train scores: 0.95897; Mean of valid scores: 0.92362\n",
      "colsample_bytree: 0.9444444444444444; Mean of train scores: 0.959; Mean of valid scores: 0.9241\n",
      "colsample_bytree: 1.0; Mean of train scores: 0.96003; Mean of valid scores: 0.92503\n"
     ]
    }
   ],
   "source": [
    "model = XGBClassifier(random_state=17, n_jobs=-1, n_estimators=80, learning_rate=0.15, reg_lambda=7.2, gamma=2.18, max_depth=6)\n",
    "CV = Cross_Validation_XGB_optimization(metric=\"roc_auc\", algorithm_instance=model, cross_validation_instance=KFold(n_splits=5, shuffle=True, random_state=17))\n",
    "for colsample_bytree in np.linspace(0.5, 1, 10):\n",
    "    mean_of_train_scores, mean_of_valid_scores = CV.fit(X=X_train, y=y_train, verbose=False, colsample_bytree=colsample_bytree)\n",
    "    print(\"colsample_bytree: {}; Mean of train scores: {}; Mean of valid scores: {}\".format(colsample_bytree, np.round(mean_of_train_scores, 5), np.round(mean_of_valid_scores, 5)))"
   ]
  },
  {
   "cell_type": "markdown",
   "metadata": {},
   "source": [
    "$\\text{The biggest valid score was obtained for } colsample\\_bytree=1$"
   ]
  },
  {
   "cell_type": "markdown",
   "metadata": {},
   "source": [
    "$subsample \\ [float]: \\text{ fraction of samples to be used for fitting the individual estimator.}$<p>\n",
    "$subsample=1 \\text{ means that we are taking all samples into account while fitting estimator.}$<p>\n",
    "$subsample<1 \\text{ leads to a reduction of variance, but increase in bias.}$<p>\n",
    "$\\text{This parameter is kinda simmilar to bootstrap in Random Forest.}$<p>\n",
    "$\\text{However, subsample limits the number of samples, i.e. we will only train } sumbsample*N \\text{ training samples.}$<p>\n",
    "$\\text{On the other hand, bootstrap makes us take copies of some observations, while there are still } N \\text{ samples.}$"
   ]
  },
  {
   "cell_type": "code",
   "execution_count": 17,
   "metadata": {},
   "outputs": [
    {
     "name": "stdout",
     "output_type": "stream",
     "text": [
      "subsample: 0.4; Mean of train scores: 0.95196; Mean of valid scores: 0.91994\n",
      "subsample: 0.4666666666666667; Mean of train scores: 0.95437; Mean of valid scores: 0.92046\n",
      "subsample: 0.5333333333333333; Mean of train scores: 0.95689; Mean of valid scores: 0.92116\n",
      "subsample: 0.6000000000000001; Mean of train scores: 0.95867; Mean of valid scores: 0.9217\n",
      "subsample: 0.6666666666666667; Mean of train scores: 0.95957; Mean of valid scores: 0.92268\n",
      "subsample: 0.7333333333333334; Mean of train scores: 0.96094; Mean of valid scores: 0.9235\n",
      "subsample: 0.8; Mean of train scores: 0.96199; Mean of valid scores: 0.92412\n",
      "subsample: 0.8666666666666667; Mean of train scores: 0.96211; Mean of valid scores: 0.92327\n",
      "subsample: 0.9333333333333333; Mean of train scores: 0.96215; Mean of valid scores: 0.92361\n",
      "subsample: 1.0; Mean of train scores: 0.96003; Mean of valid scores: 0.92503\n"
     ]
    }
   ],
   "source": [
    "model = XGBClassifier(random_state=17, n_jobs=-1, n_estimators=80, learning_rate=0.15, reg_lambda=7.2, gamma=2.18, max_depth=6, colsample_bytree=1)\n",
    "CV = Cross_Validation_XGB_optimization(metric=\"roc_auc\", algorithm_instance=model, cross_validation_instance=KFold(n_splits=5, shuffle=True, random_state=17))\n",
    "for subsample in np.linspace(0.4, 1.0, 10):\n",
    "    mean_of_train_scores, mean_of_valid_scores = CV.fit(X=X_train, y=y_train, verbose=False, subsample=subsample)\n",
    "    print(\"subsample: {}; Mean of train scores: {}; Mean of valid scores: {}\".format(subsample, np.round(mean_of_train_scores, 5), np.round(mean_of_valid_scores, 5)))"
   ]
  },
  {
   "cell_type": "markdown",
   "metadata": {},
   "source": [
    "$\\text{The biggest valid score was obtained for } subsample=1$"
   ]
  },
  {
   "cell_type": "markdown",
   "metadata": {},
   "source": [
    "$ min\\_child\\_weight \\ [float]: \\text{the minimum sum of weights (hessian) of all observations in child node.}$<p>\n",
    "$\\text{Split will take place if: } Cover\\_left\\geq min\\_child\\_weight\\land Cover\\_right\\geq min\\_child\\_weight$<p>\n",
    "$\\text{Thus, the higher the value the model is more conservative.}$"
   ]
  },
  {
   "cell_type": "code",
   "execution_count": 18,
   "metadata": {},
   "outputs": [
    {
     "name": "stdout",
     "output_type": "stream",
     "text": [
      "min_child_weight: 1.0; Mean of train scores: 0.96003; Mean of valid scores: 0.92503\n",
      "min_child_weight: 1.2222222222222223; Mean of train scores: 0.9605; Mean of valid scores: 0.92448\n",
      "min_child_weight: 1.4444444444444444; Mean of train scores: 0.95859; Mean of valid scores: 0.92371\n",
      "min_child_weight: 1.6666666666666665; Mean of train scores: 0.96004; Mean of valid scores: 0.92331\n",
      "min_child_weight: 1.8888888888888888; Mean of train scores: 0.9597; Mean of valid scores: 0.92401\n",
      "min_child_weight: 2.111111111111111; Mean of train scores: 0.9592; Mean of valid scores: 0.92363\n",
      "min_child_weight: 2.333333333333333; Mean of train scores: 0.95682; Mean of valid scores: 0.92354\n",
      "min_child_weight: 2.5555555555555554; Mean of train scores: 0.95839; Mean of valid scores: 0.92341\n",
      "min_child_weight: 2.7777777777777777; Mean of train scores: 0.9592; Mean of valid scores: 0.92395\n",
      "min_child_weight: 3.0; Mean of train scores: 0.95713; Mean of valid scores: 0.92324\n"
     ]
    }
   ],
   "source": [
    "model = XGBClassifier(random_state=17, n_jobs=-1, n_estimators=80, learning_rate=0.15, reg_lambda=7.2, gamma=2.18, max_depth=6, colsample_bytree=1, subsample=1)\n",
    "CV = Cross_Validation_XGB_optimization(metric=\"roc_auc\", algorithm_instance=model, cross_validation_instance=KFold(n_splits=5, shuffle=True, random_state=17))\n",
    "for min_child_weight in np.linspace(1, 3, 10):\n",
    "    mean_of_train_scores, mean_of_valid_scores = CV.fit(X=X_train, y=y_train, verbose=False, min_child_weight=min_child_weight)\n",
    "    print(\"min_child_weight: {}; Mean of train scores: {}; Mean of valid scores: {}\".format(min_child_weight, np.round(mean_of_train_scores, 5), np.round(mean_of_valid_scores, 5)))"
   ]
  },
  {
   "cell_type": "markdown",
   "metadata": {},
   "source": [
    "$\\text{The biggest valid score was obtained for } min\\_child\\_weight=1$"
   ]
  },
  {
   "cell_type": "markdown",
   "metadata": {},
   "source": [
    "$scale\\_pos\\_weight \\ [float]: \\text{ control the frequency of each class in the dataset.}$<p>\n",
    "$\\text{It should be ratio of: } \\frac{number\\_of\\_negative\\_classes}{number\\_of\\_positive\\_classes}$<p>\n",
    "$\\text{Simmilar to } class\\_weight \\text{ parameter in RandomForest.}$"
   ]
  },
  {
   "cell_type": "code",
   "execution_count": 19,
   "metadata": {},
   "outputs": [
    {
     "name": "stdout",
     "output_type": "stream",
     "text": [
      "scale_pos_weight: 1.0; Mean of train scores: 0.96003; Mean of valid scores: 0.92503\n",
      "scale_pos_weight: 1.25; Mean of train scores: 0.96285; Mean of valid scores: 0.92411\n",
      "scale_pos_weight: 1.5; Mean of train scores: 0.96357; Mean of valid scores: 0.92433\n",
      "scale_pos_weight: 1.75; Mean of train scores: 0.96444; Mean of valid scores: 0.92355\n",
      "scale_pos_weight: 2.0; Mean of train scores: 0.96327; Mean of valid scores: 0.92348\n",
      "scale_pos_weight: 1.1193923569902682; Mean of train scores: 0.96067; Mean of valid scores: 0.92335\n"
     ]
    }
   ],
   "source": [
    "model = XGBClassifier(random_state=17, n_jobs=-1, n_estimators=80, learning_rate=0.15, reg_lambda=7.2, gamma=2.18, max_depth=6, colsample_bytree=1, subsample=1, min_child_weight=1)\n",
    "CV = Cross_Validation_XGB_optimization(metric=\"roc_auc\", algorithm_instance=model, cross_validation_instance=KFold(n_splits=5, shuffle=True, random_state=17))\n",
    "scale_pos_weight_list = list(np.linspace(1, 2, 5))\n",
    "scale_pos_weight_list.append(y_train.value_counts()[0]/y_train.value_counts()[1])\n",
    "for scale_pos_weight in scale_pos_weight_list:\n",
    "    mean_of_train_scores, mean_of_valid_scores = CV.fit(X=X_train, y=y_train, verbose=False, scale_pos_weight=scale_pos_weight)\n",
    "    print(\"scale_pos_weight: {}; Mean of train scores: {}; Mean of valid scores: {}\".format(scale_pos_weight, np.round(mean_of_train_scores, 5), np.round(mean_of_valid_scores, 5)))"
   ]
  },
  {
   "cell_type": "markdown",
   "metadata": {},
   "source": [
    "$\\text{The biggest valid score was obtained for } scale\\_pos\\_weight=1$"
   ]
  },
  {
   "cell_type": "markdown",
   "metadata": {},
   "source": [
    "<h1>Evaluation and Visualization<h1>"
   ]
  },
  {
   "cell_type": "code",
   "execution_count": 20,
   "metadata": {},
   "outputs": [
    {
     "name": "stdout",
     "output_type": "stream",
     "text": [
      "Balance accuracy score: 0.85673\n",
      "Roc AUC score: 0.9206\n",
      "+--------------+-------------+----------+------------+-------------+\n",
      "|              |   precision |   recall |   f1-score |     support |\n",
      "|--------------+-------------+----------+------------+-------------|\n",
      "| 0.0          |    0.866142 | 0.855661 |   0.86087  | 1157        |\n",
      "| 1.0          |    0.846789 | 0.857807 |   0.852262 | 1076        |\n",
      "| accuracy     |    0.856695 | 0.856695 |   0.856695 |    0.856695 |\n",
      "| macro avg    |    0.856465 | 0.856734 |   0.856566 | 2233        |\n",
      "| weighted avg |    0.856816 | 0.856695 |   0.856722 | 2233        |\n",
      "+--------------+-------------+----------+------------+-------------+\n"
     ]
    }
   ],
   "source": [
    "print(\"Balance accuracy score: {}\".format(np.round(balanced_accuracy_score(y_true=y_test, y_pred=base_predictions), 5)))\n",
    "print(\"Roc AUC score: {}\".format(np.round(roc_auc_score(y_true=y_test, y_score=base_probabilities), 5)))\n",
    "report = classification_report(y_test, base_predictions, output_dict=True)\n",
    "df = pd.DataFrame(report).transpose()\n",
    "print(tabulate(df, headers=\"keys\", tablefmt = 'psql'))"
   ]
  },
  {
   "cell_type": "code",
   "execution_count": 21,
   "metadata": {},
   "outputs": [
    {
     "data": {
      "image/png": "[encoded data removed]"
     },
     "metadata": {},
     "output_type": "display_data"
    }
   ],
   "source": [
    "Plots_predictions.roc_auc_plot(y_true=y_test, y_prob=base_probabilities)"
   ]
  },
  {
   "cell_type": "markdown",
   "metadata": {},
   "source": [
    "$\\text{Final estimator: } n\\_estimators=80, \\ learning\\_rate=0.15, \\ reg\\_lambda=7.2, \\ gamma=2.18, \\ max\\_depth=6, \\ colsample\\_bytree=1, \\ subsample=1, \\ min\\_child\\_weight=1, \\ scale\\_pos\\_weight=1$"
   ]
  },
  {
   "cell_type": "code",
   "execution_count": 22,
   "metadata": {},
   "outputs": [
    {
     "name": "stdout",
     "output_type": "stream",
     "text": [
      "Balance accuracy score: 0.86427\n",
      "Roc AUC score: 0.9301\n",
      "+--------------+-------------+----------+------------+------------+\n",
      "|              |   precision |   recall |   f1-score |    support |\n",
      "|--------------+-------------+----------+------------+------------|\n",
      "| 0.0          |    0.880464 | 0.853068 |   0.86655  | 1157       |\n",
      "| 1.0          |    0.847122 | 0.875465 |   0.86106  | 1076       |\n",
      "| accuracy     |    0.86386  | 0.86386  |   0.86386  |    0.86386 |\n",
      "| macro avg    |    0.863793 | 0.864266 |   0.863805 | 2233       |\n",
      "| weighted avg |    0.864398 | 0.86386  |   0.863905 | 2233       |\n",
      "+--------------+-------------+----------+------------+------------+\n"
     ]
    }
   ],
   "source": [
    "final_algorithm_optimized = XGBClassifier(random_state=17, n_jobs=-1, n_estimators=80, learning_rate=0.15, reg_lambda=7.2, gamma=2.18, max_depth=6, colsample_bytree=1, subsample=1, min_child_weight=1, scale_pos_weight=1)\n",
    "final_algorithm_optimized.fit(X_train, np.array(y_train).squeeze())\n",
    "y_pred_final_optimized = final_algorithm_optimized.predict(X_test)\n",
    "y_prob_final_optimized = final_algorithm_optimized.predict_proba(X_test)[:, 1]\n",
    "print(\"Balance accuracy score: {}\".format(np.round(balanced_accuracy_score(y_true=y_test, y_pred=y_pred_final_optimized), 5)))\n",
    "print(\"Roc AUC score: {}\".format(np.round(roc_auc_score(y_true=y_test, y_score=y_prob_final_optimized), 5)))\n",
    "report = classification_report(y_test, y_pred_final_optimized, output_dict=True)\n",
    "df = pd.DataFrame(report).transpose()\n",
    "print(tabulate(df, headers=\"keys\", tablefmt = 'psql'))"
   ]
  },
  {
   "cell_type": "code",
   "execution_count": 23,
   "metadata": {},
   "outputs": [
    {
     "data": {
      "image/png": "[encoded data removed]"
     },
     "metadata": {},
     "output_type": "display_data"
    }
   ],
   "source": [
    "Plots_predictions.roc_auc_plot(y_true=y_test, y_prob=y_prob_final_optimized)"
   ]
  },
  {
   "cell_type": "markdown",
   "metadata": {},
   "source": [
    "$\\text{As we can see hyperparameter tuning have improved the effectiveness of the XGBoost!}$"
   ]
  },
  {
   "cell_type": "markdown",
   "metadata": {},
   "source": [
    "<h2>XGBoost Regressor<h2>"
   ]
  },
  {
   "cell_type": "markdown",
   "metadata": {},
   "source": [
    "$\\textbf{Loss function:}$<p><br>\n",
    "$\\text{The default loss function for XGBoost is } squared\\_error:$\n",
    "$$squared\\_error\\left(y_i,{\\hat{y}}_i\\right)=\\left(y_i-{\\hat{y}}_i\\right)^2$$\n",
    "$${gradient}_i=\\frac{\\partial}{\\partial{\\hat{y}}_i}\\left(squared\\_error\\left(y_i,{\\hat{y}}_i\\right)\\right)=-2\\times\\left(y_i-\\widehat{y_i}\\right)$$\n",
    "$${hessian}_i=\\frac{\\partial^2}{\\partial{\\hat{y}}_i}\\left(squared\\_error\\left(y_i,{\\hat{y}}_i\\right)\\right)=2$$\n",
    "$\\textbf{Initial value:}$<p><br>\n",
    "$\\text{For regression base prediction is initialized to } 0.5:$\n",
    "$$Estimator_0\\left(X\\right)=0.5$$\n",
    "$\\textbf{Simmilarity:}$<p><br>\n",
    "$\\text{Totally (in case multiple values end up in a leaf):}$\n",
    "$$Simmilarity=\\frac{1}{2}\\times\\frac{gradient^2}{hessian+\\lambda}=\\frac{1}{2}\\times\\frac{\\left(-2\\times\\sum_{i\\in l e a f\\_node}\\left(y_i-{\\hat{y}}_i\\right)\\right)^2}{2\\times N_{leaf\\_node}+\\lambda}$$\n",
    "$\\text{Remember that } {\\hat{y}}_i \\text{ – prediction from the previous estimator, which is in fact } Estimator_{t-1}\\left(X_i\\right).$<p>\n",
    "$\\textbf{Determing the optimal value } O:$\n",
    "$$O=-\\frac{gradient}{hessian+\\lambda}=-\\frac{\\sum_{i\\in l e a f\\_node}{-\\left(y_i-\\frac{1}{1+e^{-{\\hat{y}}_i}}\\right)}}{\\sum_{i\\in l e a f\\_node}\\left(\\frac{1}{1+e^{-{\\hat{y}}_i}}\\times\\frac{1}{1+e^{{\\hat{y}}_i}}\\right)+\\lambda}=$$\n",
    "$$=\\frac{\\sum_{i\\in l e a f\\_node}\\left(y_i-\\frac{1}{1+e^{-{\\hat{y}}_i}}\\right)}{\\sum_{i\\in l e a f\\_node}\\left(\\frac{1}{1+e^{-{\\hat{y}}_i}}\\times\\frac{1}{1+e^{{\\hat{y}}_i}}\\right)+\\lambda}$$\n",
    "$\\text{Where: } N_{leaf\\_node} \\text{– the number of observations that fell into a given leaf.}$"
   ]
  },
  {
   "cell_type": "markdown",
   "metadata": {},
   "source": [
    "<h2>Download data<h2>"
   ]
  },
  {
   "cell_type": "code",
   "execution_count": 24,
   "metadata": {},
   "outputs": [],
   "source": [
    "data = pd.read_csv(\"Data/Sales.csv\")\n",
    "X = data.drop(\"Sales\", axis=1)\n",
    "y = data[\"Sales\"]"
   ]
  },
  {
   "cell_type": "code",
   "execution_count": 25,
   "metadata": {},
   "outputs": [
    {
     "name": "stdout",
     "output_type": "stream",
     "text": [
      "Number of observations in data: 4572\n"
     ]
    },
    {
     "data": {
      "text/html": [
       "<div>\n",
       "<style scoped>\n",
       "    .dataframe tbody tr th:only-of-type {\n",
       "        vertical-align: middle;\n",
       "    }\n",
       "\n",
       "    .dataframe tbody tr th {\n",
       "        vertical-align: top;\n",
       "    }\n",
       "\n",
       "    .dataframe thead th {\n",
       "        text-align: right;\n",
       "    }\n",
       "</style>\n",
       "<table border=\"1\" class=\"dataframe\">\n",
       "  <thead>\n",
       "    <tr style=\"text-align: right;\">\n",
       "      <th></th>\n",
       "      <th>TV</th>\n",
       "      <th>Radio</th>\n",
       "      <th>Social Media</th>\n",
       "      <th>Influencer</th>\n",
       "      <th>Sales</th>\n",
       "    </tr>\n",
       "  </thead>\n",
       "  <tbody>\n",
       "    <tr>\n",
       "      <th>0</th>\n",
       "      <td>16.0</td>\n",
       "      <td>6.566231</td>\n",
       "      <td>2.907983</td>\n",
       "      <td>Mega</td>\n",
       "      <td>54.732757</td>\n",
       "    </tr>\n",
       "    <tr>\n",
       "      <th>1</th>\n",
       "      <td>13.0</td>\n",
       "      <td>9.237765</td>\n",
       "      <td>2.409567</td>\n",
       "      <td>Mega</td>\n",
       "      <td>46.677897</td>\n",
       "    </tr>\n",
       "    <tr>\n",
       "      <th>2</th>\n",
       "      <td>41.0</td>\n",
       "      <td>15.886446</td>\n",
       "      <td>2.913410</td>\n",
       "      <td>Mega</td>\n",
       "      <td>150.177829</td>\n",
       "    </tr>\n",
       "    <tr>\n",
       "      <th>3</th>\n",
       "      <td>83.0</td>\n",
       "      <td>30.020028</td>\n",
       "      <td>6.922304</td>\n",
       "      <td>Mega</td>\n",
       "      <td>298.246340</td>\n",
       "    </tr>\n",
       "    <tr>\n",
       "      <th>4</th>\n",
       "      <td>15.0</td>\n",
       "      <td>8.437408</td>\n",
       "      <td>1.405998</td>\n",
       "      <td>Micro</td>\n",
       "      <td>56.594181</td>\n",
       "    </tr>\n",
       "  </tbody>\n",
       "</table>\n",
       "</div>"
      ],
      "text/plain": [
       "     TV      Radio  Social Media Influencer       Sales\n",
       "0  16.0   6.566231      2.907983       Mega   54.732757\n",
       "1  13.0   9.237765      2.409567       Mega   46.677897\n",
       "2  41.0  15.886446      2.913410       Mega  150.177829\n",
       "3  83.0  30.020028      6.922304       Mega  298.246340\n",
       "4  15.0   8.437408      1.405998      Micro   56.594181"
      ]
     },
     "execution_count": 25,
     "metadata": {},
     "output_type": "execute_result"
    }
   ],
   "source": [
    "print(\"Number of observations in data: {}\".format(len(data)))\n",
    "data.head()"
   ]
  },
  {
   "cell_type": "markdown",
   "metadata": {},
   "source": [
    "<h2>Check for null data<h2>"
   ]
  },
  {
   "cell_type": "code",
   "execution_count": 26,
   "metadata": {},
   "outputs": [
    {
     "data": {
      "text/plain": [
       "TV              0.002187\n",
       "Radio           0.000875\n",
       "Social Media    0.001312\n",
       "Influencer      0.000000\n",
       "Sales           0.001312\n",
       "dtype: float64"
      ]
     },
     "execution_count": 26,
     "metadata": {},
     "output_type": "execute_result"
    }
   ],
   "source": [
    "data.isnull().sum()/len(data)"
   ]
  },
  {
   "cell_type": "code",
   "execution_count": 27,
   "metadata": {},
   "outputs": [],
   "source": [
    "data.dropna(inplace=True)"
   ]
  },
  {
   "cell_type": "markdown",
   "metadata": {},
   "source": [
    "<h2>Convert object to numeric<h2>"
   ]
  },
  {
   "cell_type": "code",
   "execution_count": 28,
   "metadata": {},
   "outputs": [],
   "source": [
    "list_of_object_features = data.select_dtypes(include=\"object\").columns.tolist()\n",
    "list_of_numeric_features = data.select_dtypes(exclude=\"object\").columns.tolist()\n",
    "encoder = OrdinalEncoder()\n",
    "data[list_of_object_features] = encoder.fit_transform(data[list_of_object_features])"
   ]
  },
  {
   "cell_type": "markdown",
   "metadata": {},
   "source": [
    "<h2>Divide our data into train and test sets<h2>"
   ]
  },
  {
   "cell_type": "code",
   "execution_count": 29,
   "metadata": {},
   "outputs": [],
   "source": [
    "target_binary = \"Sales\"\n",
    "X = data.drop(target_binary, axis=1)\n",
    "y = data[[target_binary]]\n",
    "X_train, X_test, y_train, y_test = train_test_split(X, y, shuffle=True, random_state=17, test_size=0.2)"
   ]
  },
  {
   "cell_type": "markdown",
   "metadata": {},
   "source": [
    "<h1>Evaluation and Visualization<h1>"
   ]
  },
  {
   "cell_type": "code",
   "execution_count": 30,
   "metadata": {},
   "outputs": [
    {
     "data": {
      "image/png": "[encoded data removed]"
     },
     "metadata": {},
     "output_type": "display_data"
    }
   ],
   "source": [
    "model = XGBoost_Regressor(n_estimators=100, learning_rate=0.3, random_state=17)\n",
    "model.fit(X_train, y_train)\n",
    "y_pred = model.predict(X_test)\n",
    "Plots_predictions.compare_predictions_with_real_values(y_true=y_test, y_pred=y_pred, metric=\"MSE\")"
   ]
  },
  {
   "cell_type": "markdown",
   "metadata": {},
   "source": [
    "<h2>Features importance<h2>"
   ]
  },
  {
   "cell_type": "markdown",
   "metadata": {},
   "source": [
    "$\\text{As with the random forest, the significance of the variables will be based on the estimators from which Ensemble was built.}$<p>\n",
    "$$feature\\_importnace_m=\\frac{\\sum_{t\\in n u m b e r\\ of\\ trees}{feature\\_importnace}_{m,t}}{number\\ of\\ trees}$$\n",
    "\n",
    "$\\text{Where: number of trees - the number of all trees in the forest,}$<p>\n",
    "${feature\\_importnace}_{m,t} \\text{ - the importance of variable } m \\text{ for tree } t.$"
   ]
  },
  {
   "cell_type": "code",
   "execution_count": 31,
   "metadata": {},
   "outputs": [
    {
     "data": {
      "image/png": "[encoded data removed]"
     },
     "metadata": {},
     "output_type": "display_data"
    }
   ],
   "source": [
    "Plots_predictions.plot_feature_importances(feature_importances=list(model.normalized_feature_importances.values()), column_names=X.columns.tolist())"
   ]
  }
 ],
 "metadata": {
  "kernelspec": {
   "display_name": "Python 3",
   "language": "python",
   "name": "python3"
  },
  "language_info": {
   "codemirror_mode": {
    "name": "ipython",
    "version": 3
   },
   "file_extension": ".py",
   "mimetype": "text/x-python",
   "name": "python",
   "nbconvert_exporter": "python",
   "pygments_lexer": "ipython3",
   "version": "3.11.3"
  },
  "orig_nbformat": 4
 },
 "nbformat": 4,
 "nbformat_minor": 2
}
